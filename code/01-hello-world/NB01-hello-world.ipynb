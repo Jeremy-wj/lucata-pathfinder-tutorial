{
 "cells": [
  {
   "cell_type": "markdown",
   "metadata": {},
   "source": [
    "# Hello World"
   ]
  },
  {
   "cell_type": "markdown",
   "metadata": {},
   "source": [
    "### Lesson Objectives\n",
    "\n",
    "Upon completing this notebook you should be able to understand and apply the following concepts:\n",
    "\n",
    "- How to set up your environment to use the Lucata toolchain to compile code\n",
    "- Understand the different Lucata tools including *emu-cc*, *emusim.x*, and various plotting helper scripts.\n",
    "- Be able to run a simple Hello World script that spawns Emu threads and then syncs the result.\n",
    "- Run a simulation with timing that generates statistics for plotting.\n",
    "- Look at and understand a simple Cilk spawn operation for the Lucata architecture."
   ]
  },
  {
   "cell_type": "markdown",
   "metadata": {},
   "source": [
    "### Environment Setup\n",
    "\n",
    "We first need to initialize our environment to use the Lucata toolchain. This toolchain allows you to compile Cilk code with x86, the Lucata simulator, and for hardware execution. Note that this notebook should load the toolchain using the included .env file, so this is just if you wanted to compile code on the command line."
   ]
  },
  {
   "cell_type": "code",
   "execution_count": 1,
   "metadata": {},
   "outputs": [
    {
     "name": "stdout",
     "output_type": "stream",
     "text": [
      "Lucata tools are added to current path from /tools/emu/pathfinder-sw/22.02\r\n"
     ]
    }
   ],
   "source": [
    "!. /tools/emu/pathfinder-sw/set-lucata-env.sh"
   ]
  },
  {
   "cell_type": "markdown",
   "metadata": {},
   "source": [
    "For this and other notebooks, we will import the following environment variables - a pointer to the user's notebook code director and a pointer to the Lucata tools"
   ]
  },
  {
   "cell_type": "code",
   "execution_count": 2,
   "metadata": {},
   "outputs": [
    {
     "name": "stdout",
     "output_type": "stream",
     "text": [
      "/nethome/jyoung9/tutorial/lucata-pathfinder-tutorial/code\n",
      "/tools/emu/pathfinder-sw/22.02/bin/emu-cc\n",
      "Lucata compilation flags are -I/tools/lucata/pathfinder-sw/22.02/include/memoryweb/ -L/tools/lucata/pathfinder-sw/22.02/lib -lmemoryweb\n"
     ]
    }
   ],
   "source": [
    "import os\n",
    "\n",
    "#Get the path to where all code samples are\n",
    "os.environ[\"USER_NOTEBOOK_CODE\"]=os.path.dirname(os.getcwd())\n",
    "os.environ[\"PATH\"]=os.pathsep.join([\"/tools/emu/pathfinder-sw/22.02/bin\",os.environ[\"PATH\"]])\n",
    "os.environ[\"FLAGS\"]=\"-I/tools/lucata/pathfinder-sw/22.02/include/memoryweb/ -L/tools/lucata/pathfinder-sw/22.02/lib -lmemoryweb\"\n",
    "\n",
    "!echo $USER_NOTEBOOK_CODE\n",
    "#Print out which Emu compiler, emu-cc, we are using\n",
    "!which emu-cc\n",
    "#Print out the compiler flags we need to use the Lucata memoryweb headers and library\n",
    "!echo \"Lucata compilation flags are $FLAGS\""
   ]
  },
  {
   "cell_type": "markdown",
   "metadata": {},
   "source": [
    "## Code Example 1 - Naive Hello World"
   ]
  },
  {
   "cell_type": "markdown",
   "metadata": {},
   "source": [
    "Here is a \"Hello, world\" example to start showing aspects of writing for the Emu. However, your first question might be related to the use of the mw_malloc1dlong array with a distributed system.\n",
    "\n",
    "Where does `ptr` itself live? Does computing `ptr[k]` cause a migration?\n",
    "\n",
    "```c\n",
    "#include <stdlib.h>\n",
    "#include <stdio.h>\n",
    "#include <string.h>\n",
    "#include <cilk.h>\n",
    "\n",
    "// These are Emu-specific.\n",
    "#include <memoryweb.h>\n",
    "#include <timing.h>\n",
    "\n",
    "static const char str[] = \"Hello, world!\";\n",
    "\n",
    "long * ptr;\n",
    "char * str_out;\n",
    "\n",
    "int main (void)\n",
    "{\n",
    "     // long is the reliable word length, 64-bits.\n",
    "     const long n = strlen (str) + 1;\n",
    "\n",
    "     ptr = mw_malloc1dlong (n); // striped across the nodelets\n",
    "     str_out = malloc (n * sizeof (char))); // entirely on the first nodelet\n",
    "\n",
    "     starttiming(); // For the simulator.  Start gathering stats here.\n",
    "\n",
    "     for (long k = 0; k < n; ++k)\n",
    "          ptr[k] = (long)str[k]; // Remote writes\n",
    "\n",
    "     for (long k = 0; k < n; ++k)\n",
    "          str_out[k] = (char)ptr[k]; // Migration and remote write...\n",
    "\n",
    "     printf(\"%s\\n\", str_out);  // Migration back\n",
    "}\n",
    "```\n",
    "\n"
   ]
  },
  {
   "cell_type": "markdown",
   "metadata": {},
   "source": [
    "###  Compilation and simulation for the Pathfinder\n",
    "We'll test compiling this example to show the syntax and then move on to a more optimized example. Note that the .mwx output can be used for simulation and execution on the Pathfinder system."
   ]
  },
  {
   "cell_type": "code",
   "execution_count": 3,
   "metadata": {},
   "outputs": [
    {
     "name": "stdout",
     "output_type": "stream",
     "text": [
      "hello-world.mwx\n",
      "hello-world-naive.mwx\n",
      "hello-world-spawn.mwx\n"
     ]
    }
   ],
   "source": [
    "%%bash\n",
    "emu-cc -o hello-world-naive.mwx $FLAGS hello-world-naive.c\n",
    "ls *.mwx"
   ]
  },
  {
   "cell_type": "code",
   "execution_count": 4,
   "metadata": {},
   "outputs": [
    {
     "name": "stdout",
     "output_type": "stream",
     "text": [
      "Start untimed simulation with local date and time= Tue Aug  2 10:43:45 2022\n",
      "\n",
      "Hello, world!\n",
      "TID0 NODE 0 DIED NODE 0 FUNC @_Exit @cycle 7319\n",
      "End untimed simulation with local date and time= Tue Aug  2 10:43:45 2022\n",
      "\n"
     ]
    },
    {
     "name": "stderr",
     "output_type": "stream",
     "text": [
      "\n",
      "        SystemC 2.3.3-Accellera --- Feb 22 2022 09:27:12\n",
      "        Copyright (c) 1996-2018 by all Contributors,\n",
      "        ALL RIGHTS RESERVED\n"
     ]
    }
   ],
   "source": [
    "%%bash\n",
    "#Run a basic simulation with memory size 2^21, one node, and the naive Hello World executable as input\n",
    "emusim.x --untimed -m 21 --total_nodes 1 -- hello-world-naive.mwx"
   ]
  },
  {
   "cell_type": "markdown",
   "metadata": {},
   "source": [
    "## Code Example 2 - Hello World with Replication\n",
    "\n",
    "With the Lucata architecture, we often want to avoid spurious migrations by replicating data across nodes so that each node has a copy of the relevant data it needs. This improved sample in `hello-world/hello-world.c`, demonstrates the usage of the `replicated` type:\n",
    "\n",
    "```c\n",
    "#include <stdlib.h>\n",
    "#include <stdio.h>\n",
    "#include <string.h>\n",
    "#include <cilk.h>\n",
    "\n",
    "// These are Emu-specific.\n",
    "#include <memoryweb.h>\n",
    "#include <timing.h>\n",
    "\n",
    "static const char str[] = \"Hello, world!\";\n",
    "\n",
    "replicated long * ptr;\n",
    "replicated char * str_out;\n",
    "\n",
    "int main (void)\n",
    "{\n",
    "     // long is the reliable word length, 64-bits.\n",
    "     const long n = strlen (str) + 1;\n",
    "\n",
    "     // Allocating a copy of data on each nodelet typically reduces migrations for commonly accessed elements \n",
    "     mw_replicated_init ((long*)&ptr, (long)mw_malloc1dlong (n));\n",
    "     mw_replicated_init ((long*)&str_out, (long)malloc (n * sizeof (char)));\n",
    "\n",
    "     starttiming(); // For the simulator.  Start gathering stats here.\n",
    "\n",
    "     for (long k = 0; k < n; ++k)\n",
    "          ptr[k] = (long)str[k]; // Remote writes\n",
    "\n",
    "     for (long k = 0; k < n; ++k)\n",
    "          str_out[k] = (char)ptr[k]; // Migration and remote write\n",
    "\n",
    "     printf(\"%s\\n\", str_out);  // Migration back\n",
    "}\n",
    "``` "
   ]
  },
  {
   "cell_type": "code",
   "execution_count": 5,
   "metadata": {},
   "outputs": [
    {
     "name": "stdout",
     "output_type": "stream",
     "text": [
      "hello-world.mwx\n",
      "hello-world-naive.mwx\n",
      "hello-world-spawn.mwx\n"
     ]
    }
   ],
   "source": [
    "%%bash\n",
    "emu-cc -o hello-world.mwx $FLAGS hello-world.c\n",
    "ls *.mwx"
   ]
  },
  {
   "cell_type": "code",
   "execution_count": 6,
   "metadata": {},
   "outputs": [
    {
     "name": "stdout",
     "output_type": "stream",
     "text": [
      "Start untimed simulation with local date and time= Tue Aug  2 10:43:47 2022\n",
      "\n",
      "End untimed simulation with local date and time= Tue Aug  2 10:43:47 2022\n",
      "\n",
      "SysC Enumeration done. Program launching...\n",
      "Simulation @0 s with local date and time= Tue Aug  2 10:43:47 2022\n",
      "\n",
      "Hello, world!\n",
      "\n",
      "Info: /OSCI/SystemC: Simulation stopped by user.\n"
     ]
    },
    {
     "name": "stderr",
     "output_type": "stream",
     "text": [
      "\n",
      "        SystemC 2.3.3-Accellera --- Feb 22 2022 09:27:12\n",
      "        Copyright (c) 1996-2018 by all Contributors,\n",
      "        ALL RIGHTS RESERVED\n"
     ]
    }
   ],
   "source": [
    "%%bash\n",
    "emusim.x -m 21 --total_nodes 1 -- hello-world.mwx"
   ]
  },
  {
   "cell_type": "markdown",
   "metadata": {},
   "source": [
    "## Hello World Spawn Example\n",
    "\n",
    "That example kept one thread alive and migrating between nodelets.  This one, hello-world-spawn.c, uses Cilk's thread spawning intrinsic:\n",
    "\n",
    "```c\n",
    "#include <stdlib.h>\n",
    "#include <stdio.h>\n",
    "#include <string.h>\n",
    "#include <cilk.h>\n",
    "\n",
    "#include <memoryweb.h>\n",
    "#include <timing.h>\n",
    "\n",
    "const char str[] = \"Hello, world!\";\n",
    "\n",
    "static inline void copy_ptr (char *pc, const long *pl) { *pc = (char)*pl; }\n",
    "\n",
    "replicated long * ptr;\n",
    "replicated char * str_out;\n",
    "\n",
    "int main (void)\n",
    "{\n",
    "     long n = strlen (str) + 1;\n",
    "\n",
    "     mw_replicated_init ((long*)&ptr, (long)mw_malloc1dlong (n));\n",
    "     mw_replicated_init ((long*)&str_out, (long)malloc (n * sizeof (char)));\n",
    "\n",
    "     starttiming();\n",
    "\n",
    "     for (long k = 0; k < n; ++k)\n",
    "          ptr[k] = (long)str[k]; // Remote writes\n",
    "\n",
    "     for (long k = 0; k < n; ++k)\n",
    "          cilk_spawn copy_ptr (&str_out[k], &ptr[k]);\n",
    "\n",
    "     printf(\"%s\\n\", str_out);  // Migration back\n",
    "}\n",
    "```"
   ]
  },
  {
   "cell_type": "code",
   "execution_count": 7,
   "metadata": {},
   "outputs": [
    {
     "name": "stdout",
     "output_type": "stream",
     "text": [
      "Start untimed simulation with local date and time= Tue Aug  2 10:43:50 2022\n",
      "\n",
      "End untimed simulation with local date and time= Tue Aug  2 10:43:50 2022\n",
      "\n",
      "SysC Enumeration done. Program launching...\n",
      "Simulation @0 s with local date and time= Tue Aug  2 10:43:50 2022\n",
      "\n",
      "Hello, world!\n",
      "\n",
      "Info: /OSCI/SystemC: Simulation stopped by user.\n",
      "hello-world-spawn-at.c\n",
      "hello-world-spawn.c\n",
      "hello-world-spawn.cdc\n",
      "hello-world-spawn.mps\n",
      "hello-world-spawn.mwx\n",
      "hello-world-spawn.uis\n",
      "hello-world-spawn.vsf\n"
     ]
    },
    {
     "name": "stderr",
     "output_type": "stream",
     "text": [
      "\n",
      "        SystemC 2.3.3-Accellera --- Feb 22 2022 09:27:12\n",
      "        Copyright (c) 1996-2018 by all Contributors,\n",
      "        ALL RIGHTS RESERVED\n"
     ]
    }
   ],
   "source": [
    "%%bash\n",
    "\n",
    "emu-cc -o hello-world-spawn.mwx $FLAGS hello-world-spawn.c\n",
    "emusim.x --untimed -m 21 --total_nodes 1 -- hello-world-spawn.mwx\n",
    "ls hello-world-spawn*"
   ]
  },
  {
   "cell_type": "markdown",
   "metadata": {},
   "source": [
    "Then we can compare the output of the normal Hello World and the Spawn Hello World for the statistics that are different."
   ]
  },
  {
   "cell_type": "code",
   "execution_count": 8,
   "metadata": {},
   "outputs": [
    {
     "name": "stdout",
     "output_type": "stream",
     "text": [
      "rm -f *.mwx *.tqd *.cdc *.vsf *.mps; \\\r\n",
      "./helpers/backup_imgs.sh\r\n"
     ]
    }
   ],
   "source": [
    "!make clean"
   ]
  }
 ],
 "metadata": {
  "kernelspec": {
   "display_name": "Python 3",
   "language": "python",
   "name": "python3"
  },
  "language_info": {
   "codemirror_mode": {
    "name": "ipython",
    "version": 3
   },
   "file_extension": ".py",
   "mimetype": "text/x-python",
   "name": "python",
   "nbconvert_exporter": "python",
   "pygments_lexer": "ipython3",
   "version": "3.6.9"
  }
 },
 "nbformat": 4,
 "nbformat_minor": 4
}
