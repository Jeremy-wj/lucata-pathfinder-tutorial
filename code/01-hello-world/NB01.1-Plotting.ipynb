{
 "cells": [
  {
   "cell_type": "markdown",
   "metadata": {},
   "source": [
    "# Understanding Lucata Plotting Tools"
   ]
  },
  {
   "cell_type": "markdown",
   "metadata": {},
   "source": [
    "### Lesson Objectives\n",
    "\n",
    "Upon completing this notebook you should be able to understand and apply the following concepts:\n",
    "\n",
    "1) Run a simulation with timing that generates statistics for plotting.  \n",
    "2) Evaluate the outputs from plotting scripts.  \n",
    "3) Look at two different kinds of spawn primitives and compare them using their plots.  "
   ]
  },
  {
   "cell_type": "markdown",
   "metadata": {},
   "source": [
    "### Environment Setup"
   ]
  },
  {
   "cell_type": "code",
   "execution_count": null,
   "metadata": {},
   "outputs": [],
   "source": [
    "#As with the previous notebook we set up the environment for tools to be used in this notebook. From the command line you can source the ../.env script.\n",
    "import os\n",
    "\n",
    "#Set the path to the latest toolset \n",
    "LUCATA_BASE=\"/tools/emu/pathfinder-sw/22.09-beta\" \n",
    "\n",
    "os.environ[\"USER_NOTEBOOK_CODE\"]=os.path.dirname(os.getcwd())\n",
    "os.environ[\"PATH\"]=os.pathsep.join([os.path.join(LUCATA_BASE,\"bin\"),os.environ[\"PATH\"]])\n",
    "os.environ[\"FLAGS\"]=\"-I\"+LUCATA_BASE+\"/include/\"+\" -L\"+LUCATA_BASE+\"/lib -lmemoryweb\""
   ]
  },
  {
   "cell_type": "markdown",
   "metadata": {},
   "source": [
    "### Running Simulations for Profiling  \n",
    "\n",
    "First we build all versions of `hello-world-*.c`. Then we will demonstrate how to run simulations and run each step of the profiling meta-script, `emusim_profile`."
   ]
  },
  {
   "cell_type": "code",
   "execution_count": null,
   "metadata": {},
   "outputs": [],
   "source": [
    "%%bash\n",
    "set -x\n",
    "ls -l hello-world*.c\n",
    ". ../.env\n",
    "make all\n",
    "set +x"
   ]
  },
  {
   "cell_type": "markdown",
   "metadata": {},
   "source": [
    "Manually run the simulator and generate all the plots."
   ]
  },
  {
   "cell_type": "code",
   "execution_count": null,
   "metadata": {},
   "outputs": [],
   "source": [
    "%%bash\n",
    "set -x;\n",
    "mkdir -p manual_plots;\n",
    "cd manual_plots;\n",
    "emusim.x --capture_timing_queues -m 24 --total_nodes 2 --output_instruction_count -- ../hello-world.mwx;\n",
    "make_tqd_plots.py hello-world.tqd;\n",
    "make_map_plots.py hello-world.mps;\n",
    "make_uis_plots.py hello-world.uis;\n",
    "make_hpc_plots.py -f hello-world.hpc;\n",
    "set +x;"
   ]
  },
  {
   "cell_type": "code",
   "execution_count": null,
   "metadata": {
    "scrolled": false
   },
   "outputs": [],
   "source": [
    "from IPython.display import Image, display\n",
    "\n",
    "display(Image(filename=\"manual_plots/hello-world.Thread_Enqueue_Map.png\"))\n",
    "display(Image(filename=\"manual_plots/hello-world.Memory_Read_Map.png\"))\n",
    "display(Image(filename=\"manual_plots/hello-world.Memory_Write_Map.png\"))\n",
    "display(Image(filename=\"manual_plots/hello-world.Atomic_Transaction_Map.png\"))\n",
    "display(Image(filename=\"manual_plots/hello-world.Remote_Transaction_Map.png\"))\n",
    "display(Image(filename=\"manual_plots/hello-world_total_instructions.png\"))"
   ]
  },
  {
   "cell_type": "markdown",
   "metadata": {},
   "source": [
    "Use the `emusim_profile` wrapper to generate these with a single command.  \n",
    "The directory `profile_hello-world` is where the outputs will be generated.\n",
    "The wrapper inputs are as follows:\n",
    "```\n",
    "emusim_profile <profile directory> [<emusim options>] -- mybenchmark.mwx --param 1 --param 2\n",
    "```\n",
    "Note: The profiler uses the following simulator flags, so they should not be passed into the profiler:  \n",
    "`-o, --capture_timing_queues, --output_instruction_count`."
   ]
  },
  {
   "cell_type": "code",
   "execution_count": null,
   "metadata": {},
   "outputs": [],
   "source": [
    "%%bash\n",
    "mkdir -p profile_hello-world;\n",
    "emusim_profile profile_hello-world --total_nodes 2 -m 24 -- hello-world.mwx"
   ]
  },
  {
   "cell_type": "code",
   "execution_count": null,
   "metadata": {
    "scrolled": false
   },
   "outputs": [],
   "source": [
    "display(Image(filename=\"profile_hello-world/hello-world.Thread_Enqueue_Map.png\"))\n",
    "display(Image(filename=\"profile_hello-world/hello-world.Memory_Read_Map.png\"))\n",
    "display(Image(filename=\"profile_hello-world/hello-world.Memory_Write_Map.png\"))\n",
    "display(Image(filename=\"profile_hello-world/hello-world.Atomic_Transaction_Map.png\"))\n",
    "display(Image(filename=\"profile_hello-world/hello-world.Remote_Transaction_Map.png\"))\n",
    "display(Image(filename=\"profile_hello-world/hello-world_total_instructions.png\"))"
   ]
  },
  {
   "cell_type": "code",
   "execution_count": null,
   "metadata": {},
   "outputs": [],
   "source": [
    "!ls hello-world.*"
   ]
  },
  {
   "cell_type": "markdown",
   "metadata": {},
   "source": [
    "We now have several different output files. These are detailed in Ch. 7.6 of the Programming Guide and are as follows:\n",
    "* hello-world.mwx - Lucata executable.\n",
    "* hello-world.cdc - Configuration data output file; includes system information and wall-clock time.\n",
    "* hello-world.mps - Memory map output; shows memory operation types and thread enqueuing.\n",
    "* hello-world.tqd - Timed activity tracing; includes live threads, thread activity counts, and requests.\n",
    "* hello-world.uis - Instruction count statistics; shows the number of instructions per function in the application and number of migrations.\n",
    "\n",
    "These files can be used with plotting tools to provide detailed output on the simulation of the application."
   ]
  },
  {
   "cell_type": "markdown",
   "metadata": {},
   "source": [
    "## Hello World Spawn Example\n",
    "\n",
    "That example kept one thread alive and migrating between nodelets.  This one, hello-world-spawn.c, uses Cilk's thread spawning intrinsic:\n",
    "\n",
    "```c\n",
    "#include <stdlib.h>\n",
    "#include <stdio.h>\n",
    "#include <string.h>\n",
    "#include <cilk.h>\n",
    "\n",
    "#include <memoryweb.h>\n",
    "#include <timing.h>\n",
    "\n",
    "const char str[] = \"Hello, world!\";\n",
    "\n",
    "static inline void copy_ptr (char *pc, const long *pl) { *pc = (char)*pl; }\n",
    "\n",
    "replicated long * ptr;\n",
    "replicated char * str_out;\n",
    "\n",
    "int main (void)\n",
    "{\n",
    "     long n = strlen (str) + 1;\n",
    "\n",
    "     mw_replicated_init ((long*)&ptr, (long)mw_malloc1dlong (n));\n",
    "     mw_replicated_init ((long*)&str_out, (long)malloc (n * sizeof (char)));\n",
    "\n",
    "     /*\n",
    "      * Start timing here.\n",
    "      * Profiler settings hidden for simplicity.\n",
    "      */\n",
    "\n",
    "     for (long k = 0; k < n; ++k)\n",
    "          ptr[k] = (long)str[k]; // Remote writes\n",
    "\n",
    "     for (long k = 0; k < n; ++k)\n",
    "          cilk_spawn copy_ptr (&str_out[k], &ptr[k]);\n",
    "\n",
    "     cilk_sync;\n",
    "\n",
    "     printf(\"%s\\n\", str_out);  // Migration back\n",
    "     \n",
    "     // Profiler end commands.\n",
    "     \n",
    "     return 0;\n",
    "}\n",
    "```"
   ]
  },
  {
   "cell_type": "code",
   "execution_count": null,
   "metadata": {},
   "outputs": [],
   "source": [
    "%%bash\n",
    "mkdir -p profile_hello-world-spawn;\n",
    "emusim_profile profile_hello-world-spawn --total_nodes 2 -m 24 -- hello-world-spawn.mwx\n",
    "ls profile_hello-world-spawn/hello-world-spawn*"
   ]
  },
  {
   "cell_type": "code",
   "execution_count": null,
   "metadata": {
    "scrolled": false
   },
   "outputs": [],
   "source": [
    "display(Image(filename=\"profile_hello-world/hello-world.Live_Threads.png\"))\n",
    "display(Image(filename=\"profile_hello-world-spawn/hello-world-spawn.Live_Threads.png\"))\n",
    "#display(Image(filename=\"profile_hello-world/hello-world.Thread_Activity.png\"))\n",
    "#display(Image(filename=\"profile_hello-world-spawn/hello-world-spawn.Thread_Activity.png\"))\n",
    "display(Image(filename=\"profile_hello-world/hello-world.MSP_Activity.png\"))\n",
    "display(Image(filename=\"profile_hello-world-spawn/hello-world-spawn.MSP_Activity.png\"))\n",
    "display(Image(filename=\"profile_hello-world/hello-world_total_instructions.png\"))\n",
    "display(Image(filename=\"profile_hello-world-spawn/hello-world-spawn_total_instructions.png\"))"
   ]
  },
  {
   "cell_type": "markdown",
   "metadata": {},
   "source": [
    "Then we can compare the output of the normal Hello World and the Spawn Hello World for the statistics that are different."
   ]
  },
  {
   "cell_type": "markdown",
   "metadata": {},
   "source": [
    "## Advanced Implementation - Spawn At\n",
    "\n",
    "This example just shows one additional variation of using a `cilk_spawn_at` call to spawn threads at a remote node\n",
    "\n",
    "```c\n",
    "#include <stdlib.h>\n",
    "#include <stdio.h>\n",
    "#include <string.h>\n",
    "#include <cilk.h>\n",
    "\n",
    "#include <memoryweb.h>\n",
    "#include <timing.h>\n",
    "\n",
    "static const char str[] = \"Hello, world!\";\n",
    "\n",
    "static inline void copy_ptr (char *pc, const long *pl) { *pc = (char)*pl; }\n",
    "\n",
    "replicated long * ptr;\n",
    "replicated char * str_out;\n",
    "\n",
    "int main (void)\n",
    "{\n",
    "     long n = strlen (str) + 1;\n",
    "\n",
    "     mw_replicated_init ((long*)&ptr, (long)mw_malloc1dlong (n));\n",
    "     mw_replicated_init ((long*)&str_out, (long)malloc (n * sizeof (char)));\n",
    "\n",
    "     /*\n",
    "      * Start timing here.\n",
    "      * Profiler settings hidden for simplicity.\n",
    "      */\n",
    "\n",
    "     for (long k = 0; k < n; ++k)\n",
    "          ptr[k] = (long)str[k]; // Remote writes\n",
    "\n",
    "     for (long k = 0; k < n; ++k) {\n",
    "          cilk_spawn_at(&ptr[k]) copy_ptr (&str_out[k], &ptr[k]);\n",
    "     }\n",
    "\n",
    "     cilk_sync;\n",
    "    \n",
    "     printf(\"%s\\n\", str_out);  // Migration back\n",
    "    \n",
    "     // Profiler end commands.\n",
    "    \n",
    "     return 0;\n",
    "}\n",
    "```"
   ]
  },
  {
   "cell_type": "code",
   "execution_count": null,
   "metadata": {},
   "outputs": [],
   "source": [
    "%%bash\n",
    "mkdir -p profile_hello-world-spawn-at;\n",
    "emusim_profile profile_hello-world-spawn-at --total_nodes 2 -m 24 -- hello-world-spawn-at.mwx\n",
    "ls profile_hello-world-spawn-at/hello-world-spawn-at*"
   ]
  },
  {
   "cell_type": "code",
   "execution_count": null,
   "metadata": {
    "scrolled": false
   },
   "outputs": [],
   "source": [
    "display(Image(filename=\"profile_hello-world/hello-world.Live_Threads.png\"))\n",
    "display(Image(filename=\"profile_hello-world-spawn-at/hello-world-spawn-at.Live_Threads.png\"))\n",
    "#display(Image(filename=\"profile_hello-world/hello-world.Thread_Activity.png\"))\n",
    "#display(Image(filename=\"profile_hello-world-spawn-at/hello-world-spawn-at.Thread_Activity.png\"))\n",
    "display(Image(filename=\"profile_hello-world/hello-world.MSP_Activity.png\"))\n",
    "display(Image(filename=\"profile_hello-world-spawn-at/hello-world-spawn-at.MSP_Activity.png\"))\n",
    "display(Image(filename=\"profile_hello-world/hello-world_total_instructions.png\"))\n",
    "display(Image(filename=\"profile_hello-world-spawn-at/hello-world-spawn-at_total_instructions.png\"))"
   ]
  },
  {
   "cell_type": "markdown",
   "metadata": {},
   "source": [
    "Once we've finished our testing, we can then clean up some of the logfiles that we used for this example."
   ]
  },
  {
   "cell_type": "code",
   "execution_count": null,
   "metadata": {},
   "outputs": [],
   "source": [
    "!make clean"
   ]
  }
 ],
 "metadata": {
  "kernelspec": {
   "display_name": "Python 3",
   "language": "python",
   "name": "python3"
  },
  "language_info": {
   "codemirror_mode": {
    "name": "ipython",
    "version": 3
   },
   "file_extension": ".py",
   "mimetype": "text/x-python",
   "name": "python",
   "nbconvert_exporter": "python",
   "pygments_lexer": "ipython3",
   "version": "3.6.8"
  }
 },
 "nbformat": 4,
 "nbformat_minor": 4
}
