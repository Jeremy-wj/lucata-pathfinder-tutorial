{
 "cells": [
  {
   "cell_type": "markdown",
   "metadata": {},
   "source": [
    "# Notebook #2 - Programming Basics with SAXPY"
   ]
  },
  {
   "cell_type": "markdown",
   "metadata": {},
   "source": [
    "Initial steps: We must import specific environment variables to point to the user's notebook code director and to the Lucata tools."
   ]
  },
  {
   "cell_type": "code",
   "execution_count": 1,
   "metadata": {},
   "outputs": [],
   "source": [
    "import os\n",
    "os.environ[\"USER_NOTEBOOK_CODE\"]=os.environ[\"HOME\"]+\"/pearc-tutorial/code\"\n",
    "os.environ[\"PATH\"]=os.pathsep.join([\"/tools/emu/pathfinder-sw/21.06/bin\",os.environ[\"PATH\"]])"
   ]
  },
  {
   "cell_type": "markdown",
   "metadata": {},
   "source": [
    "This notebook goes along with the [Lucata programming basics slides](https://github.com/gt-crnch-rg/pearc-tutorial-2021/blob/main/slides/lucata_tutorial/01_Lucata_Pathfinder_Tutorial_Basics.pdf), so please follow along with the slides for a supplemental resource. \n",
    "\n",
    "## SAXPY with Cilk Spawn\n",
    "\n",
    "Our first example shows an example of Single-precision AX Plus Y (SAXPY), a basic linear algebra kernel that combines scalar multiplication and vector addition. As shown in the saxpy kernel, the output, `y`, is equal to the sum of the constant `a` multiplied by the elements of a vector `x`. \n",
    "\n",
    "This first example shows how to implement SAXPY using the most basic Cilk functions, `cilk_spawn` and `cilk_sync`. Note that the Lucata architecture operates on a particular \"grain size\", which is specified by the number of threads (argument 1). \n",
    "\n",
    "*For examples of SAXPY in other parallel languages please check out this [NVIDIA developer blog on SAXPY](https://developer.nvidia.com/blog/six-ways-saxpy/)."
   ]
  },
  {
   "cell_type": "markdown",
   "metadata": {},
   "source": [
    "\n",
    "```c\n",
    "#include <stdio.h>\n",
    "#include <stdlib.h>\n",
    "#include <cilk/cilk.h>\n",
    "\n",
    "void saxpy(long n, float a, float *x, float *y)\n",
    "{\n",
    "  for (long i = 0; i < n; i++)\n",
    "    y[i] += a * x[i];\n",
    "}\n",
    "\n",
    "int main(int argc, char **argv)\n",
    "{\n",
    "  long nth = atol(argv[1]); // number threads\n",
    "  long size = atol(argv[2]); // array size\n",
    "  float aval = atof(argv[3]); // constant\n",
    "  float *x = malloc(size * sizeof(*x));\n",
    "  float *y = malloc(size * sizeof(*y));\n",
    "  for (long i = 0; i < size; i++) {\n",
    "    x[i] = i; y[i] = 0;\n",
    "  }\n",
    "    \n",
    "  long grain = size / nth; // elements per thread\n",
    "  \n",
    "  for (long i = 0, j = 0; i < nth; i++, j += grain)\n",
    "    cilk_spawn saxpy(grain, aval, &x[j], &y[j]);\n",
    "  cilk_sync;\n",
    "}\n",
    "```\n",
    "\n"
   ]
  },
  {
   "cell_type": "markdown",
   "metadata": {},
   "source": [
    "We'll test compiling and running this example with a 4 and 8 threads, an array with 32 or 128 elements, and a constant value `a` of 5.0. Then we will check the .cdc and .vsf files to get some high-level statistics on the execution. "
   ]
  },
  {
   "cell_type": "code",
   "execution_count": 2,
   "metadata": {},
   "outputs": [
    {
     "name": "stdout",
     "output_type": "stream",
     "text": [
      "Start untimed simulation with local date and time= Mon Jul 19 00:34:01 2021\n",
      "\n",
      "End untimed simulation with local date and time= Mon Jul 19 00:34:01 2021\n",
      "\n"
     ]
    },
    {
     "name": "stderr",
     "output_type": "stream",
     "text": [
      "\n",
      "        SystemC 2.3.3-Accellera --- Jun 22 2021 17:09:43\n",
      "        Copyright (c) 1996-2018 by all Contributors,\n",
      "        ALL RIGHTS RESERVED\n"
     ]
    }
   ],
   "source": [
    "%%bash\n",
    "emu-cc -o saxpy.mwx saxpy.c\n",
    "emusim.x -- saxpy.mwx 4 32 5.0"
   ]
  },
  {
   "cell_type": "code",
   "execution_count": 3,
   "metadata": {},
   "outputs": [
    {
     "name": "stdout",
     "output_type": "stream",
     "text": [
      "************************************************\n",
      "Program Name/Arguments: \n",
      "saxpy.mwx \n",
      "4 \n",
      "32 \n",
      "5.0 \n",
      "************************************************\n",
      "Simulator Version: 21.6.23\n",
      "************************************************\n",
      "Configuration Details:\n",
      "Ring Model = Stratix: 3 GC Clusters, 8 MSPs\n",
      "Number of Nodes=1\n",
      "Total Memory (in GiB)=64\n",
      "Logical MSPs per Node=1\n",
      "Log2 Memory Size per MSP=36\n",
      "GC Clusters per Node=3\n",
      "GCs per Cluster=8\n",
      "************************************************\n",
      "************************************************\n",
      "Simulator wall clock time (seconds): 0\n",
      "Node ID: Outbound Migrations, Threads Created, Threads Died, Spawn Fails\n",
      "0: 0, 4, 5, 0\n",
      "\n",
      "NodeID: num_reads, num_writes, num_rmws\n",
      "0: 17, 2, 1\n",
      "\n"
     ]
    }
   ],
   "source": [
    "!more saxpy.cdc\n",
    "!more saxpy.vsf "
   ]
  },
  {
   "cell_type": "code",
   "execution_count": 4,
   "metadata": {},
   "outputs": [
    {
     "name": "stdout",
     "output_type": "stream",
     "text": [
      "Start untimed simulation with local date and time= Mon Jul 19 00:34:01 2021\n",
      "\n",
      "End untimed simulation with local date and time= Mon Jul 19 00:34:01 2021\n",
      "\n"
     ]
    },
    {
     "name": "stderr",
     "output_type": "stream",
     "text": [
      "\n",
      "        SystemC 2.3.3-Accellera --- Jun 22 2021 17:09:43\n",
      "        Copyright (c) 1996-2018 by all Contributors,\n",
      "        ALL RIGHTS RESERVED\n"
     ]
    }
   ],
   "source": [
    "%%bash\n",
    "emusim.x -- saxpy.mwx 8 128 5.0"
   ]
  },
  {
   "cell_type": "code",
   "execution_count": 5,
   "metadata": {},
   "outputs": [
    {
     "name": "stdout",
     "output_type": "stream",
     "text": [
      "************************************************\n",
      "Program Name/Arguments: \n",
      "saxpy.mwx \n",
      "8 \n",
      "128 \n",
      "5.0 \n",
      "************************************************\n",
      "Simulator Version: 21.6.23\n",
      "************************************************\n",
      "Configuration Details:\n",
      "Ring Model = Stratix: 3 GC Clusters, 8 MSPs\n",
      "Number of Nodes=1\n",
      "Total Memory (in GiB)=64\n",
      "Logical MSPs per Node=1\n",
      "Log2 Memory Size per MSP=36\n",
      "GC Clusters per Node=3\n",
      "GCs per Cluster=8\n",
      "************************************************\n",
      "************************************************\n",
      "Simulator wall clock time (seconds): 0\n",
      "Node ID: Outbound Migrations, Threads Created, Threads Died, Spawn Fails\n",
      "0: 0, 8, 9, 0\n",
      "\n",
      "NodeID: num_reads, num_writes, num_rmws\n",
      "0: 18, 2, 1\n",
      "\n"
     ]
    }
   ],
   "source": [
    "!more saxpy.cdc\n",
    "!more saxpy.vsf "
   ]
  },
  {
   "cell_type": "markdown",
   "metadata": {},
   "source": [
    "## SAXPY with Cilk For\n",
    "\n",
    "`cilk_for` can be used to launch one thread per loop iteration in a fashion similar to traditional OpenMP pragma-based `omp parallel for` loops. Note here that the programmer must explicitly specify a grainsize to partition up the input array.\n",
    "\n",
    "```c\n",
    "#include <stdio.h>\n",
    "#include <stdlib.h>\n",
    "#include <cilk/cilk.h>\n",
    "\n",
    "int main(int argc, char **argv)\n",
    "{\n",
    "  long size = atol(argv[1]); // array size\n",
    "  float aval = atof(argv[2]); // constant\n",
    "  \n",
    "  float *x = malloc(size * sizeof(*x));\n",
    "  float *y = malloc(size * sizeof(*y));\n",
    "\n",
    "  for (long i = 0; i < size; i++) {\n",
    "    x[i] = i; y[i] = 0;\n",
    "  }\n",
    "\n",
    "  #pragma cilk grainsize = 8\n",
    "  cilk_for (long i = 0; i < size; i++) {\n",
    "    y[i] += aval * x[i];\n",
    "  }\n",
    "}\n",
    "```"
   ]
  },
  {
   "cell_type": "code",
   "execution_count": 6,
   "metadata": {},
   "outputs": [
    {
     "name": "stdout",
     "output_type": "stream",
     "text": [
      "Start untimed simulation with local date and time= Mon Jul 19 00:34:05 2021\n",
      "\n",
      "End untimed simulation with local date and time= Mon Jul 19 00:34:05 2021\n",
      "\n"
     ]
    },
    {
     "name": "stderr",
     "output_type": "stream",
     "text": [
      "\n",
      "        SystemC 2.3.3-Accellera --- Jun 22 2021 17:09:43\n",
      "        Copyright (c) 1996-2018 by all Contributors,\n",
      "        ALL RIGHTS RESERVED\n"
     ]
    }
   ],
   "source": [
    "%%bash\n",
    "emu-cc -o saxpy-for.mwx saxpy-for.c\n",
    "emusim.x -- saxpy-for.mwx 8 128 5.0"
   ]
  },
  {
   "cell_type": "code",
   "execution_count": 7,
   "metadata": {},
   "outputs": [
    {
     "name": "stdout",
     "output_type": "stream",
     "text": [
      "************************************************\n",
      "Program Name/Arguments: \n",
      "saxpy-for.mwx \n",
      "8 \n",
      "128 \n",
      "5.0 \n",
      "************************************************\n",
      "Simulator Version: 21.6.23\n",
      "************************************************\n",
      "Configuration Details:\n",
      "Ring Model = Stratix: 3 GC Clusters, 8 MSPs\n",
      "Number of Nodes=1\n",
      "Total Memory (in GiB)=64\n",
      "Logical MSPs per Node=1\n",
      "Log2 Memory Size per MSP=36\n",
      "GC Clusters per Node=3\n",
      "GCs per Cluster=8\n",
      "************************************************\n",
      "************************************************\n",
      "Simulator wall clock time (seconds): 0\n",
      "Node ID: Outbound Migrations, Threads Created, Threads Died, Spawn Fails\n",
      "0: 0, 0, 1, 0\n",
      "\n",
      "NodeID: num_reads, num_writes, num_rmws\n",
      "0: 18, 8, 1\n",
      "\n"
     ]
    }
   ],
   "source": [
    "!more saxpy-for.cdc\n",
    "!more saxpy-for.vsf "
   ]
  },
  {
   "cell_type": "markdown",
   "metadata": {},
   "source": [
    "## SAXPY with Distributed Allocation (1D)\n",
    "\n",
    "In this example, `memoryweb.h` is included for Lucata-specific distributed allocation strategies while `mw_malloc1dlong` is used to distribute data across different nodes within the system.\n",
    "\n",
    "```c\n",
    "#include <stdlib.h>\n",
    "#include <cilk/cilk.h>\n",
    "#include <memoryweb.h>\n",
    "void saxpy(long n, long a, long *x, long *y)\n",
    "{\n",
    "  for (long i = 0; i < n; i++)\n",
    "    y[i] += a * x[i];\n",
    "}\n",
    "\n",
    "int main(int argc, char **argv)\n",
    "{\n",
    "  long nth = atol(argv[1]); // number threads\n",
    "  long size = atol(argv[2]); // array size\n",
    "  long aval = atol(argv[3]); // constant\n",
    "  long *x = mw_malloc1dlong(size);\n",
    "  long *y = mw_malloc1dlong(size);\n",
    "\n",
    "  for (long i = 0; i < size; i++) {\n",
    "    x[i] = i; y[i] = 0;\n",
    "  }\n",
    "\n",
    "  long grain = size / nth; // elts per thread\n",
    "\n",
    "  for (long i = 0, j = 0; i < nth; i++, j += grain)\n",
    "    cilk_spawn saxpy(grain, aval, &x[j], &y[j]);\n",
    "  cilk_sync;\n",
    "}\n",
    "```"
   ]
  },
  {
   "cell_type": "code",
   "execution_count": 8,
   "metadata": {},
   "outputs": [
    {
     "name": "stdout",
     "output_type": "stream",
     "text": [
      "Start untimed simulation with local date and time= Mon Jul 19 00:34:09 2021\n",
      "\n",
      "End untimed simulation with local date and time= Mon Jul 19 00:34:09 2021\n",
      "\n"
     ]
    },
    {
     "name": "stderr",
     "output_type": "stream",
     "text": [
      "\n",
      "        SystemC 2.3.3-Accellera --- Jun 22 2021 17:09:43\n",
      "        Copyright (c) 1996-2018 by all Contributors,\n",
      "        ALL RIGHTS RESERVED\n"
     ]
    }
   ],
   "source": [
    "%%bash\n",
    "emu-cc -o saxpy-1d.mwx saxpy-1d.c\n",
    "emusim.x -- saxpy-1d.mwx 8 128 5.0"
   ]
  },
  {
   "cell_type": "code",
   "execution_count": 9,
   "metadata": {},
   "outputs": [
    {
     "name": "stdout",
     "output_type": "stream",
     "text": [
      "************************************************\n",
      "Program Name/Arguments: \n",
      "saxpy-1d.mwx \n",
      "8 \n",
      "128 \n",
      "5.0 \n",
      "************************************************\n",
      "Simulator Version: 21.6.23\n",
      "************************************************\n",
      "Configuration Details:\n",
      "Ring Model = Stratix: 3 GC Clusters, 8 MSPs\n",
      "Number of Nodes=1\n",
      "Total Memory (in GiB)=64\n",
      "Logical MSPs per Node=1\n",
      "Log2 Memory Size per MSP=36\n",
      "GC Clusters per Node=3\n",
      "GCs per Cluster=8\n",
      "************************************************\n",
      "************************************************\n",
      "Simulator wall clock time (seconds): 0\n",
      "Node ID: Outbound Migrations, Threads Created, Threads Died, Spawn Fails\n",
      "0: 0, 8, 9, 0\n",
      "\n",
      "NodeID: num_reads, num_writes, num_rmws\n",
      "0: 49, 39, 5\n",
      "\n"
     ]
    }
   ],
   "source": [
    "!more saxpy-1d.cdc\n",
    "!more saxpy-1d.vsf "
   ]
  },
  {
   "cell_type": "markdown",
   "metadata": {},
   "source": [
    "## SAXPY Distributed Spawn with migrate_hint\n",
    "\n",
    "The `migrate_hint` allows the programmer to pass a pointer that is then used by the next `cilk_spawn` operation to efficiently jump to a specific part of a distributed array. Here the migration hint is specifying a \"directed spawn\" to the location where `y[j]` is located. Note that `cilk_spawn_at` provides a similar purpose by combining a spawn and migration hint operation into one call. \n",
    "\n",
    "```c\n",
    "#include <stdlib.h>\n",
    "#include <cilk/cilk.h>\n",
    "#include <memoryweb.h>\n",
    "\n",
    "void saxpy(long n, long a, long *x, long *y)\n",
    "{\n",
    "  for (long i = 0; i < n; i++)\n",
    "    y[i] += a * x[i];\n",
    "}\n",
    "\n",
    "int main(int argc, char **argv)\n",
    "{\n",
    "  long nth = atol(argv[1]); // number threads\n",
    "  long size = atol(argv[2]); // array size\n",
    "  long aval = atol(argv[3]); // constant\n",
    "  long *x = mw_malloc1dlong(size);\n",
    "  long *y = mw_malloc1dlong(size);\n",
    "\n",
    "  for (long i = 0; i < size; i++) {\n",
    "    x[i] = i; y[i] = 0;\n",
    "  }\n",
    "\n",
    "  long grain = size / nth; // elts per thread\n",
    "\n",
    "  for (long i = 0, j = 0; i < nth; i++, j += grain) {\n",
    "    cilk_migrate_hint(&y[j]); \n",
    "    cilk_spawn saxpy(grain, aval, &x[j], &y[j]);\n",
    "  } cilk_sync;\n",
    "}\n",
    "```"
   ]
  },
  {
   "cell_type": "code",
   "execution_count": 10,
   "metadata": {},
   "outputs": [
    {
     "name": "stdout",
     "output_type": "stream",
     "text": [
      "Start untimed simulation with local date and time= Mon Jul 19 00:34:13 2021\n",
      "\n",
      "End untimed simulation with local date and time= Mon Jul 19 00:34:13 2021\n",
      "\n"
     ]
    },
    {
     "name": "stderr",
     "output_type": "stream",
     "text": [
      "\n",
      "        SystemC 2.3.3-Accellera --- Jun 22 2021 17:09:43\n",
      "        Copyright (c) 1996-2018 by all Contributors,\n",
      "        ALL RIGHTS RESERVED\n"
     ]
    }
   ],
   "source": [
    "%%bash\n",
    "emu-cc -o saxpy-1d-hint.mwx saxpy-1d-hint.c\n",
    "emusim.x -- saxpy-1d-hint.mwx 8 128 5.0"
   ]
  },
  {
   "cell_type": "code",
   "execution_count": 11,
   "metadata": {},
   "outputs": [
    {
     "name": "stdout",
     "output_type": "stream",
     "text": [
      "************************************************\n",
      "Program Name/Arguments: \n",
      "saxpy-1d-hint.mwx \n",
      "8 \n",
      "128 \n",
      "5.0 \n",
      "************************************************\n",
      "Simulator Version: 21.6.23\n",
      "************************************************\n",
      "Configuration Details:\n",
      "Ring Model = Stratix: 3 GC Clusters, 8 MSPs\n",
      "Number of Nodes=1\n",
      "Total Memory (in GiB)=64\n",
      "Logical MSPs per Node=1\n",
      "Log2 Memory Size per MSP=36\n",
      "GC Clusters per Node=3\n",
      "GCs per Cluster=8\n",
      "************************************************\n",
      "************************************************\n",
      "Simulator wall clock time (seconds): 0\n",
      "Node ID: Outbound Migrations, Threads Created, Threads Died, Spawn Fails\n",
      "0: 0, 8, 9, 0\n",
      "\n",
      "NodeID: num_reads, num_writes, num_rmws\n",
      "0: 49, 39, 5\n",
      "\n"
     ]
    }
   ],
   "source": [
    "!more saxpy-1d-hint.cdc\n",
    "!more saxpy-1d-hint.vsf "
   ]
  },
  {
   "cell_type": "markdown",
   "metadata": {},
   "source": [
    "## SAXPY with 2D Distributed Allocation\n",
    "\n",
    "This example shows the usage of `cilk_spawn_at` and 2D block allocation of data across the Lucata nodes. In this case, the number of threads matches the number of blocks and the work done by each thread is the block size. \n",
    "\n",
    "```c\n",
    "#include <stdlib.h>\n",
    "#include <cilk/cilk.h>\n",
    "#include <memoryweb.h>\n",
    "\n",
    "void saxpy(long n, float a, float *x, float *y)\n",
    "{\n",
    "  for (long i = 0; i < n; i++)\n",
    "    y[i] += a * x[i];\n",
    "}\n",
    "\n",
    "int main(int argc, char **argv)\n",
    "{\n",
    "  long num = atol(argv[1]); // number blocks\n",
    "  long size = atol(argv[2]); // block size\n",
    "  float aval = atof(argv[3]); // constant\n",
    "  float **x = mw_malloc2d(num, size * sizeof(*x));\n",
    "  float **y = mw_malloc2d(num, size * sizeof(*y));\n",
    "\n",
    "  for (long j = 0; j < num; j++) {\n",
    "    for (long i = 0; i < size; i++) {\n",
    "      x[j][i] = j * size + i; y[j][i] = 0;\n",
    "    }\n",
    "  }\n",
    "  \n",
    "  for (long i = 0; i < num; i++) {\n",
    "    cilk_spawn_at (y[i]) saxpy(size, aval, x[i], y[i]);\n",
    "  }\n",
    "  cilk_sync;\n",
    "}\n",
    "```"
   ]
  },
  {
   "cell_type": "code",
   "execution_count": 12,
   "metadata": {},
   "outputs": [
    {
     "name": "stdout",
     "output_type": "stream",
     "text": [
      "Start untimed simulation with local date and time= Mon Jul 19 00:34:16 2021\n",
      "\n",
      "End untimed simulation with local date and time= Mon Jul 19 00:34:16 2021\n",
      "\n"
     ]
    },
    {
     "name": "stderr",
     "output_type": "stream",
     "text": [
      "\n",
      "        SystemC 2.3.3-Accellera --- Jun 22 2021 17:09:43\n",
      "        Copyright (c) 1996-2018 by all Contributors,\n",
      "        ALL RIGHTS RESERVED\n"
     ]
    }
   ],
   "source": [
    "%%bash\n",
    "emu-cc -o saxpy-2d-spawn-at.mwx saxpy-2d-spawn-at.c\n",
    "emusim.x -- saxpy-2d-spawn-at.mwx 8 128 5.0"
   ]
  },
  {
   "cell_type": "code",
   "execution_count": 13,
   "metadata": {},
   "outputs": [
    {
     "name": "stdout",
     "output_type": "stream",
     "text": [
      "************************************************\n",
      "Program Name/Arguments: \n",
      "saxpy-2d-spawn-at.mwx \n",
      "8 \n",
      "128 \n",
      "5.0 \n",
      "************************************************\n",
      "Simulator Version: 21.6.23\n",
      "************************************************\n",
      "Configuration Details:\n",
      "Ring Model = Stratix: 3 GC Clusters, 8 MSPs\n",
      "Number of Nodes=1\n",
      "Total Memory (in GiB)=64\n",
      "Logical MSPs per Node=1\n",
      "Log2 Memory Size per MSP=36\n",
      "GC Clusters per Node=3\n",
      "GCs per Cluster=8\n",
      "************************************************\n",
      "************************************************\n",
      "Simulator wall clock time (seconds): 0\n",
      "Node ID: Outbound Migrations, Threads Created, Threads Died, Spawn Fails\n",
      "0: 0, 8, 9, 0\n",
      "\n",
      "NodeID: num_reads, num_writes, num_rmws\n",
      "0: 348, 410, 3\n",
      "\n"
     ]
    }
   ],
   "source": [
    "!more saxpy-2d-spawn-at.cdc\n",
    "!more saxpy-2d-spawn-at.vsf "
   ]
  },
  {
   "cell_type": "markdown",
   "metadata": {},
   "source": [
    "## SAXPY with Local Allocation\n",
    "\n",
    "This example shows a variation of the previous 2D code with a local allocation for the output. You will notice that the local allocation for the output (as opposed to 2D allocation) results in more migrations overall. \n",
    "\n",
    "```c\n",
    "#include <stdlib.h>\n",
    "#include <cilk/cilk.h>\n",
    "#include <memoryweb.h>\n",
    "\n",
    "void saxpy4(long n, float a, float *x, float *y)\n",
    "{\n",
    "  for (long i = 0; i < n; i++)\n",
    "    y[i] += a * x[i];\n",
    "}\n",
    "\n",
    "int main(int argc, char **argv)\n",
    "{\n",
    "  long num = atol(argv[1]); // number blocks\n",
    "  long size = atol(argv[2]); // block size\n",
    "  float aval = atof(argv[3]); // constant\n",
    "  float **x = mw_malloc2d(num, size * sizeof(*x));\n",
    "  float *y = mw_localmalloc(num * size * sizeof(*y), x[0]);\n",
    " \n",
    "  for (long j = 0; j < num; j++) {\n",
    "    for (long i = 0; i < size; i++) {\n",
    "      x[j][i] = j * size + i; y[j * size + i] = 0;\n",
    "    }\n",
    "  }\n",
    " \n",
    "  for (long i = 0; i < num; i++) {\n",
    "    cilk_spawn_at (x[i]) saxpy4(size, aval, x[i], &y[i * size]);\n",
    "  }\n",
    "  cilk_sync;\n",
    "}\n",
    "```"
   ]
  },
  {
   "cell_type": "code",
   "execution_count": 14,
   "metadata": {},
   "outputs": [
    {
     "name": "stdout",
     "output_type": "stream",
     "text": [
      "Start untimed simulation with local date and time= Mon Jul 19 00:34:18 2021\n",
      "\n",
      "End untimed simulation with local date and time= Mon Jul 19 00:34:18 2021\n",
      "\n"
     ]
    },
    {
     "name": "stderr",
     "output_type": "stream",
     "text": [
      "\n",
      "        SystemC 2.3.3-Accellera --- Jun 22 2021 17:09:43\n",
      "        Copyright (c) 1996-2018 by all Contributors,\n",
      "        ALL RIGHTS RESERVED\n"
     ]
    }
   ],
   "source": [
    "%%bash\n",
    "emu-cc -o saxpy-local-spawn-at.mwx saxpy-local-spawn-at.c\n",
    "emusim.x -- saxpy-local-spawn-at.mwx 8 128 5.0"
   ]
  },
  {
   "cell_type": "code",
   "execution_count": 15,
   "metadata": {},
   "outputs": [
    {
     "name": "stdout",
     "output_type": "stream",
     "text": [
      "************************************************\n",
      "Program Name/Arguments: \n",
      "saxpy-local-spawn-at.mwx \n",
      "8 \n",
      "128 \n",
      "5.0 \n",
      "************************************************\n",
      "Simulator Version: 21.6.23\n",
      "************************************************\n",
      "Configuration Details:\n",
      "Ring Model = Stratix: 3 GC Clusters, 8 MSPs\n",
      "Number of Nodes=1\n",
      "Total Memory (in GiB)=64\n",
      "Logical MSPs per Node=1\n",
      "Log2 Memory Size per MSP=36\n",
      "GC Clusters per Node=3\n",
      "GCs per Cluster=8\n",
      "************************************************\n",
      "************************************************\n",
      "Simulator wall clock time (seconds): 0\n",
      "Node ID: Outbound Migrations, Threads Created, Threads Died, Spawn Fails\n",
      "0: 0, 8, 9, 0\n",
      "\n",
      "NodeID: num_reads, num_writes, num_rmws\n",
      "0: 380, 488, 11\n",
      "\n"
     ]
    }
   ],
   "source": [
    "!more saxpy-local-spawn-at.cdc\n",
    "!more saxpy-local-spawn-at.vsf "
   ]
  },
  {
   "cell_type": "markdown",
   "metadata": {},
   "source": [
    "## SAXPY with Replicated Data Structures\n",
    "\n",
    "Finally, we look at using replication to create copies of the constant variable, `a` across all the nodes. This prevents migrations to access this common variable if it were located only on a single node. Note that replication can be a powerful tool for optimized allocation but it should be used primarily with small data structures and variables that are read-only (for coherency reasons).\n",
    "\n",
    "```c\n",
    "#include <stdlib.h>\n",
    "#include <cilk/cilk.h>\n",
    "#include <memoryweb.h>\n",
    "\n",
    "long aval;\n",
    "replicated long a;\n",
    "\n",
    "void saxpy(long n, long a, long *x, long *y) {\n",
    "  for (long i = 0; i < n; i++) y[i] += a * x[i];\n",
    "}\n",
    "\n",
    "int main(int argc, char **argv)\n",
    "{\n",
    "  long nth = atol(argv[1]); // number threads\n",
    "  long size = atol(argv[2]); // array size\n",
    "  aval = atol(argv[3]); // constant\n",
    "  mw_replicated_init(&a, aval);\n",
    "  long *x = mw_malloc1dlong(size);\n",
    "  long *y = mw_malloc1dlong(size);\n",
    "\n",
    "  for (long i = 0; i < size; i++) {\n",
    "    x[i] = i; y[i] = 0;\n",
    "  }\n",
    "\n",
    "  long grain = size / nth; // elts per thread\n",
    "\n",
    "  for (long i = 0, j = 0; i < nth; i++, j += grain)\n",
    "    cilk_spawn saxpy(grain, &x[j], &y[j]);\n",
    "  cilk_sync;\n",
    "}\n",
    "```"
   ]
  },
  {
   "cell_type": "code",
   "execution_count": 16,
   "metadata": {},
   "outputs": [
    {
     "name": "stdout",
     "output_type": "stream",
     "text": [
      "Start untimed simulation with local date and time= Mon Jul 19 00:34:22 2021\n",
      "\n",
      "End untimed simulation with local date and time= Mon Jul 19 00:34:22 2021\n",
      "\n"
     ]
    },
    {
     "name": "stderr",
     "output_type": "stream",
     "text": [
      "\n",
      "        SystemC 2.3.3-Accellera --- Jun 22 2021 17:09:43\n",
      "        Copyright (c) 1996-2018 by all Contributors,\n",
      "        ALL RIGHTS RESERVED\n"
     ]
    }
   ],
   "source": [
    "%%bash\n",
    "emu-cc -o saxpy-1d-replicated.mwx saxpy-1d-replicated.c\n",
    "emusim.x -- saxpy-1d-replicated.mwx 8 128 5"
   ]
  },
  {
   "cell_type": "code",
   "execution_count": 17,
   "metadata": {},
   "outputs": [
    {
     "name": "stdout",
     "output_type": "stream",
     "text": [
      "************************************************\n",
      "Program Name/Arguments: \n",
      "saxpy-1d-replicated.mwx \n",
      "8 \n",
      "128 \n",
      "5 \n",
      "************************************************\n",
      "Simulator Version: 21.6.23\n",
      "************************************************\n",
      "Configuration Details:\n",
      "Ring Model = Stratix: 3 GC Clusters, 8 MSPs\n",
      "Number of Nodes=1\n",
      "Total Memory (in GiB)=64\n",
      "Logical MSPs per Node=1\n",
      "Log2 Memory Size per MSP=36\n",
      "GC Clusters per Node=3\n",
      "GCs per Cluster=8\n",
      "************************************************\n",
      "************************************************\n",
      "Simulator wall clock time (seconds): 0\n",
      "Node ID: Outbound Migrations, Threads Created, Threads Died, Spawn Fails\n",
      "0: 0, 8, 9, 0\n",
      "\n",
      "NodeID: num_reads, num_writes, num_rmws\n",
      "0: 49, 39, 5\n",
      "\n"
     ]
    }
   ],
   "source": [
    "!more saxpy-1d-replicated.cdc\n",
    "!more saxpy-1d-replicated.vsf "
   ]
  },
  {
   "cell_type": "markdown",
   "metadata": {},
   "source": [
    "### Postcript\n",
    "Here we have investigated several different strategies for spawning threads and allocatin data with the Pathfinder's distributed layout. Note that the simulations we ran did not have fully accurate timing, but the .cdc and .vsf files do give some indication as to which strategies are more efficient for a particular input size and number of threads. \n",
    "\n",
    "Once we've finished our testing, we can clean up some of the logfiles that we used for this example with `make clean`. Uncomment the following line to clean this directory."
   ]
  },
  {
   "cell_type": "code",
   "execution_count": 18,
   "metadata": {},
   "outputs": [],
   "source": [
    "#!make clean"
   ]
  }
 ],
 "metadata": {
  "kernelspec": {
   "display_name": "Python Notebook - CRNCH Tutorial",
   "language": "python",
   "name": "python3"
  },
  "language_info": {
   "codemirror_mode": {
    "name": "ipython",
    "version": 3
   },
   "file_extension": ".py",
   "mimetype": "text/x-python",
   "name": "python",
   "nbconvert_exporter": "python",
   "pygments_lexer": "ipython3",
   "version": "3.7.10"
  }
 },
 "nbformat": 4,
 "nbformat_minor": 4
}
