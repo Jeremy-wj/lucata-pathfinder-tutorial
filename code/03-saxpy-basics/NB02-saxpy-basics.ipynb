{
 "cells": [
  {
   "cell_type": "markdown",
   "metadata": {},
   "source": [
    "# Notebook #2 - Programming Basics with SAXPY"
   ]
  },
  {
   "cell_type": "markdown",
   "metadata": {},
   "source": [
    "First we set environment variables to point to the user's notebook code and to the Lucata tools. \n",
    "\n",
    "We'll also set SIMFLAGS to simulate 16 MiB of memory on 1 node for each simulation. "
   ]
  },
  {
   "cell_type": "code",
   "execution_count": null,
   "metadata": {},
   "outputs": [],
   "source": [
    "import os\n",
    "from IPython.display import Code\n",
    "\n",
    "#Set the path to the latest toolset \n",
    "LUCATA_BASE=\"/tools/emu/pathfinder-sw/22.09-beta\" \n",
    "\n",
    "#Get the path to where all code samples are\n",
    "os.environ[\"USER_NOTEBOOK_CODE\"]=os.path.dirname(os.getcwd())\n",
    "os.environ[\"PATH\"]=os.pathsep.join([os.path.join(LUCATA_BASE,\"bin\"),os.environ[\"PATH\"]])\n",
    "os.environ[\"CCFLAGS\"]=\"-I\"+LUCATA_BASE+\"/include/\"+\" -L\"+LUCATA_BASE+\"/lib -lmemoryweb\"\n",
    "os.environ[\"SIMFLAGS\"]=\"-m 24 --total_nodes 1 --output_instruction_count --capture_timing_queues\""
   ]
  },
  {
   "cell_type": "markdown",
   "metadata": {},
   "source": [
    "This notebook goes along with the [Lucata programming basics slides](https://github.com/gt-crnch-rg/pearc-tutorial-2021/blob/main/slides/lucata_tutorial/01_Lucata_Pathfinder_Tutorial_Basics.pdf), so please follow along with the slides for a supplemental resource. \n",
    "\n",
    "## SAXPY with Cilk Spawn\n",
    "\n",
    "Our first example shows an example of Single-precision AX Plus Y (SAXPY), a basic linear algebra kernel that combines scalar multiplication and vector addition. As shown in the saxpy kernel, the output, `y`, is equal to the sum of the constant `a` multiplied by the elements of a vector `x`. \n",
    "\n",
    "This first example shows how to implement SAXPY using the Cilk functions, `cilk_spawn` and `cilk_sync`. Note that the Lucata architecture operates on a particular \"grain size\", which is specified by the number of threads (the first argument to the program). \n",
    "\n",
    "*For examples of SAXPY in other parallel languages please check out this [NVIDIA developer blog on SAXPY](https://developer.nvidia.com/blog/six-ways-saxpy/)."
   ]
  },
  {
   "cell_type": "code",
   "execution_count": null,
   "metadata": {},
   "outputs": [],
   "source": [
    "Code('saxpy.c')"
   ]
  },
  {
   "cell_type": "markdown",
   "metadata": {},
   "source": [
    "We'll test compiling and running this example with a 4 and 8 threads, an array with 32 or 128 elements, and a constant value `a` of 5.0. Then we will check the .cdc files for the simulated runtime of the profiled region. \n",
    "\n",
    "This notebook will use 8 threads and an array of size 128 for all examples after this one.\n",
    "\n",
    "The line that says \"Emu system run time\" is the simulated time to complete the SAXPY operation."
   ]
  },
  {
   "cell_type": "code",
   "execution_count": null,
   "metadata": {},
   "outputs": [],
   "source": [
    "%%bash\n",
    "emu-cc -o saxpy.mwx $CCFLAGS saxpy.c\n",
    "emusim.x $SIMFLAGS -- saxpy.mwx 4 32 5.0 2>/dev/null\n",
    "less saxpy.cdc | grep \"Emu system run time\""
   ]
  },
  {
   "cell_type": "code",
   "execution_count": null,
   "metadata": {},
   "outputs": [],
   "source": [
    "%%bash\n",
    "emusim.x $SIMFLAGS -- saxpy.mwx 8 128 5.0 2>/dev/null\n",
    "less saxpy.cdc | grep \"Emu system run time\""
   ]
  },
  {
   "cell_type": "markdown",
   "metadata": {},
   "source": [
    "## SAXPY with Cilk For\n",
    "\n",
    "`cilk_for` can be used to launch one thread per loop iteration in a fashion similar to traditional OpenMP pragma-based `omp parallel for` loops. Note here that the programmer must explicitly specify a grainsize to partition up the input array."
   ]
  },
  {
   "cell_type": "code",
   "execution_count": null,
   "metadata": {},
   "outputs": [],
   "source": [
    "Code('saxpy-for.c')"
   ]
  },
  {
   "cell_type": "code",
   "execution_count": null,
   "metadata": {},
   "outputs": [],
   "source": [
    "%%bash\n",
    "emu-cc $CCFLAGS -o saxpy-for.mwx  saxpy-for.c\n",
    "emusim.x $SIMFLAGS -- saxpy-for.mwx 8 128 5.0 2>/dev/null\n",
    "less saxpy-for.cdc | grep \"Emu system run time\""
   ]
  },
  {
   "cell_type": "markdown",
   "metadata": {},
   "source": [
    "## SAXPY with Distributed Allocation (1D)\n",
    "\n",
    "In this example, `memoryweb.h` is included for Lucata-specific distributed allocation strategies while `mw_malloc1dlong` is used to distribute data across different nodes within the system."
   ]
  },
  {
   "cell_type": "code",
   "execution_count": null,
   "metadata": {},
   "outputs": [],
   "source": [
    "Code('saxpy-1d.c')"
   ]
  },
  {
   "cell_type": "code",
   "execution_count": null,
   "metadata": {},
   "outputs": [],
   "source": [
    "%%bash\n",
    "emu-cc $CCFLAGS -o saxpy-1d.mwx  saxpy-1d.c\n",
    "emusim.x $SIMFLAGS -- saxpy-1d.mwx 8 128 5.0 2>/dev/null\n",
    "less saxpy-1d.cdc | grep \"Emu system run time\""
   ]
  },
  {
   "cell_type": "markdown",
   "metadata": {},
   "source": [
    "## SAXPY Distributed Spawn with migrate_hint\n",
    "\n",
    "The `migrate_hint` allows the programmer to pass a pointer that is then used by the next `cilk_spawn` operation to efficiently jump to a specific part of a distributed array. Here the migration hint is specifying a \"directed spawn\" to the location where `y[j]` is located. Note that `cilk_spawn_at` provides a similar purpose by combining a spawn and migration hint operation into one call. "
   ]
  },
  {
   "cell_type": "code",
   "execution_count": null,
   "metadata": {},
   "outputs": [],
   "source": [
    "Code('saxpy-1d-hint.c')"
   ]
  },
  {
   "cell_type": "code",
   "execution_count": null,
   "metadata": {},
   "outputs": [],
   "source": [
    "%%bash\n",
    "emu-cc $CCFLAGS -o saxpy-1d-hint.mwx  saxpy-1d-hint.c\n",
    "emusim.x $SIMFLAGS -- saxpy-1d-hint.mwx 8 128 5.0 2>/dev/null\n",
    "less saxpy-1d-hint.cdc | grep \"Emu system run time\""
   ]
  },
  {
   "cell_type": "markdown",
   "metadata": {},
   "source": [
    "## SAXPY with 2D Distributed Allocation\n",
    "\n",
    "This example shows the usage of `cilk_spawn_at` and 2D block allocation of data across the Lucata nodes. In this case, the number of threads matches the number of blocks and the work done by each thread is the block size. "
   ]
  },
  {
   "cell_type": "code",
   "execution_count": null,
   "metadata": {},
   "outputs": [],
   "source": [
    "Code('saxpy-2d-spawn-at.c')"
   ]
  },
  {
   "cell_type": "code",
   "execution_count": null,
   "metadata": {},
   "outputs": [],
   "source": [
    "%%bash\n",
    "emu-cc $CCFLAGS -o saxpy-2d-spawn-at.mwx  saxpy-2d-spawn-at.c\n",
    "emusim.x $SIMFLAGS -- saxpy-2d-spawn-at.mwx 8 128 5.0 2>/dev/null\n",
    "less saxpy-2d-spawn-at.cdc | grep \"Emu system run time\""
   ]
  },
  {
   "cell_type": "markdown",
   "metadata": {},
   "source": [
    "## SAXPY with Local Allocation\n",
    "\n",
    "This example shows a variation of the previous 2D code with a local allocation for the output. You will notice that the local allocation for the output (as opposed to 2D allocation) results in more migrations overall. "
   ]
  },
  {
   "cell_type": "code",
   "execution_count": null,
   "metadata": {},
   "outputs": [],
   "source": [
    "Code('saxpy-local-spawn-at.c')"
   ]
  },
  {
   "cell_type": "code",
   "execution_count": null,
   "metadata": {},
   "outputs": [],
   "source": [
    "%%bash\n",
    "emu-cc $CCFLAGS -o saxpy-local-spawn-at.mwx  saxpy-local-spawn-at.c\n",
    "emusim.x $SIMFLAGS -- saxpy-local-spawn-at.mwx 8 128 5.0 2>/dev/null\n",
    "less saxpy-local-spawn-at.cdc | grep \"Emu system run time\""
   ]
  },
  {
   "cell_type": "markdown",
   "metadata": {},
   "source": [
    "## SAXPY with Replicated Data Structures\n",
    "\n",
    "Finally, we look at using replication to create copies of the constant variable, `a` across all the nodes. This prevents migrations to access this common variable if it were located only on a single node. Note that replication can be a powerful tool for optimized allocation but it should be used primarily with small data structures and variables that are read-only (for coherency reasons)."
   ]
  },
  {
   "cell_type": "code",
   "execution_count": null,
   "metadata": {},
   "outputs": [],
   "source": [
    "Code('saxpy-1d-replicated.c')"
   ]
  },
  {
   "cell_type": "code",
   "execution_count": null,
   "metadata": {},
   "outputs": [],
   "source": [
    "%%bash\n",
    "emu-cc $CCFLAGS -o saxpy-1d-replicated.mwx  saxpy-1d-replicated.c\n",
    "emusim.x $SIMFLAGS -- saxpy-1d-replicated.mwx 8 128 5.0 2>/dev/null\n",
    "less saxpy-1d-replicated.cdc | grep \"Emu system run time\"\n",
    "\n",
    "#%%bash\n",
    "#FLAGS=\"-I/tools/lucata/pathfinder-sw/22.02/include/memoryweb/ -L/tools/lucata/pathfinder-sw/22.02/lib -lmemoryweb\"\n",
    "#emu-cc -o saxpy-1d-replicated.mwx $FLAGS saxpy-1d-replicated.c\n",
    "#emusim.x -m 24 --total_nodes 1 -- saxpy-1d-replicated.mwx 8 128 5 2>/dev/null"
   ]
  },
  {
   "cell_type": "markdown",
   "metadata": {},
   "source": [
    "## Visualization\n",
    "\n",
    "As we learned in Notebook 1.1, we can use `emusim_profile` to generate a number of charts to help us understand the performance of the profiled regions. Below is an example of how to do that for the last example, `saxpy-1d-replicated`. "
   ]
  },
  {
   "cell_type": "code",
   "execution_count": null,
   "metadata": {},
   "outputs": [],
   "source": [
    "%%bash\n",
    "emusim_profile saxpy-profile $SIMFLAGS -- saxpy-1d-replicated.mwx 8 128 5.0 2>/dev/null"
   ]
  },
  {
   "cell_type": "markdown",
   "metadata": {},
   "source": [
    "The output for the above simulation is summarized in the file [saxpy-profile/saxpy-1d-replicated.html](saxpy-profile/saxpy-1d-replicated-report.html). Note that some plots will not be generated when running with fewer than 2 nodes (set in `$SIMFLAGS`)."
   ]
  },
  {
   "cell_type": "markdown",
   "metadata": {},
   "source": [
    "### Postcript\n",
    "Here we have investigated several different strategies for spawning threads and allocatin data with the Pathfinder's distributed layout. \n",
    "\n",
    "Once we've finished our testing, we can clean up some of the logfiles that we used for this example with `make clean`. Uncomment the following line to clean this directory."
   ]
  },
  {
   "cell_type": "code",
   "execution_count": null,
   "metadata": {},
   "outputs": [],
   "source": [
    "#!make clean"
   ]
  }
 ],
 "metadata": {
  "kernelspec": {
   "display_name": "Python 3",
   "language": "python",
   "name": "python3"
  },
  "language_info": {
   "codemirror_mode": {
    "name": "ipython",
    "version": 3
   },
   "file_extension": ".py",
   "mimetype": "text/x-python",
   "name": "python",
   "nbconvert_exporter": "python",
   "pygments_lexer": "ipython3",
   "version": "3.6.8"
  }
 },
 "nbformat": 4,
 "nbformat_minor": 4
}
