{
 "cells": [
  {
   "cell_type": "markdown",
   "metadata": {},
   "source": [
    "# Notebook #3 - Pathfinder Workflow with SAXPY"
   ]
  },
  {
   "cell_type": "markdown",
   "metadata": {},
   "source": [
    "Initial steps: We must import specific environment variables to point to the user's notebook code director and to the Lucata tools."
   ]
  },
  {
   "cell_type": "code",
   "execution_count": 1,
   "metadata": {},
   "outputs": [
    {
     "name": "stdout",
     "output_type": "stream",
     "text": [
      "/nethome/plavin3/lucata-pathfinder-tutorial/code\n",
      "/tools/emu/pathfinder-sw/22.09-beta/bin/emu-cc\n",
      "Lucata compilation flags are -I/tools/lucata/pathfinder-sw/22.09-beta/include/memoryweb/ -L/tools/lucata/pathfinder-sw/22.09-beta/lib -lmemoryweb\n"
     ]
    }
   ],
   "source": [
    "%load_ext slurm_magic\n",
    "import os\n",
    "from IPython.display import Code\n",
    "\n",
    "#Get the path to where all code samples are\n",
    "os.environ[\"USER_NOTEBOOK_CODE\"]=os.path.dirname(os.getcwd())\n",
    "os.environ[\"X86FLAGS\"] = \"-I/tools/lucata/pathfinder-sw/22.09-beta/include/cilk/ -I/tools/emu/pathfinder-sw/22.09-beta/x86/include/emu_c_utils /tools/emu/pathfinder-sw/22.09-beta/x86/lib/libemu_c_utils.a\"\n",
    "\n",
    "os.environ[\"PATH\"]=os.pathsep.join([\"/tools/emu/pathfinder-sw/22.09-beta/bin\",os.environ[\"PATH\"]])\n",
    "os.environ[\"FLAGS\"]=\"-I/tools/lucata/pathfinder-sw/22.09-beta/include/memoryweb/ -L/tools/lucata/pathfinder-sw/22.09-beta/lib -lmemoryweb\"\n",
    "os.environ[\"LUCATA_BASE\"]=\"/tools/emu/pathfinder-sw/22.09-beta/\"\n",
    "\n",
    "!echo $USER_NOTEBOOK_CODE\n",
    "#Print out which Emu compiler, emu-cc, we are using\n",
    "!which emu-cc\n",
    "#Print out the compiler flags we need to use the Lucata memoryweb headers and library\n",
    "!echo \"Lucata compilation flags are $FLAGS\""
   ]
  },
  {
   "cell_type": "markdown",
   "metadata": {},
   "source": [
    "This notebook goes along with the [Lucata workflow slides](https://github.com/gt-crnch-rg/pearc-tutorial-2021/blob/main/slides/lucata_tutorial/02_Lucata_Pathfinder_Tutorial_Workflow.pdf), so please follow along with the slides for a supplemental resource. \n",
    "\n",
    "## Lucata Pathfinder Workflow\n",
    "\n",
    "This figure shows the workflow for using the Pathfinder ecosystem and hardware. Since the Pathfinder is programmed using a variant of the Cilk programming language, code written for this platform can be run on x86 systems using the Lucata toolchain, some GCC versions (5-7), or an appropriate Clang branch like [MIT's Tapir](https://www.csail.mit.edu/research/tapir).\n",
    "\n",
    "![Lucata Workflow](../resources/figs/lucata_pathfinder_workflow.png)\n",
    "\n",
    "This notebook takes one of our previous Saxpy examples and uses it as part of a workflow that shows how to run code on the x86 system, simulator, and finally on the hardware. Just to revisit, we are using the basic SAXPY \"1D allocation\" kernel from Notebook 2."
   ]
  },
  {
   "cell_type": "markdown",
   "metadata": {
    "tags": []
   },
   "source": [
    "### X86 Execution\n",
    "As a first step, we need to update the code slightly to allow it to be compiled for x86 platforms using \"memoryweb_x86.h\". This compatibility header tells the compiler to compile for an x86 variant of Cilk rather than the Lucata version. The differences are that some Lucata-specific commands like `cilk_spawn_at` don't exist in most standard x86 Cilk APIs.\n",
    "\n",
    "Also, note the inclusion of the \"emu_c_utils\" header, which provides additional helper functions."
   ]
  },
  {
   "cell_type": "code",
   "execution_count": 4,
   "metadata": {},
   "outputs": [
    {
     "data": {
      "text/html": [
       "<style>pre { line-height: 125%; }\n",
       "td.linenos .normal { color: inherit; background-color: transparent; padding-left: 5px; padding-right: 5px; }\n",
       "span.linenos { color: inherit; background-color: transparent; padding-left: 5px; padding-right: 5px; }\n",
       "td.linenos .special { color: #000000; background-color: #ffffc0; padding-left: 5px; padding-right: 5px; }\n",
       "span.linenos.special { color: #000000; background-color: #ffffc0; padding-left: 5px; padding-right: 5px; }\n",
       ".output_html .hll { background-color: #ffffcc }\n",
       ".output_html { background: #f8f8f8; }\n",
       ".output_html .c { color: #3D7B7B; font-style: italic } /* Comment */\n",
       ".output_html .err { border: 1px solid #FF0000 } /* Error */\n",
       ".output_html .k { color: #008000; font-weight: bold } /* Keyword */\n",
       ".output_html .o { color: #666666 } /* Operator */\n",
       ".output_html .ch { color: #3D7B7B; font-style: italic } /* Comment.Hashbang */\n",
       ".output_html .cm { color: #3D7B7B; font-style: italic } /* Comment.Multiline */\n",
       ".output_html .cp { color: #9C6500 } /* Comment.Preproc */\n",
       ".output_html .cpf { color: #3D7B7B; font-style: italic } /* Comment.PreprocFile */\n",
       ".output_html .c1 { color: #3D7B7B; font-style: italic } /* Comment.Single */\n",
       ".output_html .cs { color: #3D7B7B; font-style: italic } /* Comment.Special */\n",
       ".output_html .gd { color: #A00000 } /* Generic.Deleted */\n",
       ".output_html .ge { font-style: italic } /* Generic.Emph */\n",
       ".output_html .gr { color: #E40000 } /* Generic.Error */\n",
       ".output_html .gh { color: #000080; font-weight: bold } /* Generic.Heading */\n",
       ".output_html .gi { color: #008400 } /* Generic.Inserted */\n",
       ".output_html .go { color: #717171 } /* Generic.Output */\n",
       ".output_html .gp { color: #000080; font-weight: bold } /* Generic.Prompt */\n",
       ".output_html .gs { font-weight: bold } /* Generic.Strong */\n",
       ".output_html .gu { color: #800080; font-weight: bold } /* Generic.Subheading */\n",
       ".output_html .gt { color: #0044DD } /* Generic.Traceback */\n",
       ".output_html .kc { color: #008000; font-weight: bold } /* Keyword.Constant */\n",
       ".output_html .kd { color: #008000; font-weight: bold } /* Keyword.Declaration */\n",
       ".output_html .kn { color: #008000; font-weight: bold } /* Keyword.Namespace */\n",
       ".output_html .kp { color: #008000 } /* Keyword.Pseudo */\n",
       ".output_html .kr { color: #008000; font-weight: bold } /* Keyword.Reserved */\n",
       ".output_html .kt { color: #B00040 } /* Keyword.Type */\n",
       ".output_html .m { color: #666666 } /* Literal.Number */\n",
       ".output_html .s { color: #BA2121 } /* Literal.String */\n",
       ".output_html .na { color: #687822 } /* Name.Attribute */\n",
       ".output_html .nb { color: #008000 } /* Name.Builtin */\n",
       ".output_html .nc { color: #0000FF; font-weight: bold } /* Name.Class */\n",
       ".output_html .no { color: #880000 } /* Name.Constant */\n",
       ".output_html .nd { color: #AA22FF } /* Name.Decorator */\n",
       ".output_html .ni { color: #717171; font-weight: bold } /* Name.Entity */\n",
       ".output_html .ne { color: #CB3F38; font-weight: bold } /* Name.Exception */\n",
       ".output_html .nf { color: #0000FF } /* Name.Function */\n",
       ".output_html .nl { color: #767600 } /* Name.Label */\n",
       ".output_html .nn { color: #0000FF; font-weight: bold } /* Name.Namespace */\n",
       ".output_html .nt { color: #008000; font-weight: bold } /* Name.Tag */\n",
       ".output_html .nv { color: #19177C } /* Name.Variable */\n",
       ".output_html .ow { color: #AA22FF; font-weight: bold } /* Operator.Word */\n",
       ".output_html .w { color: #bbbbbb } /* Text.Whitespace */\n",
       ".output_html .mb { color: #666666 } /* Literal.Number.Bin */\n",
       ".output_html .mf { color: #666666 } /* Literal.Number.Float */\n",
       ".output_html .mh { color: #666666 } /* Literal.Number.Hex */\n",
       ".output_html .mi { color: #666666 } /* Literal.Number.Integer */\n",
       ".output_html .mo { color: #666666 } /* Literal.Number.Oct */\n",
       ".output_html .sa { color: #BA2121 } /* Literal.String.Affix */\n",
       ".output_html .sb { color: #BA2121 } /* Literal.String.Backtick */\n",
       ".output_html .sc { color: #BA2121 } /* Literal.String.Char */\n",
       ".output_html .dl { color: #BA2121 } /* Literal.String.Delimiter */\n",
       ".output_html .sd { color: #BA2121; font-style: italic } /* Literal.String.Doc */\n",
       ".output_html .s2 { color: #BA2121 } /* Literal.String.Double */\n",
       ".output_html .se { color: #AA5D1F; font-weight: bold } /* Literal.String.Escape */\n",
       ".output_html .sh { color: #BA2121 } /* Literal.String.Heredoc */\n",
       ".output_html .si { color: #A45A77; font-weight: bold } /* Literal.String.Interpol */\n",
       ".output_html .sx { color: #008000 } /* Literal.String.Other */\n",
       ".output_html .sr { color: #A45A77 } /* Literal.String.Regex */\n",
       ".output_html .s1 { color: #BA2121 } /* Literal.String.Single */\n",
       ".output_html .ss { color: #19177C } /* Literal.String.Symbol */\n",
       ".output_html .bp { color: #008000 } /* Name.Builtin.Pseudo */\n",
       ".output_html .fm { color: #0000FF } /* Name.Function.Magic */\n",
       ".output_html .vc { color: #19177C } /* Name.Variable.Class */\n",
       ".output_html .vg { color: #19177C } /* Name.Variable.Global */\n",
       ".output_html .vi { color: #19177C } /* Name.Variable.Instance */\n",
       ".output_html .vm { color: #19177C } /* Name.Variable.Magic */\n",
       ".output_html .il { color: #666666 } /* Literal.Number.Integer.Long */</style><div class=\"highlight\"><pre><span></span><span class=\"c1\">//saxpy-1d-workflow.c</span>\n",
       "<span class=\"cp\">#include</span><span class=\"w\"> </span><span class=\"cpf\">&lt;stdio.h&gt;</span><span class=\"cp\"></span>\n",
       "<span class=\"cp\">#include</span><span class=\"w\"> </span><span class=\"cpf\">&lt;stdlib.h&gt;</span><span class=\"cp\"></span>\n",
       "<span class=\"cp\">#include</span><span class=\"w\"> </span><span class=\"cpf\">&lt;cilk/cilk.h&gt;</span><span class=\"cp\"></span>\n",
       "\n",
       "<span class=\"c1\">//If x86 is specified use the x86 compatibility headers with Cilk; otherwise use the Lucata toolchain</span>\n",
       "<span class=\"cp\">#ifdef X86</span>\n",
       "<span class=\"w\">  </span><span class=\"cp\">#include</span><span class=\"w\"> </span><span class=\"cpf\">&quot;memoryweb_x86.h&quot;</span><span class=\"cp\"></span>\n",
       "<span class=\"w\">  </span><span class=\"cp\">#include</span><span class=\"w\"> </span><span class=\"cpf\">&lt;emu_c_utils.h&gt;</span><span class=\"cp\"></span>\n",
       "<span class=\"cp\">#else</span>\n",
       "<span class=\"w\">  </span><span class=\"cp\">#include</span><span class=\"w\"> </span><span class=\"cpf\">&quot;memoryweb.h&quot;</span><span class=\"cp\"></span>\n",
       "<span class=\"w\">  </span><span class=\"cp\">#include</span><span class=\"w\"> </span><span class=\"cpf\">&lt;emu_c_utils/emu_c_utils.h&gt;</span><span class=\"cp\"></span>\n",
       "<span class=\"cp\">#endif</span>\n",
       "\n",
       "<span class=\"kt\">void</span><span class=\"w\"> </span><span class=\"nf\">saxpy</span><span class=\"p\">(</span><span class=\"kt\">long</span><span class=\"w\"> </span><span class=\"n\">n</span><span class=\"p\">,</span><span class=\"w\"> </span><span class=\"kt\">long</span><span class=\"w\"> </span><span class=\"n\">a</span><span class=\"p\">,</span><span class=\"w\"> </span><span class=\"kt\">long</span><span class=\"w\"> </span><span class=\"o\">*</span><span class=\"n\">x</span><span class=\"p\">,</span><span class=\"w\"> </span><span class=\"kt\">long</span><span class=\"w\"> </span><span class=\"o\">*</span><span class=\"n\">y</span><span class=\"p\">)</span><span class=\"w\"></span>\n",
       "<span class=\"p\">{</span><span class=\"w\"></span>\n",
       "<span class=\"w\">  </span><span class=\"k\">for</span><span class=\"w\"> </span><span class=\"p\">(</span><span class=\"kt\">long</span><span class=\"w\"> </span><span class=\"n\">i</span><span class=\"w\"> </span><span class=\"o\">=</span><span class=\"w\"> </span><span class=\"mi\">0</span><span class=\"p\">;</span><span class=\"w\"> </span><span class=\"n\">i</span><span class=\"w\"> </span><span class=\"o\">&lt;</span><span class=\"w\"> </span><span class=\"n\">n</span><span class=\"p\">;</span><span class=\"w\"> </span><span class=\"n\">i</span><span class=\"o\">++</span><span class=\"p\">)</span><span class=\"w\"></span>\n",
       "<span class=\"w\">    </span><span class=\"n\">y</span><span class=\"p\">[</span><span class=\"n\">i</span><span class=\"p\">]</span><span class=\"w\"> </span><span class=\"o\">+=</span><span class=\"w\"> </span><span class=\"n\">a</span><span class=\"w\"> </span><span class=\"o\">*</span><span class=\"w\"> </span><span class=\"n\">x</span><span class=\"p\">[</span><span class=\"n\">i</span><span class=\"p\">];</span><span class=\"w\"></span>\n",
       "<span class=\"p\">}</span><span class=\"w\"></span>\n",
       "\n",
       "<span class=\"kt\">int</span><span class=\"w\"> </span><span class=\"nf\">main</span><span class=\"p\">(</span><span class=\"kt\">int</span><span class=\"w\"> </span><span class=\"n\">argc</span><span class=\"p\">,</span><span class=\"w\"> </span><span class=\"kt\">char</span><span class=\"w\"> </span><span class=\"o\">**</span><span class=\"n\">argv</span><span class=\"p\">)</span><span class=\"w\"></span>\n",
       "<span class=\"p\">{</span><span class=\"w\"></span>\n",
       "<span class=\"w\">  </span><span class=\"k\">if</span><span class=\"p\">(</span><span class=\"n\">argc</span><span class=\"w\"> </span><span class=\"o\">&lt;</span><span class=\"w\"> </span><span class=\"mi\">4</span><span class=\"p\">){</span><span class=\"w\">      </span>\n",
       "<span class=\"w\">      </span><span class=\"n\">printf</span><span class=\"p\">(</span><span class=\"s\">&quot;Pass at least 3 arguments!</span><span class=\"se\">\\n</span><span class=\"s\">&quot;</span><span class=\"p\">);</span><span class=\"w\"></span>\n",
       "<span class=\"w\">      </span><span class=\"n\">printf</span><span class=\"p\">(</span><span class=\"s\">&quot;saxpy-1d-workflow &lt;num_threads&gt; &lt;array_size&gt; &lt;constant&gt;</span><span class=\"se\">\\n</span><span class=\"s\">&quot;</span><span class=\"p\">);</span><span class=\"w\"></span>\n",
       "<span class=\"w\">      </span><span class=\"n\">exit</span><span class=\"p\">(</span><span class=\"mi\">1</span><span class=\"p\">);</span><span class=\"w\"></span>\n",
       "<span class=\"w\">  </span><span class=\"p\">}</span><span class=\"w\">  </span>\n",
       "<span class=\"w\">    </span>\n",
       "<span class=\"w\">  </span><span class=\"kt\">long</span><span class=\"w\"> </span><span class=\"n\">nth</span><span class=\"w\"> </span><span class=\"o\">=</span><span class=\"w\"> </span><span class=\"n\">atol</span><span class=\"p\">(</span><span class=\"n\">argv</span><span class=\"p\">[</span><span class=\"mi\">1</span><span class=\"p\">]);</span><span class=\"w\"> </span><span class=\"c1\">// number threads</span>\n",
       "<span class=\"w\">  </span><span class=\"kt\">long</span><span class=\"w\"> </span><span class=\"n\">size</span><span class=\"w\"> </span><span class=\"o\">=</span><span class=\"w\"> </span><span class=\"n\">atol</span><span class=\"p\">(</span><span class=\"n\">argv</span><span class=\"p\">[</span><span class=\"mi\">2</span><span class=\"p\">]);</span><span class=\"w\"> </span><span class=\"c1\">// array size</span>\n",
       "<span class=\"w\">  </span><span class=\"kt\">long</span><span class=\"w\"> </span><span class=\"n\">aval</span><span class=\"w\"> </span><span class=\"o\">=</span><span class=\"w\"> </span><span class=\"n\">atol</span><span class=\"p\">(</span><span class=\"n\">argv</span><span class=\"p\">[</span><span class=\"mi\">3</span><span class=\"p\">]);</span><span class=\"w\"> </span><span class=\"c1\">// constant</span>\n",
       "<span class=\"w\">  </span>\n",
       "<span class=\"w\">  </span><span class=\"kt\">long</span><span class=\"w\"> </span><span class=\"o\">*</span><span class=\"n\">x</span><span class=\"w\"> </span><span class=\"o\">=</span><span class=\"w\"> </span><span class=\"n\">mw_malloc1dlong</span><span class=\"p\">(</span><span class=\"n\">size</span><span class=\"p\">);</span><span class=\"w\"></span>\n",
       "<span class=\"w\">  </span><span class=\"kt\">long</span><span class=\"w\"> </span><span class=\"o\">*</span><span class=\"n\">y</span><span class=\"w\"> </span><span class=\"o\">=</span><span class=\"w\"> </span><span class=\"n\">mw_malloc1dlong</span><span class=\"p\">(</span><span class=\"n\">size</span><span class=\"p\">);</span><span class=\"w\"></span>\n",
       "\n",
       "<span class=\"w\">  </span><span class=\"k\">for</span><span class=\"w\"> </span><span class=\"p\">(</span><span class=\"kt\">long</span><span class=\"w\"> </span><span class=\"n\">i</span><span class=\"w\"> </span><span class=\"o\">=</span><span class=\"w\"> </span><span class=\"mi\">0</span><span class=\"p\">;</span><span class=\"w\"> </span><span class=\"n\">i</span><span class=\"w\"> </span><span class=\"o\">&lt;</span><span class=\"w\"> </span><span class=\"n\">size</span><span class=\"p\">;</span><span class=\"w\"> </span><span class=\"n\">i</span><span class=\"o\">++</span><span class=\"p\">)</span><span class=\"w\"> </span><span class=\"p\">{</span><span class=\"w\"></span>\n",
       "<span class=\"w\">    </span><span class=\"n\">x</span><span class=\"p\">[</span><span class=\"n\">i</span><span class=\"p\">]</span><span class=\"w\"> </span><span class=\"o\">=</span><span class=\"w\"> </span><span class=\"n\">i</span><span class=\"p\">;</span><span class=\"w\"> </span><span class=\"n\">y</span><span class=\"p\">[</span><span class=\"n\">i</span><span class=\"p\">]</span><span class=\"w\"> </span><span class=\"o\">=</span><span class=\"w\"> </span><span class=\"mi\">0</span><span class=\"p\">;</span><span class=\"w\"></span>\n",
       "<span class=\"w\">  </span><span class=\"p\">}</span><span class=\"w\"></span>\n",
       "\n",
       "<span class=\"w\">  </span><span class=\"kt\">long</span><span class=\"w\"> </span><span class=\"n\">grain</span><span class=\"w\"> </span><span class=\"o\">=</span><span class=\"w\"> </span><span class=\"n\">size</span><span class=\"w\"> </span><span class=\"o\">/</span><span class=\"w\"> </span><span class=\"n\">nth</span><span class=\"p\">;</span><span class=\"w\"> </span><span class=\"c1\">// elts per thread</span>\n",
       "\n",
       "<span class=\"w\">  </span><span class=\"c1\">//Timing flag to simulation only; ignored on x86 and HW</span>\n",
       "<span class=\"w\">  </span><span class=\"n\">starttiming</span><span class=\"p\">();</span><span class=\"w\"></span>\n",
       "<span class=\"w\">  </span><span class=\"k\">for</span><span class=\"w\"> </span><span class=\"p\">(</span><span class=\"kt\">long</span><span class=\"w\"> </span><span class=\"n\">i</span><span class=\"w\"> </span><span class=\"o\">=</span><span class=\"w\"> </span><span class=\"mi\">0</span><span class=\"p\">,</span><span class=\"w\"> </span><span class=\"n\">j</span><span class=\"w\"> </span><span class=\"o\">=</span><span class=\"w\"> </span><span class=\"mi\">0</span><span class=\"p\">;</span><span class=\"w\"> </span><span class=\"n\">i</span><span class=\"w\"> </span><span class=\"o\">&lt;</span><span class=\"w\"> </span><span class=\"n\">nth</span><span class=\"p\">;</span><span class=\"w\"> </span><span class=\"n\">i</span><span class=\"o\">++</span><span class=\"p\">,</span><span class=\"w\"> </span><span class=\"n\">j</span><span class=\"w\"> </span><span class=\"o\">+=</span><span class=\"w\"> </span><span class=\"n\">grain</span><span class=\"p\">)</span><span class=\"w\"></span>\n",
       "<span class=\"w\">    </span><span class=\"n\">cilk_spawn</span><span class=\"w\"> </span><span class=\"n\">saxpy</span><span class=\"p\">(</span><span class=\"n\">grain</span><span class=\"p\">,</span><span class=\"w\"> </span><span class=\"n\">aval</span><span class=\"p\">,</span><span class=\"w\"> </span><span class=\"o\">&amp;</span><span class=\"n\">x</span><span class=\"p\">[</span><span class=\"n\">j</span><span class=\"p\">],</span><span class=\"w\"> </span><span class=\"o\">&amp;</span><span class=\"n\">y</span><span class=\"p\">[</span><span class=\"n\">j</span><span class=\"p\">]);</span><span class=\"w\"></span>\n",
       "<span class=\"w\">  </span><span class=\"n\">cilk_sync</span><span class=\"p\">;</span><span class=\"w\"></span>\n",
       "<span class=\"w\">    </span>\n",
       "<span class=\"w\">  </span><span class=\"n\">printf</span><span class=\"p\">(</span><span class=\"s\">&quot;SAXPY complete!</span><span class=\"se\">\\n</span><span class=\"s\">&quot;</span><span class=\"p\">);</span><span class=\"w\"></span>\n",
       "<span class=\"p\">}</span><span class=\"w\"></span>\n",
       "</pre></div>\n"
      ],
      "text/latex": [
       "\\begin{Verbatim}[commandchars=\\\\\\{\\}]\n",
       "\\PY{c+c1}{//saxpy\\PYZhy{}1d\\PYZhy{}workflow.c}\n",
       "\\PY{c+cp}{\\PYZsh{}}\\PY{c+cp}{include}\\PY{+w}{ }\\PY{c+cpf}{\\PYZlt{}stdio.h\\PYZgt{}}\n",
       "\\PY{c+cp}{\\PYZsh{}}\\PY{c+cp}{include}\\PY{+w}{ }\\PY{c+cpf}{\\PYZlt{}stdlib.h\\PYZgt{}}\n",
       "\\PY{c+cp}{\\PYZsh{}}\\PY{c+cp}{include}\\PY{+w}{ }\\PY{c+cpf}{\\PYZlt{}cilk/cilk.h\\PYZgt{}}\n",
       "\n",
       "\\PY{c+c1}{//If x86 is specified use the x86 compatibility headers with Cilk; otherwise use the Lucata toolchain}\n",
       "\\PY{c+cp}{\\PYZsh{}}\\PY{c+cp}{ifdef X86}\n",
       "\\PY{+w}{  }\\PY{c+cp}{\\PYZsh{}}\\PY{c+cp}{include}\\PY{+w}{ }\\PY{c+cpf}{\\PYZdq{}memoryweb\\PYZus{}x86.h\\PYZdq{}}\n",
       "\\PY{+w}{  }\\PY{c+cp}{\\PYZsh{}}\\PY{c+cp}{include}\\PY{+w}{ }\\PY{c+cpf}{\\PYZlt{}emu\\PYZus{}c\\PYZus{}utils.h\\PYZgt{}}\n",
       "\\PY{c+cp}{\\PYZsh{}}\\PY{c+cp}{else}\n",
       "\\PY{+w}{  }\\PY{c+cp}{\\PYZsh{}}\\PY{c+cp}{include}\\PY{+w}{ }\\PY{c+cpf}{\\PYZdq{}memoryweb.h\\PYZdq{}}\n",
       "\\PY{+w}{  }\\PY{c+cp}{\\PYZsh{}}\\PY{c+cp}{include}\\PY{+w}{ }\\PY{c+cpf}{\\PYZlt{}emu\\PYZus{}c\\PYZus{}utils/emu\\PYZus{}c\\PYZus{}utils.h\\PYZgt{}}\n",
       "\\PY{c+cp}{\\PYZsh{}}\\PY{c+cp}{endif}\n",
       "\n",
       "\\PY{k+kt}{void}\\PY{+w}{ }\\PY{n+nf}{saxpy}\\PY{p}{(}\\PY{k+kt}{long}\\PY{+w}{ }\\PY{n}{n}\\PY{p}{,}\\PY{+w}{ }\\PY{k+kt}{long}\\PY{+w}{ }\\PY{n}{a}\\PY{p}{,}\\PY{+w}{ }\\PY{k+kt}{long}\\PY{+w}{ }\\PY{o}{*}\\PY{n}{x}\\PY{p}{,}\\PY{+w}{ }\\PY{k+kt}{long}\\PY{+w}{ }\\PY{o}{*}\\PY{n}{y}\\PY{p}{)}\n",
       "\\PY{p}{\\PYZob{}}\n",
       "\\PY{+w}{  }\\PY{k}{for}\\PY{+w}{ }\\PY{p}{(}\\PY{k+kt}{long}\\PY{+w}{ }\\PY{n}{i}\\PY{+w}{ }\\PY{o}{=}\\PY{+w}{ }\\PY{l+m+mi}{0}\\PY{p}{;}\\PY{+w}{ }\\PY{n}{i}\\PY{+w}{ }\\PY{o}{\\PYZlt{}}\\PY{+w}{ }\\PY{n}{n}\\PY{p}{;}\\PY{+w}{ }\\PY{n}{i}\\PY{o}{+}\\PY{o}{+}\\PY{p}{)}\n",
       "\\PY{+w}{    }\\PY{n}{y}\\PY{p}{[}\\PY{n}{i}\\PY{p}{]}\\PY{+w}{ }\\PY{o}{+}\\PY{o}{=}\\PY{+w}{ }\\PY{n}{a}\\PY{+w}{ }\\PY{o}{*}\\PY{+w}{ }\\PY{n}{x}\\PY{p}{[}\\PY{n}{i}\\PY{p}{]}\\PY{p}{;}\n",
       "\\PY{p}{\\PYZcb{}}\n",
       "\n",
       "\\PY{k+kt}{int}\\PY{+w}{ }\\PY{n+nf}{main}\\PY{p}{(}\\PY{k+kt}{int}\\PY{+w}{ }\\PY{n}{argc}\\PY{p}{,}\\PY{+w}{ }\\PY{k+kt}{char}\\PY{+w}{ }\\PY{o}{*}\\PY{o}{*}\\PY{n}{argv}\\PY{p}{)}\n",
       "\\PY{p}{\\PYZob{}}\n",
       "\\PY{+w}{  }\\PY{k}{if}\\PY{p}{(}\\PY{n}{argc}\\PY{+w}{ }\\PY{o}{\\PYZlt{}}\\PY{+w}{ }\\PY{l+m+mi}{4}\\PY{p}{)}\\PY{p}{\\PYZob{}}\\PY{+w}{      }\n",
       "\\PY{+w}{      }\\PY{n}{printf}\\PY{p}{(}\\PY{l+s}{\\PYZdq{}}\\PY{l+s}{Pass at least 3 arguments!}\\PY{l+s+se}{\\PYZbs{}n}\\PY{l+s}{\\PYZdq{}}\\PY{p}{)}\\PY{p}{;}\n",
       "\\PY{+w}{      }\\PY{n}{printf}\\PY{p}{(}\\PY{l+s}{\\PYZdq{}}\\PY{l+s}{saxpy\\PYZhy{}1d\\PYZhy{}workflow \\PYZlt{}num\\PYZus{}threads\\PYZgt{} \\PYZlt{}array\\PYZus{}size\\PYZgt{} \\PYZlt{}constant\\PYZgt{}}\\PY{l+s+se}{\\PYZbs{}n}\\PY{l+s}{\\PYZdq{}}\\PY{p}{)}\\PY{p}{;}\n",
       "\\PY{+w}{      }\\PY{n}{exit}\\PY{p}{(}\\PY{l+m+mi}{1}\\PY{p}{)}\\PY{p}{;}\n",
       "\\PY{+w}{  }\\PY{p}{\\PYZcb{}}\\PY{+w}{  }\n",
       "\\PY{+w}{    }\n",
       "\\PY{+w}{  }\\PY{k+kt}{long}\\PY{+w}{ }\\PY{n}{nth}\\PY{+w}{ }\\PY{o}{=}\\PY{+w}{ }\\PY{n}{atol}\\PY{p}{(}\\PY{n}{argv}\\PY{p}{[}\\PY{l+m+mi}{1}\\PY{p}{]}\\PY{p}{)}\\PY{p}{;}\\PY{+w}{ }\\PY{c+c1}{// number threads}\n",
       "\\PY{+w}{  }\\PY{k+kt}{long}\\PY{+w}{ }\\PY{n}{size}\\PY{+w}{ }\\PY{o}{=}\\PY{+w}{ }\\PY{n}{atol}\\PY{p}{(}\\PY{n}{argv}\\PY{p}{[}\\PY{l+m+mi}{2}\\PY{p}{]}\\PY{p}{)}\\PY{p}{;}\\PY{+w}{ }\\PY{c+c1}{// array size}\n",
       "\\PY{+w}{  }\\PY{k+kt}{long}\\PY{+w}{ }\\PY{n}{aval}\\PY{+w}{ }\\PY{o}{=}\\PY{+w}{ }\\PY{n}{atol}\\PY{p}{(}\\PY{n}{argv}\\PY{p}{[}\\PY{l+m+mi}{3}\\PY{p}{]}\\PY{p}{)}\\PY{p}{;}\\PY{+w}{ }\\PY{c+c1}{// constant}\n",
       "\\PY{+w}{  }\n",
       "\\PY{+w}{  }\\PY{k+kt}{long}\\PY{+w}{ }\\PY{o}{*}\\PY{n}{x}\\PY{+w}{ }\\PY{o}{=}\\PY{+w}{ }\\PY{n}{mw\\PYZus{}malloc1dlong}\\PY{p}{(}\\PY{n}{size}\\PY{p}{)}\\PY{p}{;}\n",
       "\\PY{+w}{  }\\PY{k+kt}{long}\\PY{+w}{ }\\PY{o}{*}\\PY{n}{y}\\PY{+w}{ }\\PY{o}{=}\\PY{+w}{ }\\PY{n}{mw\\PYZus{}malloc1dlong}\\PY{p}{(}\\PY{n}{size}\\PY{p}{)}\\PY{p}{;}\n",
       "\n",
       "\\PY{+w}{  }\\PY{k}{for}\\PY{+w}{ }\\PY{p}{(}\\PY{k+kt}{long}\\PY{+w}{ }\\PY{n}{i}\\PY{+w}{ }\\PY{o}{=}\\PY{+w}{ }\\PY{l+m+mi}{0}\\PY{p}{;}\\PY{+w}{ }\\PY{n}{i}\\PY{+w}{ }\\PY{o}{\\PYZlt{}}\\PY{+w}{ }\\PY{n}{size}\\PY{p}{;}\\PY{+w}{ }\\PY{n}{i}\\PY{o}{+}\\PY{o}{+}\\PY{p}{)}\\PY{+w}{ }\\PY{p}{\\PYZob{}}\n",
       "\\PY{+w}{    }\\PY{n}{x}\\PY{p}{[}\\PY{n}{i}\\PY{p}{]}\\PY{+w}{ }\\PY{o}{=}\\PY{+w}{ }\\PY{n}{i}\\PY{p}{;}\\PY{+w}{ }\\PY{n}{y}\\PY{p}{[}\\PY{n}{i}\\PY{p}{]}\\PY{+w}{ }\\PY{o}{=}\\PY{+w}{ }\\PY{l+m+mi}{0}\\PY{p}{;}\n",
       "\\PY{+w}{  }\\PY{p}{\\PYZcb{}}\n",
       "\n",
       "\\PY{+w}{  }\\PY{k+kt}{long}\\PY{+w}{ }\\PY{n}{grain}\\PY{+w}{ }\\PY{o}{=}\\PY{+w}{ }\\PY{n}{size}\\PY{+w}{ }\\PY{o}{/}\\PY{+w}{ }\\PY{n}{nth}\\PY{p}{;}\\PY{+w}{ }\\PY{c+c1}{// elts per thread}\n",
       "\n",
       "\\PY{+w}{  }\\PY{c+c1}{//Timing flag to simulation only; ignored on x86 and HW}\n",
       "\\PY{+w}{  }\\PY{n}{starttiming}\\PY{p}{(}\\PY{p}{)}\\PY{p}{;}\n",
       "\\PY{+w}{  }\\PY{k}{for}\\PY{+w}{ }\\PY{p}{(}\\PY{k+kt}{long}\\PY{+w}{ }\\PY{n}{i}\\PY{+w}{ }\\PY{o}{=}\\PY{+w}{ }\\PY{l+m+mi}{0}\\PY{p}{,}\\PY{+w}{ }\\PY{n}{j}\\PY{+w}{ }\\PY{o}{=}\\PY{+w}{ }\\PY{l+m+mi}{0}\\PY{p}{;}\\PY{+w}{ }\\PY{n}{i}\\PY{+w}{ }\\PY{o}{\\PYZlt{}}\\PY{+w}{ }\\PY{n}{nth}\\PY{p}{;}\\PY{+w}{ }\\PY{n}{i}\\PY{o}{+}\\PY{o}{+}\\PY{p}{,}\\PY{+w}{ }\\PY{n}{j}\\PY{+w}{ }\\PY{o}{+}\\PY{o}{=}\\PY{+w}{ }\\PY{n}{grain}\\PY{p}{)}\n",
       "\\PY{+w}{    }\\PY{n}{cilk\\PYZus{}spawn}\\PY{+w}{ }\\PY{n}{saxpy}\\PY{p}{(}\\PY{n}{grain}\\PY{p}{,}\\PY{+w}{ }\\PY{n}{aval}\\PY{p}{,}\\PY{+w}{ }\\PY{o}{\\PYZam{}}\\PY{n}{x}\\PY{p}{[}\\PY{n}{j}\\PY{p}{]}\\PY{p}{,}\\PY{+w}{ }\\PY{o}{\\PYZam{}}\\PY{n}{y}\\PY{p}{[}\\PY{n}{j}\\PY{p}{]}\\PY{p}{)}\\PY{p}{;}\n",
       "\\PY{+w}{  }\\PY{n}{cilk\\PYZus{}sync}\\PY{p}{;}\n",
       "\\PY{+w}{    }\n",
       "\\PY{+w}{  }\\PY{n}{printf}\\PY{p}{(}\\PY{l+s}{\\PYZdq{}}\\PY{l+s}{SAXPY complete!}\\PY{l+s+se}{\\PYZbs{}n}\\PY{l+s}{\\PYZdq{}}\\PY{p}{)}\\PY{p}{;}\n",
       "\\PY{p}{\\PYZcb{}}\n",
       "\\end{Verbatim}\n"
      ],
      "text/plain": [
       "//saxpy-1d-workflow.c\n",
       "#include <stdio.h>\n",
       "#include <stdlib.h>\n",
       "#include <cilk/cilk.h>\n",
       "\n",
       "//If x86 is specified use the x86 compatibility headers with Cilk; otherwise use the Lucata toolchain\n",
       "#ifdef X86\n",
       "  #include \"memoryweb_x86.h\"\n",
       "  #include <emu_c_utils.h>\n",
       "#else\n",
       "  #include \"memoryweb.h\"\n",
       "  #include <emu_c_utils/emu_c_utils.h>\n",
       "#endif\n",
       "\n",
       "void saxpy(long n, long a, long *x, long *y)\n",
       "{\n",
       "  for (long i = 0; i < n; i++)\n",
       "    y[i] += a * x[i];\n",
       "}\n",
       "\n",
       "int main(int argc, char **argv)\n",
       "{\n",
       "  if(argc < 4){      \n",
       "      printf(\"Pass at least 3 arguments!\\n\");\n",
       "      printf(\"saxpy-1d-workflow <num_threads> <array_size> <constant>\\n\");\n",
       "      exit(1);\n",
       "  }  \n",
       "    \n",
       "  long nth = atol(argv[1]); // number threads\n",
       "  long size = atol(argv[2]); // array size\n",
       "  long aval = atol(argv[3]); // constant\n",
       "  \n",
       "  long *x = mw_malloc1dlong(size);\n",
       "  long *y = mw_malloc1dlong(size);\n",
       "\n",
       "  for (long i = 0; i < size; i++) {\n",
       "    x[i] = i; y[i] = 0;\n",
       "  }\n",
       "\n",
       "  long grain = size / nth; // elts per thread\n",
       "\n",
       "  //Timing flag to simulation only; ignored on x86 and HW\n",
       "  starttiming();\n",
       "  for (long i = 0, j = 0; i < nth; i++, j += grain)\n",
       "    cilk_spawn saxpy(grain, aval, &x[j], &y[j]);\n",
       "  cilk_sync;\n",
       "    \n",
       "  printf(\"SAXPY complete!\\n\");\n",
       "}"
      ]
     },
     "execution_count": 4,
     "metadata": {},
     "output_type": "execute_result"
    }
   ],
   "source": [
    "Code('saxpy-1d-workflow.c')"
   ]
  },
  {
   "cell_type": "markdown",
   "metadata": {},
   "source": [
    "We can then compile this code for execution on an x86 system as follows:"
   ]
  },
  {
   "cell_type": "code",
   "execution_count": 18,
   "metadata": {},
   "outputs": [
    {
     "name": "stderr",
     "output_type": "stream",
     "text": [
      "+ gcc -I/tools/lucata/pathfinder-sw/22.09-beta/include/cilk/ -I/tools/emu/pathfinder-sw/22.09-beta/x86/include/emu_c_utils /tools/emu/pathfinder-sw/22.09-beta/x86/lib/libemu_c_utils.a -fcilkplus -DX86 saxpy-1d-workflow.c -o saxpy-1d-workflow-x86\n"
     ]
    }
   ],
   "source": [
    "%%bash\n",
    "set -x\n",
    "gcc ${X86FLAGS} -fcilkplus -DX86 saxpy-1d-workflow.c -o saxpy-1d-workflow-x86"
   ]
  },
  {
   "cell_type": "code",
   "execution_count": 19,
   "metadata": {},
   "outputs": [
    {
     "name": "stdout",
     "output_type": "stream",
     "text": [
      "SAXPY complete!\n"
     ]
    }
   ],
   "source": [
    "%%bash\n",
    "CILK_NWORKERS=4 ./saxpy-1d-workflow-x86 8 128 5"
   ]
  },
  {
   "cell_type": "markdown",
   "metadata": {
    "tags": []
   },
   "source": [
    "### Simulator Execution\n",
    "\n",
    "Once we have tested our program with x86 Cilk execution we can proceed to test with the Lucata simulator, `emusim.x`. This simulator is a single-threaded simulator that operates on a detailed SystemC model of the Pathfinder system. As such, it is somewhat slow and should normally be used in \"untimed\" mode to verify functionality. Since the Pathfinder hardware does not currently include a debugger or runtime profiler, the simulator should also be used to debug issues and check basic performance profiling.\n",
    "\n",
    "![Lucata Workflow](../resources/figs/lucata_pathfinder_workflow_2_emusim.png)\n",
    "\n",
    "The best way to limit the runtime of the simulator is to run in \"untimed\" mode, meaning that no relative clocks are used to estimate performance of the application. You can do this by either commenting out any `starttiming()` calls in your code or using the `--ignore_starttiming` flag when simulating your code."
   ]
  },
  {
   "cell_type": "code",
   "execution_count": 22,
   "metadata": {},
   "outputs": [],
   "source": [
    "%%bash\n",
    "emu-cc -o saxpy-1d-workflow.mwx $FLAGS saxpy-1d-workflow.c -lemu_c_utils"
   ]
  },
  {
   "cell_type": "code",
   "execution_count": 23,
   "metadata": {},
   "outputs": [
    {
     "name": "stdout",
     "output_type": "stream",
     "text": [
      "Start untimed simulation with local date and time= Mon Sep 19 16:13:29 2022\n",
      "\n",
      "SAXPY complete!\n",
      "End untimed simulation with local date and time= Mon Sep 19 16:13:29 2022\n",
      "\n"
     ]
    },
    {
     "name": "stderr",
     "output_type": "stream",
     "text": [
      "\n",
      "        SystemC 2.3.3-Accellera --- Sep  7 2022 09:15:59\n",
      "        Copyright (c) 1996-2018 by all Contributors,\n",
      "        ALL RIGHTS RESERVED\n"
     ]
    }
   ],
   "source": [
    "%%bash\n",
    "emusim.x -- saxpy-1d-workflow.mwx 8 128 5.0"
   ]
  },
  {
   "cell_type": "code",
   "execution_count": 25,
   "metadata": {},
   "outputs": [
    {
     "name": "stdout",
     "output_type": "stream",
     "text": [
      "Start untimed simulation with local date and time= Mon Sep 19 16:14:07 2022\n",
      "\n",
      "SAXPY complete!\n",
      "End untimed simulation with local date and time= Mon Sep 19 16:14:07 2022\n",
      "\n"
     ]
    },
    {
     "name": "stderr",
     "output_type": "stream",
     "text": [
      "\n",
      "        SystemC 2.3.3-Accellera --- Sep  7 2022 09:15:59\n",
      "        Copyright (c) 1996-2018 by all Contributors,\n",
      "        ALL RIGHTS RESERVED\n"
     ]
    }
   ],
   "source": [
    "%%bash\n",
    "emusim.x --total_nodes 4 -- saxpy-1d-workflow.mwx 8 128 5.0"
   ]
  },
  {
   "cell_type": "markdown",
   "metadata": {
    "tags": []
   },
   "source": [
    "### Hardware Execution\n",
    "\n",
    "Once our code works with the simulator, and we feel we have optimized it enough it is time to start running on the hardware. You should first try to run your code in single-node fashion on the Pathfinder and then scale up to multi-node execution. Note that the `emu_handler_and_loader` command is meant for single-node execution while `emu_multinode_exec` is meant for multinode execution. All multi-node jobs must be run from node 0 in the Pathfinder system.\n",
    "\n",
    "![Lucata Workflow](../resources/figs/lucata_pathfinder_workflow_3_emuhw.png)"
   ]
  },
  {
   "cell_type": "code",
   "execution_count": 28,
   "metadata": {},
   "outputs": [
    {
     "name": "stderr",
     "output_type": "stream",
     "text": [
      "sbatch: error: slurm_persist_conn_open_without_init: failed to open persistent connection to host:slurm-db.cc.gatech.edu:6819: Connection timed out\n",
      "sbatch: error: Sending PersistInit msg: Connection timed out\n",
      "sbatch: error: Sending PersistInit msg: Connection timed out\n",
      "sbatch: error: DBD_GET_CLUSTERS failure: Connection timed out\n",
      "sbatch: error: Problem talking to database\n",
      "sbatch: error: There is a problem talking to the database: Connection timed out.  Only local cluster communication is available, remove --cluster from your command line or contact your admin to resolve the problem.\n"
     ]
    },
    {
     "ename": "CalledProcessError",
     "evalue": "Command 'b'#ssh pathfinder1.crnch.gatech.edu\\n#ssh n0\\ncd ${USER_NOTEBOOK_CODE}/03-saxpy-workflow\\n\\n#emu_handler_and_loader saxpy-1d-workflow.mwx 8 128 5.0\\nsbatch -M pathfinder -q single-node --wrap \"emu_handler_and_loader 0 0 -- saxpy-1d-workflow.mwx 8 128 5.0\"\\n\\n\\n#emu_multinode_exec saxpy-1d-workflow.mwx 8 128 5.0\\n'' returned non-zero exit status 1.",
     "output_type": "error",
     "traceback": [
      "\u001b[0;31m---------------------------------------------------------------------------\u001b[0m",
      "\u001b[0;31mCalledProcessError\u001b[0m                        Traceback (most recent call last)",
      "\u001b[0;32m<ipython-input-28-a83b166b69a3>\u001b[0m in \u001b[0;36m<module>\u001b[0;34m\u001b[0m\n\u001b[0;32m----> 1\u001b[0;31m \u001b[0mget_ipython\u001b[0m\u001b[0;34m(\u001b[0m\u001b[0;34m)\u001b[0m\u001b[0;34m.\u001b[0m\u001b[0mrun_cell_magic\u001b[0m\u001b[0;34m(\u001b[0m\u001b[0;34m'bash'\u001b[0m\u001b[0;34m,\u001b[0m \u001b[0;34m''\u001b[0m\u001b[0;34m,\u001b[0m \u001b[0;34m'#ssh pathfinder1.crnch.gatech.edu\\n#ssh n0\\ncd ${USER_NOTEBOOK_CODE}/03-saxpy-workflow\\n\\n#emu_handler_and_loader saxpy-1d-workflow.mwx 8 128 5.0\\nsbatch -M pathfinder -q single-node --wrap \"emu_handler_and_loader 0 0 -- saxpy-1d-workflow.mwx 8 128 5.0\"\\n\\n\\n#emu_multinode_exec saxpy-1d-workflow.mwx 8 128 5.0\\n'\u001b[0m\u001b[0;34m)\u001b[0m\u001b[0;34m\u001b[0m\u001b[0;34m\u001b[0m\u001b[0m\n\u001b[0m",
      "\u001b[0;32m/usr/local/lib/python3.6/site-packages/IPython/core/interactiveshell.py\u001b[0m in \u001b[0;36mrun_cell_magic\u001b[0;34m(self, magic_name, line, cell)\u001b[0m\n\u001b[1;32m   2369\u001b[0m             \u001b[0;32mwith\u001b[0m \u001b[0mself\u001b[0m\u001b[0;34m.\u001b[0m\u001b[0mbuiltin_trap\u001b[0m\u001b[0;34m:\u001b[0m\u001b[0;34m\u001b[0m\u001b[0;34m\u001b[0m\u001b[0m\n\u001b[1;32m   2370\u001b[0m                 \u001b[0margs\u001b[0m \u001b[0;34m=\u001b[0m \u001b[0;34m(\u001b[0m\u001b[0mmagic_arg_s\u001b[0m\u001b[0;34m,\u001b[0m \u001b[0mcell\u001b[0m\u001b[0;34m)\u001b[0m\u001b[0;34m\u001b[0m\u001b[0;34m\u001b[0m\u001b[0m\n\u001b[0;32m-> 2371\u001b[0;31m                 \u001b[0mresult\u001b[0m \u001b[0;34m=\u001b[0m \u001b[0mfn\u001b[0m\u001b[0;34m(\u001b[0m\u001b[0;34m*\u001b[0m\u001b[0margs\u001b[0m\u001b[0;34m,\u001b[0m \u001b[0;34m**\u001b[0m\u001b[0mkwargs\u001b[0m\u001b[0;34m)\u001b[0m\u001b[0;34m\u001b[0m\u001b[0;34m\u001b[0m\u001b[0m\n\u001b[0m\u001b[1;32m   2372\u001b[0m             \u001b[0;32mreturn\u001b[0m \u001b[0mresult\u001b[0m\u001b[0;34m\u001b[0m\u001b[0;34m\u001b[0m\u001b[0m\n\u001b[1;32m   2373\u001b[0m \u001b[0;34m\u001b[0m\u001b[0m\n",
      "\u001b[0;32m/usr/local/lib/python3.6/site-packages/IPython/core/magics/script.py\u001b[0m in \u001b[0;36mnamed_script_magic\u001b[0;34m(line, cell)\u001b[0m\n\u001b[1;32m    140\u001b[0m             \u001b[0;32melse\u001b[0m\u001b[0;34m:\u001b[0m\u001b[0;34m\u001b[0m\u001b[0;34m\u001b[0m\u001b[0m\n\u001b[1;32m    141\u001b[0m                 \u001b[0mline\u001b[0m \u001b[0;34m=\u001b[0m \u001b[0mscript\u001b[0m\u001b[0;34m\u001b[0m\u001b[0;34m\u001b[0m\u001b[0m\n\u001b[0;32m--> 142\u001b[0;31m             \u001b[0;32mreturn\u001b[0m \u001b[0mself\u001b[0m\u001b[0;34m.\u001b[0m\u001b[0mshebang\u001b[0m\u001b[0;34m(\u001b[0m\u001b[0mline\u001b[0m\u001b[0;34m,\u001b[0m \u001b[0mcell\u001b[0m\u001b[0;34m)\u001b[0m\u001b[0;34m\u001b[0m\u001b[0;34m\u001b[0m\u001b[0m\n\u001b[0m\u001b[1;32m    143\u001b[0m \u001b[0;34m\u001b[0m\u001b[0m\n\u001b[1;32m    144\u001b[0m         \u001b[0;31m# write a basic docstring:\u001b[0m\u001b[0;34m\u001b[0m\u001b[0;34m\u001b[0m\u001b[0;34m\u001b[0m\u001b[0m\n",
      "\u001b[0;32m<decorator-gen-110>\u001b[0m in \u001b[0;36mshebang\u001b[0;34m(self, line, cell)\u001b[0m\n",
      "\u001b[0;32m/usr/local/lib/python3.6/site-packages/IPython/core/magic.py\u001b[0m in \u001b[0;36m<lambda>\u001b[0;34m(f, *a, **k)\u001b[0m\n\u001b[1;32m    185\u001b[0m     \u001b[0;31m# but it's overkill for just that one bit of state.\u001b[0m\u001b[0;34m\u001b[0m\u001b[0;34m\u001b[0m\u001b[0;34m\u001b[0m\u001b[0m\n\u001b[1;32m    186\u001b[0m     \u001b[0;32mdef\u001b[0m \u001b[0mmagic_deco\u001b[0m\u001b[0;34m(\u001b[0m\u001b[0marg\u001b[0m\u001b[0;34m)\u001b[0m\u001b[0;34m:\u001b[0m\u001b[0;34m\u001b[0m\u001b[0;34m\u001b[0m\u001b[0m\n\u001b[0;32m--> 187\u001b[0;31m         \u001b[0mcall\u001b[0m \u001b[0;34m=\u001b[0m \u001b[0;32mlambda\u001b[0m \u001b[0mf\u001b[0m\u001b[0;34m,\u001b[0m \u001b[0;34m*\u001b[0m\u001b[0ma\u001b[0m\u001b[0;34m,\u001b[0m \u001b[0;34m**\u001b[0m\u001b[0mk\u001b[0m\u001b[0;34m:\u001b[0m \u001b[0mf\u001b[0m\u001b[0;34m(\u001b[0m\u001b[0;34m*\u001b[0m\u001b[0ma\u001b[0m\u001b[0;34m,\u001b[0m \u001b[0;34m**\u001b[0m\u001b[0mk\u001b[0m\u001b[0;34m)\u001b[0m\u001b[0;34m\u001b[0m\u001b[0;34m\u001b[0m\u001b[0m\n\u001b[0m\u001b[1;32m    188\u001b[0m \u001b[0;34m\u001b[0m\u001b[0m\n\u001b[1;32m    189\u001b[0m         \u001b[0;32mif\u001b[0m \u001b[0mcallable\u001b[0m\u001b[0;34m(\u001b[0m\u001b[0marg\u001b[0m\u001b[0;34m)\u001b[0m\u001b[0;34m:\u001b[0m\u001b[0;34m\u001b[0m\u001b[0;34m\u001b[0m\u001b[0m\n",
      "\u001b[0;32m/usr/local/lib/python3.6/site-packages/IPython/core/magics/script.py\u001b[0m in \u001b[0;36mshebang\u001b[0;34m(self, line, cell)\u001b[0m\n\u001b[1;32m    243\u001b[0m             \u001b[0msys\u001b[0m\u001b[0;34m.\u001b[0m\u001b[0mstderr\u001b[0m\u001b[0;34m.\u001b[0m\u001b[0mflush\u001b[0m\u001b[0;34m(\u001b[0m\u001b[0;34m)\u001b[0m\u001b[0;34m\u001b[0m\u001b[0;34m\u001b[0m\u001b[0m\n\u001b[1;32m    244\u001b[0m         \u001b[0;32mif\u001b[0m \u001b[0margs\u001b[0m\u001b[0;34m.\u001b[0m\u001b[0mraise_error\u001b[0m \u001b[0;32mand\u001b[0m \u001b[0mp\u001b[0m\u001b[0;34m.\u001b[0m\u001b[0mreturncode\u001b[0m\u001b[0;34m!=\u001b[0m\u001b[0;36m0\u001b[0m\u001b[0;34m:\u001b[0m\u001b[0;34m\u001b[0m\u001b[0;34m\u001b[0m\u001b[0m\n\u001b[0;32m--> 245\u001b[0;31m             \u001b[0;32mraise\u001b[0m \u001b[0mCalledProcessError\u001b[0m\u001b[0;34m(\u001b[0m\u001b[0mp\u001b[0m\u001b[0;34m.\u001b[0m\u001b[0mreturncode\u001b[0m\u001b[0;34m,\u001b[0m \u001b[0mcell\u001b[0m\u001b[0;34m,\u001b[0m \u001b[0moutput\u001b[0m\u001b[0;34m=\u001b[0m\u001b[0mout\u001b[0m\u001b[0;34m,\u001b[0m \u001b[0mstderr\u001b[0m\u001b[0;34m=\u001b[0m\u001b[0merr\u001b[0m\u001b[0;34m)\u001b[0m\u001b[0;34m\u001b[0m\u001b[0;34m\u001b[0m\u001b[0m\n\u001b[0m\u001b[1;32m    246\u001b[0m \u001b[0;34m\u001b[0m\u001b[0m\n\u001b[1;32m    247\u001b[0m     \u001b[0;32mdef\u001b[0m \u001b[0m_run_script\u001b[0m\u001b[0;34m(\u001b[0m\u001b[0mself\u001b[0m\u001b[0;34m,\u001b[0m \u001b[0mp\u001b[0m\u001b[0;34m,\u001b[0m \u001b[0mcell\u001b[0m\u001b[0;34m,\u001b[0m \u001b[0mto_close\u001b[0m\u001b[0;34m)\u001b[0m\u001b[0;34m:\u001b[0m\u001b[0;34m\u001b[0m\u001b[0;34m\u001b[0m\u001b[0m\n",
      "\u001b[0;31mCalledProcessError\u001b[0m: Command 'b'#ssh pathfinder1.crnch.gatech.edu\\n#ssh n0\\ncd ${USER_NOTEBOOK_CODE}/03-saxpy-workflow\\n\\n#emu_handler_and_loader saxpy-1d-workflow.mwx 8 128 5.0\\nsbatch -M pathfinder -q single-node --wrap \"emu_handler_and_loader 0 0 -- saxpy-1d-workflow.mwx 8 128 5.0\"\\n\\n\\n#emu_multinode_exec saxpy-1d-workflow.mwx 8 128 5.0\\n'' returned non-zero exit status 1."
     ]
    }
   ],
   "source": [
    "%%bash\n",
    "#ssh pathfinder1.crnch.gatech.edu\n",
    "#ssh n0\n",
    "cd ${USER_NOTEBOOK_CODE}/03-saxpy-workflow\n",
    "\n",
    "#emu_handler_and_loader saxpy-1d-workflow.mwx 8 128 5.0\n",
    "sbatch -M pathfinder -q single-node --wrap \"emu_handler_and_loader 0 0 -- saxpy-1d-workflow.mwx 8 128 5.0\"\n",
    "\n",
    "\n",
    "#emu_multinode_exec saxpy-1d-workflow.mwx 8 128 5.0"
   ]
  },
  {
   "cell_type": "code",
   "execution_count": 6,
   "metadata": {},
   "outputs": [
    {
     "data": {
      "text/html": [
       "<div>\n",
       "<style scoped>\n",
       "    .dataframe tbody tr th:only-of-type {\n",
       "        vertical-align: middle;\n",
       "    }\n",
       "\n",
       "    .dataframe tbody tr th {\n",
       "        vertical-align: top;\n",
       "    }\n",
       "\n",
       "    .dataframe thead th {\n",
       "        text-align: right;\n",
       "    }\n",
       "</style>\n",
       "<table border=\"1\" class=\"dataframe\">\n",
       "  <thead>\n",
       "    <tr style=\"text-align: right;\">\n",
       "      <th></th>\n",
       "      <th>PARTITION</th>\n",
       "      <th>AVAIL</th>\n",
       "      <th>TIMELIMIT</th>\n",
       "      <th>NODES</th>\n",
       "      <th>STATE</th>\n",
       "      <th>NODELIST</th>\n",
       "    </tr>\n",
       "  </thead>\n",
       "  <tbody>\n",
       "    <tr>\n",
       "      <th>0</th>\n",
       "      <td>rg-arm-debug*</td>\n",
       "      <td>up</td>\n",
       "      <td>4:00:00</td>\n",
       "      <td>4</td>\n",
       "      <td>idle</td>\n",
       "      <td>octavius[1-4]</td>\n",
       "    </tr>\n",
       "    <tr>\n",
       "      <th>1</th>\n",
       "      <td>rg-arm-long</td>\n",
       "      <td>up</td>\n",
       "      <td>12:00:00</td>\n",
       "      <td>16</td>\n",
       "      <td>idle</td>\n",
       "      <td>octavius[1-16]</td>\n",
       "    </tr>\n",
       "    <tr>\n",
       "      <th>2</th>\n",
       "      <td>rg-gpu</td>\n",
       "      <td>up</td>\n",
       "      <td>12:00:00</td>\n",
       "      <td>7</td>\n",
       "      <td>idle</td>\n",
       "      <td>frozone[1-4],instinct,quorra[1-2]</td>\n",
       "    </tr>\n",
       "    <tr>\n",
       "      <th>3</th>\n",
       "      <td>rg-hpc</td>\n",
       "      <td>up</td>\n",
       "      <td>12:00:00</td>\n",
       "      <td>3</td>\n",
       "      <td>idle</td>\n",
       "      <td>flubber[8-10]</td>\n",
       "    </tr>\n",
       "    <tr>\n",
       "      <th>4</th>\n",
       "      <td>rg-intel-fpga-hw</td>\n",
       "      <td>up</td>\n",
       "      <td>12:00:00</td>\n",
       "      <td>2</td>\n",
       "      <td>idle</td>\n",
       "      <td>flubber[2-3]</td>\n",
       "    </tr>\n",
       "    <tr>\n",
       "      <th>5</th>\n",
       "      <td>rg-xilinx-fpga-hw</td>\n",
       "      <td>up</td>\n",
       "      <td>12:00:00</td>\n",
       "      <td>2</td>\n",
       "      <td>idle</td>\n",
       "      <td>flubber[4-5]</td>\n",
       "    </tr>\n",
       "    <tr>\n",
       "      <th>6</th>\n",
       "      <td>rg-smart-nic</td>\n",
       "      <td>up</td>\n",
       "      <td>12:00:00</td>\n",
       "      <td>2</td>\n",
       "      <td>idle</td>\n",
       "      <td>flubber[6-7]</td>\n",
       "    </tr>\n",
       "    <tr>\n",
       "      <th>7</th>\n",
       "      <td>notebook</td>\n",
       "      <td>up</td>\n",
       "      <td>12:00:00</td>\n",
       "      <td>1</td>\n",
       "      <td>idle</td>\n",
       "      <td>hawksbill</td>\n",
       "    </tr>\n",
       "  </tbody>\n",
       "</table>\n",
       "</div>"
      ],
      "text/plain": [
       "           PARTITION AVAIL TIMELIMIT  NODES STATE  \\\n",
       "0      rg-arm-debug*    up   4:00:00      4  idle   \n",
       "1        rg-arm-long    up  12:00:00     16  idle   \n",
       "2             rg-gpu    up  12:00:00      7  idle   \n",
       "3             rg-hpc    up  12:00:00      3  idle   \n",
       "4   rg-intel-fpga-hw    up  12:00:00      2  idle   \n",
       "5  rg-xilinx-fpga-hw    up  12:00:00      2  idle   \n",
       "6       rg-smart-nic    up  12:00:00      2  idle   \n",
       "7           notebook    up  12:00:00      1  idle   \n",
       "\n",
       "                            NODELIST  \n",
       "0                      octavius[1-4]  \n",
       "1                     octavius[1-16]  \n",
       "2  frozone[1-4],instinct,quorra[1-2]  \n",
       "3                      flubber[8-10]  \n",
       "4                       flubber[2-3]  \n",
       "5                       flubber[4-5]  \n",
       "6                       flubber[6-7]  \n",
       "7                          hawksbill  "
      ]
     },
     "execution_count": 6,
     "metadata": {},
     "output_type": "execute_result"
    }
   ],
   "source": [
    "%sinfo"
   ]
  },
  {
   "cell_type": "markdown",
   "metadata": {},
   "source": [
    "## Debugging Strategy for the Pathfinder\n",
    "\n",
    "If you've made it this far, you likely have some idea of the key steps for compiling and running programs with the Pathfinder. \n",
    "As an added important note, Eric Hein shares this debugging strategy that builds on the usage of the x86 and simulator models to \n",
    "ensure correct program execution and scaling.\n",
    "\n",
    "1) Compile on x86 (using memoryweb_x86.h)  \n",
    "2) Run on x86 with a single thread (CILK_NWORKERS=1)  \n",
    "3) Run on x86 multi-threaded  \n",
    "4) Compile for Emu  \n",
    "5) Run on emusim in untimed mode (--ignore_starttiming)  \n",
    "6) Run on emusim with randomly initialized memory (--initialize_memory)  \n",
    "7) Run on emusim in timed mode. (starttiming() in code)  \n",
    "8) Run on single-node HW  \n",
    "9) Run on multi-node HW  \n",
    "10) Increase input size gradually. Always use the smallest input set that will finish/recreate the problem in a reasonable amount of time!"
   ]
  },
  {
   "cell_type": "markdown",
   "metadata": {},
   "source": [
    "### Postcript\n",
    "\n",
    "Once we've finished our testing, we can clean up some of the logfiles that we used for this example with `make clean`. Uncomment the following line to clean this directory."
   ]
  },
  {
   "cell_type": "code",
   "execution_count": 2,
   "metadata": {},
   "outputs": [],
   "source": [
    "#!make clean"
   ]
  }
 ],
 "metadata": {
  "kernelspec": {
   "display_name": "Python 3",
   "language": "python",
   "name": "python3"
  },
  "language_info": {
   "codemirror_mode": {
    "name": "ipython",
    "version": 3
   },
   "file_extension": ".py",
   "mimetype": "text/x-python",
   "name": "python",
   "nbconvert_exporter": "python",
   "pygments_lexer": "ipython3",
   "version": "3.6.8"
  }
 },
 "nbformat": 4,
 "nbformat_minor": 4
}
