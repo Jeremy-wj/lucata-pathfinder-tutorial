{
 "cells": [
  {
   "cell_type": "markdown",
   "metadata": {},
   "source": [
    "# Notebook #3 - Pathfinder Workflow with SAXPY"
   ]
  },
  {
   "cell_type": "markdown",
   "metadata": {},
   "source": [
    "Initial steps: We must import specific environment variables to point to the user's notebook code director and to the Lucata tools."
   ]
  },
  {
   "cell_type": "code",
   "execution_count": 1,
   "metadata": {},
   "outputs": [],
   "source": [
    "import os\n",
    "os.environ[\"USER_NOTEBOOK_CODE\"]=os.environ[\"HOME\"]+\"/pearc-tutorial/code\"\n",
    "os.environ[\"PATH\"]=os.pathsep.join([\"/tools/emu/pathfinder-sw/21.06/bin\",os.environ[\"PATH\"]])"
   ]
  },
  {
   "cell_type": "markdown",
   "metadata": {},
   "source": [
    "This notebook goes along with the [Lucata workflow slides](https://github.com/gt-crnch-rg/pearc-tutorial-2021/blob/main/slides/lucata_tutorial/02_Lucata_Pathfinder_Tutorial_Workflow.pdf), so please follow along with the slides for a supplemental resource. \n",
    "\n",
    "## Lucata Pathfinder Workflow\n",
    "\n",
    "This figure shows the workflow for using the Pathfinder ecosystem and hardware. Since the Pathfinder is programmed using a variant of the Cilk programming language, code written for this platform can be run on x86 systems using the Lucata toolchain, some GCC versions (5-7), or an appropriate Clang branch like [MIT's Tapir](https://www.csail.mit.edu/research/tapir).\n",
    "\n",
    "![Lucata Workflow](../resources/figs/lucata_pathfinder_workflow.png)\n",
    "\n",
    "This notebook takes one of our previous Saxpy examples and uses it as part of a workflow that shows how to run code on the x86 system, simulator, and finally on the hardware. Just to revisit, we are using the basic SAXPY \"1D allocation\" kernel from Notebook 2."
   ]
  },
  {
   "cell_type": "markdown",
   "metadata": {
    "tags": []
   },
   "source": [
    "### X86 Execution\n",
    "As a first step, we need to update the code slightly to allow it to be compiled for x86 platforms using \"memoryweb_x86.h\". This compatibility header tells the compiler to compile for an x86 variant of Cilk rather than the Lucata version. The differences are that some Lucata-specific commands like `cilk_spawn_at` don't exist in most standard x86 Cilk APIs.\n",
    "\n",
    "Also, note the inclusion of the \"emu_c_utils\" header, which provides additional helper functions."
   ]
  },
  {
   "cell_type": "markdown",
   "metadata": {},
   "source": [
    "\n",
    "```c\n",
    "//saxpy-1d-workflow.c\n",
    "#include <stdio.h>\n",
    "#include <stdlib.h>\n",
    "#include <cilk/cilk.h>\n",
    "\n",
    "//If x86 is specified use the x86 compatibility headers with Cilk; otherwise use the Lucata toolchain\n",
    "#ifdef X86\n",
    "  #include “memoryweb_x86.h”\n",
    "  #include <emu_c_utils.h>\n",
    "#else\n",
    "  #include “memoryweb.h”\n",
    "  #include <emu_c_utils/emu_c_utils.h>\n",
    "#endif\n",
    "\n",
    "void saxpy(long n, long a, long *x, long *y)\n",
    "{\n",
    "  for (long i = 0; i < n; i++)\n",
    "    y[i] += a * x[i];\n",
    "}\n",
    "\n",
    "int main(int argc, char **argv)\n",
    "{\n",
    "  long nth = atol(argv[1]); // number threads\n",
    "  long size = atol(argv[2]); // array size\n",
    "  long aval = atol(argv[3]); // constant\n",
    "  long *x = mw_malloc1dlong(size);\n",
    "  long *y = mw_malloc1dlong(size);\n",
    "\n",
    "  for (long i = 0; i < size; i++) {\n",
    "    x[i] = i; y[i] = 0;\n",
    "  }\n",
    "\n",
    "  long grain = size / nth; // elts per thread\n",
    "\n",
    "  //Timing flag to simulation only; ignored on x86 and HW\n",
    "  starttiming();\n",
    "  for (long i = 0, j = 0; i < nth; i++, j += grain)\n",
    "    cilk_spawn saxpy(grain, aval, &x[j], &y[j]);\n",
    "  cilk_sync;\n",
    "}\n",
    "```"
   ]
  },
  {
   "cell_type": "markdown",
   "metadata": {},
   "source": [
    "We can then compile this code for execution on an x86 system as follows:"
   ]
  },
  {
   "cell_type": "code",
   "execution_count": 2,
   "metadata": {},
   "outputs": [
    {
     "name": "stderr",
     "output_type": "stream",
     "text": [
      "In file included from saxpy-1d-workflow.c:14:0:\n",
      "/tools/emu/pathfinder-sw/21.06/x86/include/emu_c_utils/memoryweb_x86.h:21:0: warning: \"cilk_migrate_hint\" redefined\n",
      " #define cilk_migrate_hint(X) (void)(X)\n",
      " \n",
      "In file included from saxpy-1d-workflow.c:9:0:\n",
      "/tools/emu/pathfinder-sw/21.06/include/cilk/cilk.h:84:0: note: this is the location of the previous definition\n",
      " # define cilk_migrate_hint(x) _Cilk_migrate_hint(x)\n",
      " \n",
      "In file included from saxpy-1d-workflow.c:14:0:\n",
      "/tools/emu/pathfinder-sw/21.06/x86/include/emu_c_utils/memoryweb_x86.h:22:0: warning: \"cilk_spawn_at\" redefined\n",
      " #define cilk_spawn_at(X) (void)(X); cilk_spawn\n",
      " \n",
      "In file included from saxpy-1d-workflow.c:9:0:\n",
      "/tools/emu/pathfinder-sw/21.06/include/cilk/cilk.h:85:0: note: this is the location of the previous definition\n",
      " # define cilk_spawn_at(x) cilk_migrate_hint(x); cilk_spawn\n",
      " \n"
     ]
    }
   ],
   "source": [
    "%%bash\n",
    "export EMU_BASE=/tools/emu/pathfinder-sw/21.06\n",
    "gcc-7 -I ${EMU_BASE}/x86/include/emu_c_utils -I ${EMU_BASE}/include -fcilkplus -DX86 saxpy-1d-workflow.c -L ${EMU_BASE}/x86/lib -l emu_c_utils -o saxpy-1d-workflow-x86"
   ]
  },
  {
   "cell_type": "code",
   "execution_count": 3,
   "metadata": {},
   "outputs": [
    {
     "name": "stdout",
     "output_type": "stream",
     "text": [
      "SAXPY complete!\n"
     ]
    }
   ],
   "source": [
    "%%bash\n",
    "CILK_NWORKERS=4 ./saxpy-1d-workflow-x86 8 128 5"
   ]
  },
  {
   "cell_type": "markdown",
   "metadata": {
    "tags": []
   },
   "source": [
    "### Simulator Execution\n",
    "\n",
    "Once we have tested our program with x86 Cilk execution we can proceed to test with the Lucata simulator, `emusim.x`. This simulator is a single-threaded simulator that operates on a detailed SystemC model of the Pathfinder system. As such, it is somewhat slow and should normally be used in \"untimed\" mode to verify functionality. Since the Pathfinder hardware does not currently include a debugger or runtime profiler, the simulator should also be used to debug issues and check basic performance profiling.\n",
    "\n",
    "![Lucata Workflow](../resources/figs/lucata_pathfinder_workflow_2_emusim.png)\n",
    "\n",
    "The best way to limit the runtime of the simulator is to run in \"untimed\" mode, meaning that no relative clocks are used to estimate performance of the application. You can do this by either commenting out any `starttiming()` calls in your code or using the `--ignore_starttiming` flag when simulating your code."
   ]
  },
  {
   "cell_type": "code",
   "execution_count": 4,
   "metadata": {},
   "outputs": [],
   "source": [
    "!emu-cc -o saxpy-1d-workflow.mwx saxpy-1d-workflow.c -lemu_c_utils"
   ]
  },
  {
   "cell_type": "code",
   "execution_count": 5,
   "metadata": {},
   "outputs": [
    {
     "name": "stdout",
     "output_type": "stream",
     "text": [
      "Start untimed simulation with local date and time= Mon Jul 19 02:25:26 2021\n",
      "\n",
      "End untimed simulation with local date and time= Mon Jul 19 02:25:26 2021\n",
      "\n",
      "SysC Enumeration done. Program launching...\n",
      "Simulation @0 s with local date and time= Mon Jul 19 02:25:26 2021\n",
      "\n",
      "SAXPY complete!\n",
      "\n",
      "Info: /OSCI/SystemC: Simulation stopped by user.\n"
     ]
    },
    {
     "name": "stderr",
     "output_type": "stream",
     "text": [
      "\n",
      "        SystemC 2.3.3-Accellera --- Jun 22 2021 17:09:43\n",
      "        Copyright (c) 1996-2018 by all Contributors,\n",
      "        ALL RIGHTS RESERVED\n"
     ]
    }
   ],
   "source": [
    "%%bash\n",
    "emusim.x -- saxpy-1d-workflow.mwx 8 128 5.0"
   ]
  },
  {
   "cell_type": "code",
   "execution_count": 6,
   "metadata": {},
   "outputs": [
    {
     "name": "stdout",
     "output_type": "stream",
     "text": [
      "Start untimed simulation with local date and time= Mon Jul 19 02:25:33 2021\n",
      "\n",
      "End untimed simulation with local date and time= Mon Jul 19 02:25:33 2021\n",
      "\n",
      "SysC Enumeration done. Program launching...\n",
      "Simulation @0 s with local date and time= Mon Jul 19 02:25:33 2021\n",
      "\n",
      "SAXPY complete!\n",
      "\n",
      "Info: /OSCI/SystemC: Simulation stopped by user.\n"
     ]
    },
    {
     "name": "stderr",
     "output_type": "stream",
     "text": [
      "\n",
      "        SystemC 2.3.3-Accellera --- Jun 22 2021 17:09:43\n",
      "        Copyright (c) 1996-2018 by all Contributors,\n",
      "        ALL RIGHTS RESERVED\n"
     ]
    }
   ],
   "source": [
    "%%bash\n",
    "emusim.x --total_nodes 4 --untimed_short_trace -- saxpy-1d-workflow.mwx 8 128 5.0"
   ]
  },
  {
   "cell_type": "markdown",
   "metadata": {
    "tags": []
   },
   "source": [
    "### Hardware Execution\n",
    "\n",
    "Once our code works with the simulator, and we feel we have optimized it enough it is time to start running on the hardware. You should first try to run your code in single-node fashion on the Pathfinder and then scale up to multi-node execution. Note that the `emu_handler_and_loader` command is meant for single-node execution while `emu_multinode_exec` is meant for multinode execution. All multi-node jobs must be run from node 0 in the Pathfinder system.\n",
    "\n",
    "![Lucata Workflow](../resources/figs/lucata_pathfinder_workflow_3_emuhw.png)"
   ]
  },
  {
   "cell_type": "code",
   "execution_count": null,
   "metadata": {},
   "outputs": [],
   "source": [
    "%%bash\n",
    "ssh pathfinder1.crnch.gatech.edu\n",
    "ssh n0\n",
    "cd ${USER_NOTEBOOK_CODE}/03-saxpy-workflow\n",
    "\n",
    "emu_handler_and_loader saxpy-1d-workflow.mwx 8 128 5.0\n",
    "\n",
    "emu_multinode_exec saxpy-1d-workflow.mwx 8 128 5.0"
   ]
  },
  {
   "cell_type": "markdown",
   "metadata": {},
   "source": [
    "## Debugging Strategy for the Pathfinder\n",
    "\n",
    "If you've made it this far, you likely have some idea of the key steps for compiling and running programs with the Pathfinder. \n",
    "As an added important note, Eric Hein shares this debugging strategy that builds on the usage of the x86 and simulator models to \n",
    "ensure correct program execution and scaling.\n",
    "\n",
    "1) Compile on x86 (using memoryweb_x86.h)\n",
    "2) Run on x86 with a single thread (CILK_NWORKERS=1)\n",
    "3) Run on x86 multi-threaded\n",
    "----\n",
    "4) Compile for Emu\n",
    "5) Run on emusim in untimed mode (--ignore_starttiming)\n",
    "6) Run on emusim with randomly initialized memory (--initialize_memory)\n",
    "7) Run on emusim in timed mode. (starttiming() in code)\n",
    "-----\n",
    "8) Run on single-node HW\n",
    "9) Run on multi-node HW\n",
    "10) Increase input size gradually. Always use the smallest input set that will finish/recreate the problem in a reasonable amount of time!\n"
   ]
  },
  {
   "cell_type": "markdown",
   "metadata": {},
   "source": [
    "### Postcript\n",
    "\n",
    "Once we've finished our testing, we can clean up some of the logfiles that we used for this example with `make clean`. Uncomment the following line to clean this directory."
   ]
  },
  {
   "cell_type": "code",
   "execution_count": null,
   "metadata": {},
   "outputs": [],
   "source": [
    "#!make clean"
   ]
  }
 ],
 "metadata": {
  "kernelspec": {
   "display_name": "Python Notebook - CRNCH Tutorial",
   "language": "python",
   "name": "python3"
  },
  "language_info": {
   "codemirror_mode": {
    "name": "ipython",
    "version": 3
   },
   "file_extension": ".py",
   "mimetype": "text/x-python",
   "name": "python",
   "nbconvert_exporter": "python",
   "pygments_lexer": "ipython3",
   "version": "3.7.10"
  }
 },
 "nbformat": 4,
 "nbformat_minor": 4
}
