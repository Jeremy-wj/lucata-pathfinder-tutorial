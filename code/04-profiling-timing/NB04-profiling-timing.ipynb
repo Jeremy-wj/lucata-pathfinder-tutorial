{
 "cells": [
  {
   "cell_type": "markdown",
   "metadata": {},
   "source": [
    "# Notebook #4 - Pathfinder Timing and Profiling "
   ]
  },
  {
   "cell_type": "markdown",
   "metadata": {},
   "source": [
    "Initial steps: We must import specific environment variables to point to the user's notebook code director and to the Lucata tools."
   ]
  },
  {
   "cell_type": "code",
   "execution_count": 1,
   "metadata": {},
   "outputs": [],
   "source": [
    "import os\n",
    "from IPython.display import Code, HTML\n",
    "os.environ[\"USER_NOTEBOOK_CODE\"]=os.environ[\"HOME\"]+\"/pearc-tutorial/code\"\n",
    "os.environ[\"PATH\"]=os.pathsep.join([\"/tools/emu/pathfinder-sw/22.02/bin\",os.environ[\"PATH\"]])\n",
    "#os.environ[\"PATH\"]=os.pathsep.join([\"/tools/emu/pathfinder-sw/21.06/bin\",os.environ[\"PATH\"]])"
   ]
  },
  {
   "cell_type": "markdown",
   "metadata": {},
   "source": [
    "This notebook goes along with the [Lucata profiling and timing slides](https://github.com/gt-crnch-rg/pearc-tutorial-2021/blob/main/slides/lucata_tutorial/03_Lucata_Pathfinder_Tutorial_Performance_Profiling.pdf), so please follow along with the slides for a supplemental resource. \n",
    "\n",
    "## Lucata Timing Hooks\n",
    "\n",
    "The Lucata toolchain includes a simulation profiler called `emusim_profile`. Running the profiler on your entire program can take a long time, so the toolchain provides timing hooks to specify regions you want data for. Here we annotate SAXPY by placing timing hooks around the main computational kernel."
   ]
  },
  {
   "cell_type": "code",
   "execution_count": 2,
   "metadata": {},
   "outputs": [
    {
     "data": {
      "text/html": [
       "<style>pre { line-height: 125%; }\n",
       "td.linenos .normal { color: inherit; background-color: transparent; padding-left: 5px; padding-right: 5px; }\n",
       "span.linenos { color: inherit; background-color: transparent; padding-left: 5px; padding-right: 5px; }\n",
       "td.linenos .special { color: #000000; background-color: #ffffc0; padding-left: 5px; padding-right: 5px; }\n",
       "span.linenos.special { color: #000000; background-color: #ffffc0; padding-left: 5px; padding-right: 5px; }\n",
       ".output_html .hll { background-color: #ffffcc }\n",
       ".output_html { background: #f8f8f8; }\n",
       ".output_html .c { color: #3D7B7B; font-style: italic } /* Comment */\n",
       ".output_html .err { border: 1px solid #FF0000 } /* Error */\n",
       ".output_html .k { color: #008000; font-weight: bold } /* Keyword */\n",
       ".output_html .o { color: #666666 } /* Operator */\n",
       ".output_html .ch { color: #3D7B7B; font-style: italic } /* Comment.Hashbang */\n",
       ".output_html .cm { color: #3D7B7B; font-style: italic } /* Comment.Multiline */\n",
       ".output_html .cp { color: #9C6500 } /* Comment.Preproc */\n",
       ".output_html .cpf { color: #3D7B7B; font-style: italic } /* Comment.PreprocFile */\n",
       ".output_html .c1 { color: #3D7B7B; font-style: italic } /* Comment.Single */\n",
       ".output_html .cs { color: #3D7B7B; font-style: italic } /* Comment.Special */\n",
       ".output_html .gd { color: #A00000 } /* Generic.Deleted */\n",
       ".output_html .ge { font-style: italic } /* Generic.Emph */\n",
       ".output_html .gr { color: #E40000 } /* Generic.Error */\n",
       ".output_html .gh { color: #000080; font-weight: bold } /* Generic.Heading */\n",
       ".output_html .gi { color: #008400 } /* Generic.Inserted */\n",
       ".output_html .go { color: #717171 } /* Generic.Output */\n",
       ".output_html .gp { color: #000080; font-weight: bold } /* Generic.Prompt */\n",
       ".output_html .gs { font-weight: bold } /* Generic.Strong */\n",
       ".output_html .gu { color: #800080; font-weight: bold } /* Generic.Subheading */\n",
       ".output_html .gt { color: #0044DD } /* Generic.Traceback */\n",
       ".output_html .kc { color: #008000; font-weight: bold } /* Keyword.Constant */\n",
       ".output_html .kd { color: #008000; font-weight: bold } /* Keyword.Declaration */\n",
       ".output_html .kn { color: #008000; font-weight: bold } /* Keyword.Namespace */\n",
       ".output_html .kp { color: #008000 } /* Keyword.Pseudo */\n",
       ".output_html .kr { color: #008000; font-weight: bold } /* Keyword.Reserved */\n",
       ".output_html .kt { color: #B00040 } /* Keyword.Type */\n",
       ".output_html .m { color: #666666 } /* Literal.Number */\n",
       ".output_html .s { color: #BA2121 } /* Literal.String */\n",
       ".output_html .na { color: #687822 } /* Name.Attribute */\n",
       ".output_html .nb { color: #008000 } /* Name.Builtin */\n",
       ".output_html .nc { color: #0000FF; font-weight: bold } /* Name.Class */\n",
       ".output_html .no { color: #880000 } /* Name.Constant */\n",
       ".output_html .nd { color: #AA22FF } /* Name.Decorator */\n",
       ".output_html .ni { color: #717171; font-weight: bold } /* Name.Entity */\n",
       ".output_html .ne { color: #CB3F38; font-weight: bold } /* Name.Exception */\n",
       ".output_html .nf { color: #0000FF } /* Name.Function */\n",
       ".output_html .nl { color: #767600 } /* Name.Label */\n",
       ".output_html .nn { color: #0000FF; font-weight: bold } /* Name.Namespace */\n",
       ".output_html .nt { color: #008000; font-weight: bold } /* Name.Tag */\n",
       ".output_html .nv { color: #19177C } /* Name.Variable */\n",
       ".output_html .ow { color: #AA22FF; font-weight: bold } /* Operator.Word */\n",
       ".output_html .w { color: #bbbbbb } /* Text.Whitespace */\n",
       ".output_html .mb { color: #666666 } /* Literal.Number.Bin */\n",
       ".output_html .mf { color: #666666 } /* Literal.Number.Float */\n",
       ".output_html .mh { color: #666666 } /* Literal.Number.Hex */\n",
       ".output_html .mi { color: #666666 } /* Literal.Number.Integer */\n",
       ".output_html .mo { color: #666666 } /* Literal.Number.Oct */\n",
       ".output_html .sa { color: #BA2121 } /* Literal.String.Affix */\n",
       ".output_html .sb { color: #BA2121 } /* Literal.String.Backtick */\n",
       ".output_html .sc { color: #BA2121 } /* Literal.String.Char */\n",
       ".output_html .dl { color: #BA2121 } /* Literal.String.Delimiter */\n",
       ".output_html .sd { color: #BA2121; font-style: italic } /* Literal.String.Doc */\n",
       ".output_html .s2 { color: #BA2121 } /* Literal.String.Double */\n",
       ".output_html .se { color: #AA5D1F; font-weight: bold } /* Literal.String.Escape */\n",
       ".output_html .sh { color: #BA2121 } /* Literal.String.Heredoc */\n",
       ".output_html .si { color: #A45A77; font-weight: bold } /* Literal.String.Interpol */\n",
       ".output_html .sx { color: #008000 } /* Literal.String.Other */\n",
       ".output_html .sr { color: #A45A77 } /* Literal.String.Regex */\n",
       ".output_html .s1 { color: #BA2121 } /* Literal.String.Single */\n",
       ".output_html .ss { color: #19177C } /* Literal.String.Symbol */\n",
       ".output_html .bp { color: #008000 } /* Name.Builtin.Pseudo */\n",
       ".output_html .fm { color: #0000FF } /* Name.Function.Magic */\n",
       ".output_html .vc { color: #19177C } /* Name.Variable.Class */\n",
       ".output_html .vg { color: #19177C } /* Name.Variable.Global */\n",
       ".output_html .vi { color: #19177C } /* Name.Variable.Instance */\n",
       ".output_html .vm { color: #19177C } /* Name.Variable.Magic */\n",
       ".output_html .il { color: #666666 } /* Literal.Number.Integer.Long */</style><div class=\"highlight\"><pre><span></span><span class=\"cp\">#include</span><span class=\"w\"> </span><span class=\"cpf\">&lt;stdio.h&gt;</span><span class=\"cp\"></span>\n",
       "<span class=\"cp\">#include</span><span class=\"w\"> </span><span class=\"cpf\">&lt;stdlib.h&gt;</span><span class=\"cp\"></span>\n",
       "<span class=\"cp\">#include</span><span class=\"w\"> </span><span class=\"cpf\">&lt;cilk/cilk.h&gt;</span><span class=\"cp\"></span>\n",
       "\n",
       "<span class=\"cp\">#include</span><span class=\"w\"> </span><span class=\"cpf\">&quot;memoryweb.h&quot;</span><span class=\"cp\"></span>\n",
       "<span class=\"cp\">#include</span><span class=\"w\"> </span><span class=\"cpf\">&lt;emu_c_utils/emu_c_utils.h&gt;</span><span class=\"cp\"></span>\n",
       "\n",
       "<span class=\"kt\">void</span><span class=\"w\"> </span><span class=\"nf\">saxpy</span><span class=\"p\">(</span><span class=\"kt\">long</span><span class=\"w\"> </span><span class=\"n\">n</span><span class=\"p\">,</span><span class=\"w\"> </span><span class=\"kt\">float</span><span class=\"w\"> </span><span class=\"n\">a</span><span class=\"p\">,</span><span class=\"w\"> </span><span class=\"kt\">float</span><span class=\"w\"> </span><span class=\"o\">*</span><span class=\"n\">x</span><span class=\"p\">,</span><span class=\"w\"> </span><span class=\"kt\">float</span><span class=\"w\"> </span><span class=\"o\">*</span><span class=\"n\">y</span><span class=\"p\">)</span><span class=\"w\"></span>\n",
       "<span class=\"p\">{</span><span class=\"w\"></span>\n",
       "<span class=\"w\">  </span><span class=\"k\">for</span><span class=\"w\"> </span><span class=\"p\">(</span><span class=\"kt\">long</span><span class=\"w\"> </span><span class=\"n\">i</span><span class=\"w\"> </span><span class=\"o\">=</span><span class=\"w\"> </span><span class=\"mi\">0</span><span class=\"p\">;</span><span class=\"w\"> </span><span class=\"n\">i</span><span class=\"w\"> </span><span class=\"o\">&lt;</span><span class=\"w\"> </span><span class=\"n\">n</span><span class=\"p\">;</span><span class=\"w\"> </span><span class=\"n\">i</span><span class=\"o\">++</span><span class=\"p\">)</span><span class=\"w\"></span>\n",
       "<span class=\"w\">    </span><span class=\"n\">y</span><span class=\"p\">[</span><span class=\"n\">i</span><span class=\"p\">]</span><span class=\"w\"> </span><span class=\"o\">+=</span><span class=\"w\"> </span><span class=\"n\">a</span><span class=\"w\"> </span><span class=\"o\">*</span><span class=\"w\"> </span><span class=\"n\">x</span><span class=\"p\">[</span><span class=\"n\">i</span><span class=\"p\">];</span><span class=\"w\"></span>\n",
       "<span class=\"p\">}</span><span class=\"w\"></span>\n",
       "\n",
       "<span class=\"kt\">int</span><span class=\"w\"> </span><span class=\"nf\">main</span><span class=\"p\">(</span><span class=\"kt\">int</span><span class=\"w\"> </span><span class=\"n\">argc</span><span class=\"p\">,</span><span class=\"w\"> </span><span class=\"kt\">char</span><span class=\"w\"> </span><span class=\"o\">**</span><span class=\"n\">argv</span><span class=\"p\">)</span><span class=\"w\"></span>\n",
       "<span class=\"p\">{</span><span class=\"w\"></span>\n",
       "<span class=\"w\">  </span><span class=\"kt\">long</span><span class=\"w\"> </span><span class=\"n\">num</span><span class=\"w\"> </span><span class=\"o\">=</span><span class=\"w\"> </span><span class=\"n\">atol</span><span class=\"p\">(</span><span class=\"n\">argv</span><span class=\"p\">[</span><span class=\"mi\">1</span><span class=\"p\">]);</span><span class=\"w\"> </span><span class=\"c1\">// number blocks</span>\n",
       "<span class=\"w\">  </span><span class=\"kt\">long</span><span class=\"w\"> </span><span class=\"n\">size</span><span class=\"w\"> </span><span class=\"o\">=</span><span class=\"w\"> </span><span class=\"n\">atol</span><span class=\"p\">(</span><span class=\"n\">argv</span><span class=\"p\">[</span><span class=\"mi\">2</span><span class=\"p\">]);</span><span class=\"w\"> </span><span class=\"c1\">// block size</span>\n",
       "<span class=\"w\">  </span><span class=\"kt\">float</span><span class=\"w\"> </span><span class=\"n\">aval</span><span class=\"w\"> </span><span class=\"o\">=</span><span class=\"w\"> </span><span class=\"n\">atof</span><span class=\"p\">(</span><span class=\"n\">argv</span><span class=\"p\">[</span><span class=\"mi\">3</span><span class=\"p\">]);</span><span class=\"w\"> </span><span class=\"c1\">// constant</span>\n",
       "<span class=\"w\">  </span><span class=\"kt\">float</span><span class=\"w\"> </span><span class=\"o\">**</span><span class=\"n\">x</span><span class=\"w\"> </span><span class=\"o\">=</span><span class=\"w\"> </span><span class=\"n\">mw_malloc2d</span><span class=\"p\">(</span><span class=\"n\">num</span><span class=\"p\">,</span><span class=\"w\"> </span><span class=\"n\">size</span><span class=\"w\"> </span><span class=\"o\">*</span><span class=\"w\"> </span><span class=\"k\">sizeof</span><span class=\"p\">(</span><span class=\"o\">*</span><span class=\"n\">x</span><span class=\"p\">));</span><span class=\"w\"></span>\n",
       "<span class=\"w\">  </span><span class=\"kt\">float</span><span class=\"w\"> </span><span class=\"o\">**</span><span class=\"n\">y</span><span class=\"w\"> </span><span class=\"o\">=</span><span class=\"w\"> </span><span class=\"n\">mw_malloc2d</span><span class=\"p\">(</span><span class=\"n\">num</span><span class=\"p\">,</span><span class=\"w\"> </span><span class=\"n\">size</span><span class=\"w\"> </span><span class=\"o\">*</span><span class=\"w\"> </span><span class=\"k\">sizeof</span><span class=\"p\">(</span><span class=\"o\">*</span><span class=\"n\">y</span><span class=\"p\">));</span><span class=\"w\"></span>\n",
       "\n",
       "<span class=\"w\">  </span><span class=\"k\">for</span><span class=\"w\"> </span><span class=\"p\">(</span><span class=\"kt\">long</span><span class=\"w\"> </span><span class=\"n\">j</span><span class=\"w\"> </span><span class=\"o\">=</span><span class=\"w\"> </span><span class=\"mi\">0</span><span class=\"p\">;</span><span class=\"w\"> </span><span class=\"n\">j</span><span class=\"w\"> </span><span class=\"o\">&lt;</span><span class=\"w\"> </span><span class=\"n\">num</span><span class=\"p\">;</span><span class=\"w\"> </span><span class=\"n\">j</span><span class=\"o\">++</span><span class=\"p\">)</span><span class=\"w\"> </span><span class=\"p\">{</span><span class=\"w\"></span>\n",
       "<span class=\"w\">    </span><span class=\"k\">for</span><span class=\"w\"> </span><span class=\"p\">(</span><span class=\"kt\">long</span><span class=\"w\"> </span><span class=\"n\">i</span><span class=\"w\"> </span><span class=\"o\">=</span><span class=\"w\"> </span><span class=\"mi\">0</span><span class=\"p\">;</span><span class=\"w\"> </span><span class=\"n\">i</span><span class=\"w\"> </span><span class=\"o\">&lt;</span><span class=\"w\"> </span><span class=\"n\">size</span><span class=\"p\">;</span><span class=\"w\"> </span><span class=\"n\">i</span><span class=\"o\">++</span><span class=\"p\">)</span><span class=\"w\"> </span><span class=\"p\">{</span><span class=\"w\"></span>\n",
       "<span class=\"w\">      </span><span class=\"n\">x</span><span class=\"p\">[</span><span class=\"n\">j</span><span class=\"p\">][</span><span class=\"n\">i</span><span class=\"p\">]</span><span class=\"w\"> </span><span class=\"o\">=</span><span class=\"w\"> </span><span class=\"n\">j</span><span class=\"w\"> </span><span class=\"o\">*</span><span class=\"w\"> </span><span class=\"n\">size</span><span class=\"w\"> </span><span class=\"o\">+</span><span class=\"w\"> </span><span class=\"n\">i</span><span class=\"p\">;</span><span class=\"w\"> </span><span class=\"n\">y</span><span class=\"p\">[</span><span class=\"n\">j</span><span class=\"p\">][</span><span class=\"n\">i</span><span class=\"p\">]</span><span class=\"w\"> </span><span class=\"o\">=</span><span class=\"w\"> </span><span class=\"mi\">0</span><span class=\"p\">;</span><span class=\"w\"></span>\n",
       "<span class=\"w\">    </span><span class=\"p\">}</span><span class=\"w\"></span>\n",
       "<span class=\"w\">  </span><span class=\"p\">}</span><span class=\"w\"></span>\n",
       "\n",
       "<span class=\"w\">  </span><span class=\"n\">hooks_region_begin</span><span class=\"p\">(</span><span class=\"s\">&quot;example&quot;</span><span class=\"p\">);</span><span class=\"w\"></span>\n",
       "<span class=\"w\">  </span><span class=\"k\">for</span><span class=\"w\"> </span><span class=\"p\">(</span><span class=\"kt\">long</span><span class=\"w\"> </span><span class=\"n\">i</span><span class=\"w\"> </span><span class=\"o\">=</span><span class=\"w\"> </span><span class=\"mi\">0</span><span class=\"p\">;</span><span class=\"w\"> </span><span class=\"n\">i</span><span class=\"w\"> </span><span class=\"o\">&lt;</span><span class=\"w\"> </span><span class=\"n\">num</span><span class=\"p\">;</span><span class=\"w\"> </span><span class=\"n\">i</span><span class=\"o\">++</span><span class=\"p\">)</span><span class=\"w\"> </span><span class=\"p\">{</span><span class=\"w\"></span>\n",
       "<span class=\"w\">    </span><span class=\"n\">cilk_spawn_at</span><span class=\"w\"> </span><span class=\"p\">(</span><span class=\"n\">y</span><span class=\"p\">[</span><span class=\"n\">i</span><span class=\"p\">])</span><span class=\"w\"> </span><span class=\"n\">saxpy</span><span class=\"p\">(</span><span class=\"n\">size</span><span class=\"p\">,</span><span class=\"w\"> </span><span class=\"n\">aval</span><span class=\"p\">,</span><span class=\"w\"> </span><span class=\"n\">x</span><span class=\"p\">[</span><span class=\"n\">i</span><span class=\"p\">],</span><span class=\"w\"> </span><span class=\"n\">y</span><span class=\"p\">[</span><span class=\"n\">i</span><span class=\"p\">]);</span><span class=\"w\"></span>\n",
       "<span class=\"w\">  </span><span class=\"p\">}</span><span class=\"w\"></span>\n",
       "<span class=\"w\">  </span><span class=\"n\">cilk_sync</span><span class=\"p\">;</span><span class=\"w\"></span>\n",
       "\n",
       "<span class=\"w\">  </span><span class=\"kt\">double</span><span class=\"w\"> </span><span class=\"n\">time_ms</span><span class=\"w\"> </span><span class=\"o\">=</span><span class=\"w\"> </span><span class=\"n\">hooks_region_end</span><span class=\"p\">();</span><span class=\"w\"></span>\n",
       "<span class=\"w\">  </span><span class=\"n\">printf</span><span class=\"p\">(</span><span class=\"s\">&quot;time (ms) = %lf</span><span class=\"se\">\\n</span><span class=\"s\">&quot;</span><span class=\"p\">,</span><span class=\"w\"> </span><span class=\"n\">time_ms</span><span class=\"p\">);</span><span class=\"w\"></span>\n",
       "<span class=\"p\">}</span><span class=\"w\"></span>\n",
       "</pre></div>\n"
      ],
      "text/latex": [
       "\\begin{Verbatim}[commandchars=\\\\\\{\\}]\n",
       "\\PY{c+cp}{\\PYZsh{}}\\PY{c+cp}{include}\\PY{+w}{ }\\PY{c+cpf}{\\PYZlt{}stdio.h\\PYZgt{}}\n",
       "\\PY{c+cp}{\\PYZsh{}}\\PY{c+cp}{include}\\PY{+w}{ }\\PY{c+cpf}{\\PYZlt{}stdlib.h\\PYZgt{}}\n",
       "\\PY{c+cp}{\\PYZsh{}}\\PY{c+cp}{include}\\PY{+w}{ }\\PY{c+cpf}{\\PYZlt{}cilk/cilk.h\\PYZgt{}}\n",
       "\n",
       "\\PY{c+cp}{\\PYZsh{}}\\PY{c+cp}{include}\\PY{+w}{ }\\PY{c+cpf}{\\PYZdq{}memoryweb.h\\PYZdq{}}\n",
       "\\PY{c+cp}{\\PYZsh{}}\\PY{c+cp}{include}\\PY{+w}{ }\\PY{c+cpf}{\\PYZlt{}emu\\PYZus{}c\\PYZus{}utils/emu\\PYZus{}c\\PYZus{}utils.h\\PYZgt{}}\n",
       "\n",
       "\\PY{k+kt}{void}\\PY{+w}{ }\\PY{n+nf}{saxpy}\\PY{p}{(}\\PY{k+kt}{long}\\PY{+w}{ }\\PY{n}{n}\\PY{p}{,}\\PY{+w}{ }\\PY{k+kt}{float}\\PY{+w}{ }\\PY{n}{a}\\PY{p}{,}\\PY{+w}{ }\\PY{k+kt}{float}\\PY{+w}{ }\\PY{o}{*}\\PY{n}{x}\\PY{p}{,}\\PY{+w}{ }\\PY{k+kt}{float}\\PY{+w}{ }\\PY{o}{*}\\PY{n}{y}\\PY{p}{)}\n",
       "\\PY{p}{\\PYZob{}}\n",
       "\\PY{+w}{  }\\PY{k}{for}\\PY{+w}{ }\\PY{p}{(}\\PY{k+kt}{long}\\PY{+w}{ }\\PY{n}{i}\\PY{+w}{ }\\PY{o}{=}\\PY{+w}{ }\\PY{l+m+mi}{0}\\PY{p}{;}\\PY{+w}{ }\\PY{n}{i}\\PY{+w}{ }\\PY{o}{\\PYZlt{}}\\PY{+w}{ }\\PY{n}{n}\\PY{p}{;}\\PY{+w}{ }\\PY{n}{i}\\PY{o}{+}\\PY{o}{+}\\PY{p}{)}\n",
       "\\PY{+w}{    }\\PY{n}{y}\\PY{p}{[}\\PY{n}{i}\\PY{p}{]}\\PY{+w}{ }\\PY{o}{+}\\PY{o}{=}\\PY{+w}{ }\\PY{n}{a}\\PY{+w}{ }\\PY{o}{*}\\PY{+w}{ }\\PY{n}{x}\\PY{p}{[}\\PY{n}{i}\\PY{p}{]}\\PY{p}{;}\n",
       "\\PY{p}{\\PYZcb{}}\n",
       "\n",
       "\\PY{k+kt}{int}\\PY{+w}{ }\\PY{n+nf}{main}\\PY{p}{(}\\PY{k+kt}{int}\\PY{+w}{ }\\PY{n}{argc}\\PY{p}{,}\\PY{+w}{ }\\PY{k+kt}{char}\\PY{+w}{ }\\PY{o}{*}\\PY{o}{*}\\PY{n}{argv}\\PY{p}{)}\n",
       "\\PY{p}{\\PYZob{}}\n",
       "\\PY{+w}{  }\\PY{k+kt}{long}\\PY{+w}{ }\\PY{n}{num}\\PY{+w}{ }\\PY{o}{=}\\PY{+w}{ }\\PY{n}{atol}\\PY{p}{(}\\PY{n}{argv}\\PY{p}{[}\\PY{l+m+mi}{1}\\PY{p}{]}\\PY{p}{)}\\PY{p}{;}\\PY{+w}{ }\\PY{c+c1}{// number blocks}\n",
       "\\PY{+w}{  }\\PY{k+kt}{long}\\PY{+w}{ }\\PY{n}{size}\\PY{+w}{ }\\PY{o}{=}\\PY{+w}{ }\\PY{n}{atol}\\PY{p}{(}\\PY{n}{argv}\\PY{p}{[}\\PY{l+m+mi}{2}\\PY{p}{]}\\PY{p}{)}\\PY{p}{;}\\PY{+w}{ }\\PY{c+c1}{// block size}\n",
       "\\PY{+w}{  }\\PY{k+kt}{float}\\PY{+w}{ }\\PY{n}{aval}\\PY{+w}{ }\\PY{o}{=}\\PY{+w}{ }\\PY{n}{atof}\\PY{p}{(}\\PY{n}{argv}\\PY{p}{[}\\PY{l+m+mi}{3}\\PY{p}{]}\\PY{p}{)}\\PY{p}{;}\\PY{+w}{ }\\PY{c+c1}{// constant}\n",
       "\\PY{+w}{  }\\PY{k+kt}{float}\\PY{+w}{ }\\PY{o}{*}\\PY{o}{*}\\PY{n}{x}\\PY{+w}{ }\\PY{o}{=}\\PY{+w}{ }\\PY{n}{mw\\PYZus{}malloc2d}\\PY{p}{(}\\PY{n}{num}\\PY{p}{,}\\PY{+w}{ }\\PY{n}{size}\\PY{+w}{ }\\PY{o}{*}\\PY{+w}{ }\\PY{k}{sizeof}\\PY{p}{(}\\PY{o}{*}\\PY{n}{x}\\PY{p}{)}\\PY{p}{)}\\PY{p}{;}\n",
       "\\PY{+w}{  }\\PY{k+kt}{float}\\PY{+w}{ }\\PY{o}{*}\\PY{o}{*}\\PY{n}{y}\\PY{+w}{ }\\PY{o}{=}\\PY{+w}{ }\\PY{n}{mw\\PYZus{}malloc2d}\\PY{p}{(}\\PY{n}{num}\\PY{p}{,}\\PY{+w}{ }\\PY{n}{size}\\PY{+w}{ }\\PY{o}{*}\\PY{+w}{ }\\PY{k}{sizeof}\\PY{p}{(}\\PY{o}{*}\\PY{n}{y}\\PY{p}{)}\\PY{p}{)}\\PY{p}{;}\n",
       "\n",
       "\\PY{+w}{  }\\PY{k}{for}\\PY{+w}{ }\\PY{p}{(}\\PY{k+kt}{long}\\PY{+w}{ }\\PY{n}{j}\\PY{+w}{ }\\PY{o}{=}\\PY{+w}{ }\\PY{l+m+mi}{0}\\PY{p}{;}\\PY{+w}{ }\\PY{n}{j}\\PY{+w}{ }\\PY{o}{\\PYZlt{}}\\PY{+w}{ }\\PY{n}{num}\\PY{p}{;}\\PY{+w}{ }\\PY{n}{j}\\PY{o}{+}\\PY{o}{+}\\PY{p}{)}\\PY{+w}{ }\\PY{p}{\\PYZob{}}\n",
       "\\PY{+w}{    }\\PY{k}{for}\\PY{+w}{ }\\PY{p}{(}\\PY{k+kt}{long}\\PY{+w}{ }\\PY{n}{i}\\PY{+w}{ }\\PY{o}{=}\\PY{+w}{ }\\PY{l+m+mi}{0}\\PY{p}{;}\\PY{+w}{ }\\PY{n}{i}\\PY{+w}{ }\\PY{o}{\\PYZlt{}}\\PY{+w}{ }\\PY{n}{size}\\PY{p}{;}\\PY{+w}{ }\\PY{n}{i}\\PY{o}{+}\\PY{o}{+}\\PY{p}{)}\\PY{+w}{ }\\PY{p}{\\PYZob{}}\n",
       "\\PY{+w}{      }\\PY{n}{x}\\PY{p}{[}\\PY{n}{j}\\PY{p}{]}\\PY{p}{[}\\PY{n}{i}\\PY{p}{]}\\PY{+w}{ }\\PY{o}{=}\\PY{+w}{ }\\PY{n}{j}\\PY{+w}{ }\\PY{o}{*}\\PY{+w}{ }\\PY{n}{size}\\PY{+w}{ }\\PY{o}{+}\\PY{+w}{ }\\PY{n}{i}\\PY{p}{;}\\PY{+w}{ }\\PY{n}{y}\\PY{p}{[}\\PY{n}{j}\\PY{p}{]}\\PY{p}{[}\\PY{n}{i}\\PY{p}{]}\\PY{+w}{ }\\PY{o}{=}\\PY{+w}{ }\\PY{l+m+mi}{0}\\PY{p}{;}\n",
       "\\PY{+w}{    }\\PY{p}{\\PYZcb{}}\n",
       "\\PY{+w}{  }\\PY{p}{\\PYZcb{}}\n",
       "\n",
       "\\PY{+w}{  }\\PY{n}{hooks\\PYZus{}region\\PYZus{}begin}\\PY{p}{(}\\PY{l+s}{\\PYZdq{}}\\PY{l+s}{example}\\PY{l+s}{\\PYZdq{}}\\PY{p}{)}\\PY{p}{;}\n",
       "\\PY{+w}{  }\\PY{k}{for}\\PY{+w}{ }\\PY{p}{(}\\PY{k+kt}{long}\\PY{+w}{ }\\PY{n}{i}\\PY{+w}{ }\\PY{o}{=}\\PY{+w}{ }\\PY{l+m+mi}{0}\\PY{p}{;}\\PY{+w}{ }\\PY{n}{i}\\PY{+w}{ }\\PY{o}{\\PYZlt{}}\\PY{+w}{ }\\PY{n}{num}\\PY{p}{;}\\PY{+w}{ }\\PY{n}{i}\\PY{o}{+}\\PY{o}{+}\\PY{p}{)}\\PY{+w}{ }\\PY{p}{\\PYZob{}}\n",
       "\\PY{+w}{    }\\PY{n}{cilk\\PYZus{}spawn\\PYZus{}at}\\PY{+w}{ }\\PY{p}{(}\\PY{n}{y}\\PY{p}{[}\\PY{n}{i}\\PY{p}{]}\\PY{p}{)}\\PY{+w}{ }\\PY{n}{saxpy}\\PY{p}{(}\\PY{n}{size}\\PY{p}{,}\\PY{+w}{ }\\PY{n}{aval}\\PY{p}{,}\\PY{+w}{ }\\PY{n}{x}\\PY{p}{[}\\PY{n}{i}\\PY{p}{]}\\PY{p}{,}\\PY{+w}{ }\\PY{n}{y}\\PY{p}{[}\\PY{n}{i}\\PY{p}{]}\\PY{p}{)}\\PY{p}{;}\n",
       "\\PY{+w}{  }\\PY{p}{\\PYZcb{}}\n",
       "\\PY{+w}{  }\\PY{n}{cilk\\PYZus{}sync}\\PY{p}{;}\n",
       "\n",
       "\\PY{+w}{  }\\PY{k+kt}{double}\\PY{+w}{ }\\PY{n}{time\\PYZus{}ms}\\PY{+w}{ }\\PY{o}{=}\\PY{+w}{ }\\PY{n}{hooks\\PYZus{}region\\PYZus{}end}\\PY{p}{(}\\PY{p}{)}\\PY{p}{;}\n",
       "\\PY{+w}{  }\\PY{n}{printf}\\PY{p}{(}\\PY{l+s}{\\PYZdq{}}\\PY{l+s}{time (ms) = \\PYZpc{}lf}\\PY{l+s+se}{\\PYZbs{}n}\\PY{l+s}{\\PYZdq{}}\\PY{p}{,}\\PY{+w}{ }\\PY{n}{time\\PYZus{}ms}\\PY{p}{)}\\PY{p}{;}\n",
       "\\PY{p}{\\PYZcb{}}\n",
       "\\end{Verbatim}\n"
      ],
      "text/plain": [
       "#include <stdio.h>\n",
       "#include <stdlib.h>\n",
       "#include <cilk/cilk.h>\n",
       "\n",
       "#include \"memoryweb.h\"\n",
       "#include <emu_c_utils/emu_c_utils.h>\n",
       "\n",
       "void saxpy(long n, float a, float *x, float *y)\n",
       "{\n",
       "  for (long i = 0; i < n; i++)\n",
       "    y[i] += a * x[i];\n",
       "}\n",
       "\n",
       "int main(int argc, char **argv)\n",
       "{\n",
       "  long num = atol(argv[1]); // number blocks\n",
       "  long size = atol(argv[2]); // block size\n",
       "  float aval = atof(argv[3]); // constant\n",
       "  float **x = mw_malloc2d(num, size * sizeof(*x));\n",
       "  float **y = mw_malloc2d(num, size * sizeof(*y));\n",
       "\n",
       "  for (long j = 0; j < num; j++) {\n",
       "    for (long i = 0; i < size; i++) {\n",
       "      x[j][i] = j * size + i; y[j][i] = 0;\n",
       "    }\n",
       "  }\n",
       "\n",
       "  hooks_region_begin(\"example\");\n",
       "  for (long i = 0; i < num; i++) {\n",
       "    cilk_spawn_at (y[i]) saxpy(size, aval, x[i], y[i]);\n",
       "  }\n",
       "  cilk_sync;\n",
       "\n",
       "  double time_ms = hooks_region_end();\n",
       "  printf(\"time (ms) = %lf\\n\", time_ms);\n",
       "}"
      ]
     },
     "execution_count": 2,
     "metadata": {},
     "output_type": "execute_result"
    }
   ],
   "source": [
    "Code('timing-hooks-saxpy.c')"
   ]
  },
  {
   "cell_type": "markdown",
   "metadata": {
    "tags": []
   },
   "source": [
    "### Profiling Output\n",
    "We can then compile and profile the code. This will generate a separate folder \"saxpy_profile\" with HTML output files that you can then investigate in further detail. \n",
    "\n",
    "Note that this process might take a long time! For this reason it is important to only scope the region of interest in your code that you want to gather statistics for. Simulation should take under 3 minutes."
   ]
  },
  {
   "cell_type": "code",
   "execution_count": 3,
   "metadata": {},
   "outputs": [],
   "source": [
    "%%bash\n",
    "FLAGS=\"-I/tools/lucata/pathfinder-sw/22.02/include/memoryweb/ -L/tools/lucata/pathfinder-sw/22.02/lib -lmemoryweb\"\n",
    "emu-cc -o timing-hooks-saxpy.mwx timing-hooks-saxpy.c -l emu_c_utils $FLAGS"
   ]
  },
  {
   "cell_type": "code",
   "execution_count": 4,
   "metadata": {},
   "outputs": [
    {
     "name": "stdout",
     "output_type": "stream",
     "text": [
      "Generating profile in saxpy_profile/timing-hooks-saxpy\n",
      "emusim.x  --total_nodes 2\n",
      "timing-hooks-saxpy.mwx 8 128 5.0\n",
      "Start untimed simulation with local date and time= Mon Sep 19 15:40:17 2022\n",
      "\n",
      "End untimed simulation with local date and time= Mon Sep 19 15:40:17 2022\n",
      "\n",
      "SysC Enumeration done. Program launching...\n",
      "Simulation @0 s with local date and time= Mon Sep 19 15:40:17 2022\n",
      "\n",
      "Simulation @1 ms with local date and time= Mon Sep 19 15:40:32 2022\n",
      "\n",
      "Simulation @2 ms with local date and time= Mon Sep 19 15:40:43 2022\n",
      "\n",
      "Simulation @3 ms with local date and time= Mon Sep 19 15:40:53 2022\n",
      "\n",
      "{\"region_name\":\"example\",\"time_ms\":0.46,\"ticks\":80665}\n",
      "Simulation @4 ms with local date and time= Mon Sep 19 15:41:03 2022\n",
      "\n",
      "time (ms) = 0.460943\n",
      "\n",
      "Info: /OSCI/SystemC: Simulation stopped by user.\n",
      "Generating saxpy_profile/timing-hooks-saxpy_total_instructions.png\n",
      "Generating saxpy_profile/timing-hooks-saxpy_total_migrations.png\n",
      "Generating saxpy_profile/timing-hooks-saxpy.Thread_Enqueue_Map.png\n",
      "Generating saxpy_profile/timing-hooks-saxpy.Memory_Read_Map.png\n",
      "Generating saxpy_profile/timing-hooks-saxpy.Memory_Write_Map.png\n",
      "Generating saxpy_profile/timing-hooks-saxpy.Atomic_Transaction_Map.png\n",
      "Generating saxpy_profile/timing-hooks-saxpy.Remote_Transaction_Map.png\n",
      "Generating saxpy_profile/timing-hooks-saxpy.Live_Threads.png\n",
      "Generating saxpy_profile/timing-hooks-saxpy.Thread_Activity.png\n",
      "Generating saxpy_profile/timing-hooks-saxpy.MSP_Activity.png\n",
      "Generating saxpy_profile/timing-hooks-saxpy.SRIO_Outgoing_Activity.png\n",
      "Generating saxpy_profile/timing-hooks-saxpy.SRIO_Incoming_Activity.png\n",
      "saxpy_profile/timing-hooks-saxpy.hpc does not exist, so no Hardware Performance Counter Plots will be generated\n",
      "Report written to saxpy_profile/timing-hooks-saxpy-report.html, you may open it in your browser now\n"
     ]
    },
    {
     "name": "stderr",
     "output_type": "stream",
     "text": [
      "\n",
      "        SystemC 2.3.3-Accellera --- Feb 22 2022 09:27:12\n",
      "        Copyright (c) 1996-2018 by all Contributors,\n",
      "        ALL RIGHTS RESERVED\n",
      "\n",
      "real\t2m15.931s\n",
      "user\t2m26.679s\n",
      "sys\t0m46.476s\n"
     ]
    }
   ],
   "source": [
    "%%bash\n",
    "time emusim_profile saxpy_profile --total_nodes 2 -- timing-hooks-saxpy.mwx 8 128 5.0 "
   ]
  },
  {
   "cell_type": "markdown",
   "metadata": {},
   "source": [
    "#### View Output\n",
    "\n",
    "This should have generated the file `saxpy_profile/timing-hooks-saxpy-report.html`. Use the Jupyter file browser to navigate to `saxpy_profile` and open the report in your browser.\n",
    "\n",
    "### Postcript\n",
    "\n",
    "Once we've finished our testing, we can clean up some of the logfiles that we used for this example with `make clean`. Uncomment the following line to clean this directory."
   ]
  },
  {
   "cell_type": "code",
   "execution_count": null,
   "metadata": {},
   "outputs": [],
   "source": [
    "#!make clean"
   ]
  }
 ],
 "metadata": {
  "kernelspec": {
   "display_name": "Python 3",
   "language": "python",
   "name": "python3"
  },
  "language_info": {
   "codemirror_mode": {
    "name": "ipython",
    "version": 3
   },
   "file_extension": ".py",
   "mimetype": "text/x-python",
   "name": "python",
   "nbconvert_exporter": "python",
   "pygments_lexer": "ipython3",
   "version": "3.6.8"
  }
 },
 "nbformat": 4,
 "nbformat_minor": 4
}
