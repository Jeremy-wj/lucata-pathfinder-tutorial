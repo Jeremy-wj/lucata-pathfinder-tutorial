{
 "cells": [
  {
   "cell_type": "markdown",
   "metadata": {},
   "source": [
    "# Hello World"
   ]
  },
  {
   "cell_type": "markdown",
   "metadata": {},
   "source": [
    "### Lesson Objectives\n",
    "\n",
    "Upon completing this notebook you should be able to understand and apply the following concepts:\n",
    "\n",
    "- How to set up your environment to use the Lucata toolchain to compile code\n",
    "- Understand the different Lucata tools including *emu-cc* and *emusim.x*.\n",
    "- Be able to run a simple Hello World script that spawns Emu threads and then syncs the result.\n",
    "- Run a simulation with timing that generates statistics.\n",
    "    - Compare some basic statistics for a naive and \"Lucata-aware\" memory layout."
   ]
  },
  {
   "cell_type": "markdown",
   "metadata": {},
   "source": [
    "### Environment Setup\n",
    "\n",
    "We first need to initialize our environment to use the Lucata toolchain. This toolchain allows you to compile Cilk code with x86, the Lucata simulator, and for hardware execution. Note that this notebook should load the toolchain using the included .env file, so this is just if you wanted to compile code on the command line."
   ]
  },
  {
   "cell_type": "code",
   "execution_count": 1,
   "metadata": {},
   "outputs": [
    {
     "name": "stdout",
     "output_type": "stream",
     "text": [
      "+ . /tools/emu/pathfinder-sw/set-lucata-env.sh\r\n",
      "+ LUCATA_TOOLCHAIN_BASE=/tools/emu/pathfinder-sw\r\n",
      "+ LUCATA_VERSION=22.02\r\n",
      "+ export LUCATA_TOOLCHAIN_DIR=/tools/emu/pathfinder-sw/22.02\r\n",
      "+ export PATH=/tools/emu/pathfinder-sw/22.02/bin:/nethome/jyoung9/.cargo/bin:/opt/slurm/current/bin/:/usr/local/go/bin:/usr/local/sbin:/usr/local/bin:/usr/sbin:/usr/bin:/sbin:/bin:/usr/games:/usr/local/games:/snap/bin:/nethome/jyoung9/go/bin:/nethome/jyoung9/.local/bin:/nethome/jyoung9/bin\r\n",
      "+ export LD_LIBRARY_PATH=/tools/emu/pathfinder-sw/22.02/lib:\r\n",
      "+ export LD_LIBRARY_PATH=/tools/emu/pathfinder-sw/22.02/lib::/usr/lib/x86_64-linux-gnu/\r\n",
      "+ echo Lucata tools are added to current path from /tools/emu/pathfinder-sw/22.02\r\n",
      "Lucata tools are added to current path from /tools/emu/pathfinder-sw/22.02\r\n",
      "+ set +x\r\n"
     ]
    }
   ],
   "source": [
    "!set -x;. /tools/emu/pathfinder-sw/set-lucata-env.sh; set +x"
   ]
  },
  {
   "cell_type": "markdown",
   "metadata": {},
   "source": [
    "For this and other notebooks, we will import the following environment variables - a pointer to the user's notebook code director and a pointer to the Lucata tools"
   ]
  },
  {
   "cell_type": "code",
   "execution_count": 2,
   "metadata": {},
   "outputs": [
    {
     "name": "stdout",
     "output_type": "stream",
     "text": [
      "/nethome/jyoung9/tmp/lucata-pathfinder-tutorial/code\n",
      "/tools/emu/pathfinder-sw/22.02/bin/emu-cc\n",
      "Lucata compilation flags are -I/tools/lucata/pathfinder-sw/22.02/include/memoryweb/ -L/tools/lucata/pathfinder-sw/22.02/lib -lmemoryweb\n"
     ]
    }
   ],
   "source": [
    "import os\n",
    "\n",
    "#Get the path to where all code samples are\n",
    "os.environ[\"USER_NOTEBOOK_CODE\"]=os.path.dirname(os.getcwd())\n",
    "os.environ[\"PATH\"]=os.pathsep.join([\"/tools/emu/pathfinder-sw/22.02/bin\",os.environ[\"PATH\"]])\n",
    "os.environ[\"FLAGS\"]=\"-I/tools/lucata/pathfinder-sw/22.02/include/memoryweb/ -L/tools/lucata/pathfinder-sw/22.02/lib -lmemoryweb\"\n",
    "\n",
    "!echo $USER_NOTEBOOK_CODE\n",
    "#Print out which Emu compiler, emu-cc, we are using\n",
    "!which emu-cc\n",
    "#Print out the compiler flags we need to use the Lucata memoryweb headers and library\n",
    "!echo \"Lucata compilation flags are $FLAGS\""
   ]
  },
  {
   "cell_type": "markdown",
   "metadata": {},
   "source": [
    "## Code Example 1 - Naive Hello World"
   ]
  },
  {
   "cell_type": "markdown",
   "metadata": {},
   "source": [
    "Here is a \"Hello, world\" example to start showing aspects of writing for the Emu. However, your first question might be related to the use of the mw_malloc1dlong array with a distributed system.\n",
    "\n",
    "Where does `ptr` itself live? Does computing `ptr[k]` cause a migration?\n",
    "\n",
    "```c\n",
    "#include <stdlib.h>\n",
    "#include <stdio.h>\n",
    "#include <string.h>\n",
    "#include <cilk.h>\n",
    "\n",
    "// These are Emu-specific.\n",
    "#include <memoryweb.h>\n",
    "#include <timing.h>\n",
    "\n",
    "static const char str[] = \"Hello, world!\";\n",
    "\n",
    "long * ptr;\n",
    "char * str_out;\n",
    "\n",
    "int main (void)\n",
    "{\n",
    "     // long is the reliable word length, 64-bits.\n",
    "     const long n = strlen (str) + 1;\n",
    "\n",
    "     ptr = mw_malloc1dlong (n); // striped across the nodelets\n",
    "     str_out = malloc (n * sizeof (char))); // entirely on the first nodelet\n",
    "\n",
    "     starttiming(); // For the simulator.  Start gathering stats here.\n",
    "\n",
    "     for (long k = 0; k < n; ++k)\n",
    "          ptr[k] = (long)str[k]; // Remote writes\n",
    "\n",
    "     for (long k = 0; k < n; ++k)\n",
    "          str_out[k] = (char)ptr[k]; // Migration and remote write...\n",
    "\n",
    "     printf(\"%s\\n\", str_out);  // Migration back\n",
    "}\n",
    "```\n",
    "\n"
   ]
  },
  {
   "cell_type": "markdown",
   "metadata": {},
   "source": [
    "###  Compilation and simulation for the Pathfinder\n",
    "We'll test compiling this example to show the syntax and then move on to a more optimized example. Note that the .mwx output can be used for simulation and execution on the Pathfinder system. \n",
    "\n",
    "We use `emu-cc` to compiler and `emusim.x` to run a System-C simulation of the application running on a Pathfinder with the specified memory and node paramters.\n",
    "\n",
    "It is also important to understand the following details:  \n",
    "* We defined $FLAGS up above to include the Lucata headers and libraries  \n",
    "* emusim.x takes a few parameters including the memory size (-m 21 for 1 MB) and the number of nodes to simulate (--total_nodes <N>). You can try changing the memory size (21 to 28) or number of nodes (1 to 8) to see how the simulation changes."
   ]
  },
  {
   "cell_type": "code",
   "execution_count": 3,
   "metadata": {},
   "outputs": [
    {
     "name": "stdout",
     "output_type": "stream",
     "text": [
      "hello-world-naive.mwx\n"
     ]
    }
   ],
   "source": [
    "%%bash\n",
    "emu-cc -o hello-world-naive.mwx $FLAGS hello-world-naive.c\n",
    "ls *.mwx"
   ]
  },
  {
   "cell_type": "code",
   "execution_count": 4,
   "metadata": {},
   "outputs": [
    {
     "name": "stdout",
     "output_type": "stream",
     "text": [
      "Start untimed simulation with local date and time= Wed Aug 31 14:10:59 2022\n",
      "\n",
      "Hello, world!\n",
      "End untimed simulation with local date and time= Wed Aug 31 14:10:59 2022\n",
      "\n"
     ]
    },
    {
     "name": "stderr",
     "output_type": "stream",
     "text": [
      "\n",
      "        SystemC 2.3.3-Accellera --- Feb 22 2022 09:27:12\n",
      "        Copyright (c) 1996-2018 by all Contributors,\n",
      "        ALL RIGHTS RESERVED\n"
     ]
    }
   ],
   "source": [
    "%%bash\n",
    "#Run a basic simulation with memory size 2^21, one node, and the naive Hello World executable as input\n",
    "emusim.x -m 21 --total_nodes 1 -- hello-world-naive.mwx"
   ]
  },
  {
   "cell_type": "markdown",
   "metadata": {},
   "source": [
    "## Code Example 2 - Hello World with Replication\n",
    "\n",
    "With the Lucata architecture, we often want to avoid spurious migrations by replicating data across nodes so that each node has a copy of the relevant data it needs. This improved sample in `hello-world/hello-world.c`, demonstrates the usage of the `replicated` type:\n",
    "\n",
    "```c\n",
    "#include <stdlib.h>\n",
    "#include <stdio.h>\n",
    "#include <string.h>\n",
    "#include <cilk.h>\n",
    "\n",
    "// These are Emu-specific.\n",
    "#include <memoryweb.h>\n",
    "#include <timing.h>\n",
    "\n",
    "static const char str[] = \"Hello, world!\";\n",
    "\n",
    "replicated long * ptr;\n",
    "replicated char * str_out;\n",
    "\n",
    "int main (void)\n",
    "{\n",
    "     // long is the reliable word length, 64-bits.\n",
    "     const long n = strlen (str) + 1;\n",
    "\n",
    "     // Allocating a copy of data on each nodelet typically reduces migrations for commonly accessed elements \n",
    "     mw_replicated_init ((long*)&ptr, (long)mw_malloc1dlong (n));\n",
    "     mw_replicated_init ((long*)&str_out, (long)malloc (n * sizeof (char)));\n",
    "\n",
    "     starttiming(); // For the simulator.  Start gathering stats here.\n",
    "\n",
    "     for (long k = 0; k < n; ++k)\n",
    "          ptr[k] = (long)str[k]; // Remote writes\n",
    "\n",
    "     for (long k = 0; k < n; ++k)\n",
    "          str_out[k] = (char)ptr[k]; // Migration and remote write\n",
    "\n",
    "     printf(\"%s\\n\", str_out);  // Migration back\n",
    "}\n",
    "``` "
   ]
  },
  {
   "cell_type": "markdown",
   "metadata": {},
   "source": [
    "### Compiling and Simulating Hello World with Replication\n",
    "\n",
    "Here we show how to compile the \"Lucata-aware\" hello world example and to run it with the simulator. "
   ]
  },
  {
   "cell_type": "code",
   "execution_count": 5,
   "metadata": {},
   "outputs": [
    {
     "name": "stdout",
     "output_type": "stream",
     "text": [
      "hello-world.mwx\n",
      "hello-world-naive.mwx\n"
     ]
    }
   ],
   "source": [
    "%%bash\n",
    "emu-cc -o hello-world.mwx $FLAGS hello-world.c\n",
    "ls *.mwx"
   ]
  },
  {
   "cell_type": "code",
   "execution_count": 6,
   "metadata": {},
   "outputs": [
    {
     "name": "stdout",
     "output_type": "stream",
     "text": [
      "Start untimed simulation with local date and time= Wed Aug 31 14:11:01 2022\n",
      "\n",
      "End untimed simulation with local date and time= Wed Aug 31 14:11:01 2022\n",
      "\n",
      "SysC Enumeration done. Program launching...\n",
      "Simulation @0 s with local date and time= Wed Aug 31 14:11:01 2022\n",
      "\n",
      "Hello, world!\n",
      "\n",
      "Info: /OSCI/SystemC: Simulation stopped by user.\n"
     ]
    },
    {
     "name": "stderr",
     "output_type": "stream",
     "text": [
      "\n",
      "        SystemC 2.3.3-Accellera --- Feb 22 2022 09:27:12\n",
      "        Copyright (c) 1996-2018 by all Contributors,\n",
      "        ALL RIGHTS RESERVED\n"
     ]
    }
   ],
   "source": [
    "%%bash\n",
    "emusim.x -m 21 --total_nodes 1 -- hello-world.mwx"
   ]
  },
  {
   "cell_type": "markdown",
   "metadata": {},
   "source": [
    "## Hello World Spawn Example\n",
    "\n",
    "That example kept one thread alive and migrating between nodelets.  This next example, hello-world-spawn.c, uses Cilk's thread spawning intrinsic along with replicated memory.\n",
    "\n",
    "```c\n",
    "#include <stdlib.h>\n",
    "#include <stdio.h>\n",
    "#include <string.h>\n",
    "#include <cilk.h>\n",
    "\n",
    "#include <memoryweb.h>\n",
    "#include <timing.h>\n",
    "\n",
    "const char str[] = \"Hello, world!\";\n",
    "\n",
    "static inline void copy_ptr (char *pc, const long *pl) { *pc = (char)*pl; }\n",
    "\n",
    "replicated long * ptr;\n",
    "replicated char * str_out;\n",
    "\n",
    "int main (void)\n",
    "{\n",
    "     long n = strlen (str) + 1;\n",
    "\n",
    "     mw_replicated_init ((long*)&ptr, (long)mw_malloc1dlong (n));\n",
    "     mw_replicated_init ((long*)&str_out, (long)malloc (n * sizeof (char)));\n",
    "\n",
    "     starttiming();\n",
    "\n",
    "     for (long k = 0; k < n; ++k)\n",
    "          ptr[k] = (long)str[k]; // Remote writes\n",
    "\n",
    "     for (long k = 0; k < n; ++k)\n",
    "          cilk_spawn copy_ptr (&str_out[k], &ptr[k]);\n",
    "\n",
    "     printf(\"%s\\n\", str_out);  // Migration back\n",
    "}\n",
    "```"
   ]
  },
  {
   "cell_type": "code",
   "execution_count": 7,
   "metadata": {},
   "outputs": [
    {
     "name": "stdout",
     "output_type": "stream",
     "text": [
      "Start untimed simulation with local date and time= Wed Aug 31 14:11:04 2022\n",
      "\n",
      "End untimed simulation with local date and time= Wed Aug 31 14:11:04 2022\n",
      "\n",
      "SysC Enumeration done. Program launching...\n",
      "Simulation @0 s with local date and time= Wed Aug 31 14:11:04 2022\n",
      "\n",
      "Hello, world!\n",
      "\n",
      "Info: /OSCI/SystemC: Simulation stopped by user.\n",
      "hello-world-spawn.c\n",
      "hello-world-spawn.cdc\n",
      "hello-world-spawn.mps\n",
      "hello-world-spawn.mwx\n",
      "hello-world-spawn.vsf\n"
     ]
    },
    {
     "name": "stderr",
     "output_type": "stream",
     "text": [
      "\n",
      "        SystemC 2.3.3-Accellera --- Feb 22 2022 09:27:12\n",
      "        Copyright (c) 1996-2018 by all Contributors,\n",
      "        ALL RIGHTS RESERVED\n"
     ]
    }
   ],
   "source": [
    "%%bash\n",
    "\n",
    "#Compile the code\n",
    "emu-cc -o hello-world-spawn.mwx $FLAGS hello-world-spawn.c\n",
    "#Note that we are simulating this with at least 4 nodes! This should give us different statistics than the previous examples\n",
    "emusim.x -m 21 --total_nodes 4 -- hello-world-spawn.mwx\n",
    "#Then we can print out all the output files that were generated.\n",
    "ls hello-world-spawn.*"
   ]
  },
  {
   "cell_type": "markdown",
   "metadata": {},
   "source": [
    "### Simple Comparison  \n",
    "Then we can compare the output of the normal Hello World and the Spawn Hello World for the statistics that are different. The files labeled `*.cdc` have some basic statistics about the simulated system that will change with memory allocation type (naive or replicated) and system size (1 to 8 nodes)."
   ]
  },
  {
   "cell_type": "code",
   "execution_count": 8,
   "metadata": {},
   "outputs": [
    {
     "name": "stdout",
     "output_type": "stream",
     "text": [
      "hello-world.cdc\n",
      "hello-world-naive.cdc\n",
      "hello-world-spawn.cdc\n"
     ]
    }
   ],
   "source": [
    "%%bash\n",
    "#Print out all the .cdc files we generated\n",
    "ls *.cdc"
   ]
  },
  {
   "cell_type": "code",
   "execution_count": 9,
   "metadata": {},
   "outputs": [
    {
     "name": "stdout",
     "output_type": "stream",
     "text": [
      "************************************************\n",
      "Program Name/Arguments: \n",
      "hello-world-spawn.mwx \n",
      "************************************************\n",
      "Simulator Version: 22.2.22\n",
      "************************************************\n",
      "Configuration Details:\n",
      "Ring Model = Stratix: 3 GC Clusters, 8 MSPs\n",
      "Number of Nodes=4\n",
      "Total Memory (in MiB)=8\n",
      "Logical MSPs per Node=1\n",
      "Log2 Memory Size per MSP=21\n",
      "GC Clusters per Node=3\n",
      "GCs per Cluster=8\n",
      "Capture queue depths=false\n",
      "Core Clock=180 MHz, Pd=5.556\n",
      "Memory DDR4-2133: Bandwidth = 1.886 GiB/s = 2.025 GB/s\n",
      "SRIO SystemIC bandwidth=2.32 GiB/s (2.5GB/s)\n",
      "************************************************\n",
      "PROGRAM ENDED.\n",
      "Emu system run time 0.000624 sec==624494400 ps\n",
      "System thread counts:\n",
      "\tactive=1, created=15, died=14,\n",
      "\tmax live=4 first occurred @47808552 ps with prog 7.66% complete\n",
      "\tand last occurred @47808552 ps with prog 11.6% complete\n",
      "Num_Core_Cycles=112400\n",
      "Num_SRIO_Cycles=390309\n",
      "Num_Mem_Cycles=158099\n",
      "************************************************\n",
      "************************************************\n",
      "Simulator wall clock time (seconds): 9\n"
     ]
    }
   ],
   "source": [
    "%%bash\n",
    "less hello-world-spawn.cdc"
   ]
  },
  {
   "cell_type": "markdown",
   "metadata": {},
   "source": [
    "Note what changes in this file between the normal \"replicated\" Hello World and the \"replicated+spawn\" version of the code.  \n",
    "* We simulate with a different number of nodes so we used a different amount of memory\n",
    "* The larger simulation takes a bit longer to run and shows different statistics for the `active` threads and progession."
   ]
  },
  {
   "cell_type": "code",
   "execution_count": 10,
   "metadata": {},
   "outputs": [
    {
     "name": "stdout",
     "output_type": "stream",
     "text": [
      "3c3\n",
      "< hello-world.mwx \n",
      "---\n",
      "> hello-world-spawn.mwx \n",
      "9,10c9,10\n",
      "< Number of Nodes=1\n",
      "< Total Memory (in MiB)=2\n",
      "---\n",
      "> Number of Nodes=4\n",
      "> Total Memory (in MiB)=8\n",
      "21c21\n",
      "< Emu system run time 0.000623 sec==623383200 ps\n",
      "---\n",
      "> Emu system run time 0.000624 sec==624494400 ps\n",
      "23,28c23,28\n",
      "< \tactive=1, created=1, died=0,\n",
      "< \tmax live=1 first occurred @0 s with prog 0% complete\n",
      "< \tand last occurred @0 s with prog 0% complete\n",
      "< Num_Core_Cycles=112200\n",
      "< Num_SRIO_Cycles=389614\n",
      "< Num_Mem_Cycles=157818\n",
      "---\n",
      "> \tactive=1, created=15, died=14,\n",
      "> \tmax live=4 first occurred @47808552 ps with prog 7.66% complete\n",
      "> \tand last occurred @47808552 ps with prog 11.6% complete\n",
      "> Num_Core_Cycles=112400\n",
      "> Num_SRIO_Cycles=390309\n",
      "> Num_Mem_Cycles=158099\n",
      "31c31\n",
      "< Simulator wall clock time (seconds): 1\n",
      "---\n",
      "> Simulator wall clock time (seconds): 9\n"
     ]
    }
   ],
   "source": [
    "%%bash\n",
    "diff hello-world.cdc hello-world-spawn.cdc"
   ]
  },
  {
   "cell_type": "markdown",
   "metadata": {},
   "source": [
    "### Cleanup  \n",
    "Finally we can clean up our code directory and the output files using the included Makefile in this directory."
   ]
  },
  {
   "cell_type": "code",
   "execution_count": 11,
   "metadata": {},
   "outputs": [
    {
     "name": "stdout",
     "output_type": "stream",
     "text": [
      "rm -f *.mwx *.tqd *.cdc *.vsf *.mps; \\\r\n",
      "./helpers/backup_imgs.sh\r\n"
     ]
    }
   ],
   "source": [
    "!make clean"
   ]
  },
  {
   "cell_type": "markdown",
   "metadata": {},
   "source": [
    "### Exercises\n",
    "To further your understanding of this topic we encourage you to try the following:  \n",
    "1) Restart the notebook and change the memory size and numbers of nodes that are simulated. How do the statistics change?  \n",
    "2) Investigate the other output files like the `.vsf` file and understand how they are different for different applications. More details on these files can be found in the "
   ]
  }
 ],
 "metadata": {
  "kernelspec": {
   "display_name": "Python 3",
   "language": "python",
   "name": "python3"
  },
  "language_info": {
   "codemirror_mode": {
    "name": "ipython",
    "version": 3
   },
   "file_extension": ".py",
   "mimetype": "text/x-python",
   "name": "python",
   "nbconvert_exporter": "python",
   "pygments_lexer": "ipython3",
   "version": "3.6.9"
  }
 },
 "nbformat": 4,
 "nbformat_minor": 4
}
