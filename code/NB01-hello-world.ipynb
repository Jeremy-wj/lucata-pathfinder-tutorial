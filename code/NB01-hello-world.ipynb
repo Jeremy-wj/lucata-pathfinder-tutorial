{
 "cells": [
  {
   "cell_type": "markdown",
   "metadata": {},
   "source": [
    "# Hello World"
   ]
  },
  {
   "cell_type": "markdown",
   "metadata": {},
   "source": [
    "We first need to initialize our environment to use the Lucata toolchain. This toolchain allows you to compile Cilk code with x86, the Lucata simulator, and for hardware execution. Note that this notebook should load the toolchain using the included .env file, so this is just if you wanted to compile code on the command line.\n"
   ]
  },
  {
   "cell_type": "code",
   "execution_count": null,
   "metadata": {},
   "outputs": [],
   "source": [
    "!. /tools/emu/pathfinder-sw/set-lucata-env.sh\n",
    "!which emu-cc"
   ]
  },
  {
   "cell_type": "markdown",
   "metadata": {},
   "source": [
    "For this and other notebooks, we will import the following environment variables - a pointer to the user's notebook code director and a pointer to the Lucata tools"
   ]
  },
  {
   "cell_type": "code",
   "execution_count": null,
   "metadata": {},
   "outputs": [],
   "source": [
    "import os\n",
    "\n",
    "#Get the path to where all code samples are\n",
    "os.environ[\"USER_NOTEBOOK_CODE\"]=os.path.dirname(os.getcwd())\n",
    "os.environ[\"PATH\"]=os.pathsep.join([\"/tools/emu/pathfinder-sw/22.02/bin\",os.environ[\"PATH\"]])\n",
    "\n",
    "!echo $USER_NOTEBOOK_CODE"
   ]
  },
  {
   "cell_type": "markdown",
   "metadata": {},
   "source": [
    "## Naive Hello World"
   ]
  },
  {
   "cell_type": "markdown",
   "metadata": {},
   "source": [
    "Here is a \"Hello, world\" example to start showing aspects of writing for the Emu. However, your first question might be related to the use of the mw_malloc1dlong array with a distributed system.\n",
    "\n",
    "Where does `ptr` itself live? Does computing `ptr[k]` cause a migration?\n",
    "\n",
    "```c\n",
    "#include <stdlib.h>\n",
    "#include <stdio.h>\n",
    "#include <string.h>\n",
    "#include <cilk.h>\n",
    "\n",
    "// These are Emu-specific.\n",
    "#include <memoryweb.h>\n",
    "#include <timing.h>\n",
    "\n",
    "static const char str[] = \"Hello, world!\";\n",
    "\n",
    "long * ptr;\n",
    "char * str_out;\n",
    "\n",
    "int main (void)\n",
    "{\n",
    "     // long is the reliable word length, 64-bits.\n",
    "     const long n = strlen (str) + 1;\n",
    "\n",
    "     ptr = mw_malloc1dlong (n); // striped across the nodelets\n",
    "     str_out = malloc (n * sizeof (char))); // entirely on the first nodelet\n",
    "\n",
    "     starttiming(); // For the simulator.  Start gathering stats here.\n",
    "\n",
    "     for (long k = 0; k < n; ++k)\n",
    "          ptr[k] = (long)str[k]; // Remote writes\n",
    "\n",
    "     for (long k = 0; k < n; ++k)\n",
    "          str_out[k] = (char)ptr[k]; // Migration and remote write...\n",
    "\n",
    "     printf(\"%s\\n\", str_out);  // Migration back\n",
    "}\n",
    "```\n",
    "\n"
   ]
  },
  {
   "cell_type": "markdown",
   "metadata": {},
   "source": [
    "We'll test compiling this example to show the syntax and then move on to a more optimized example. Note that the .mwx output can be used for simulation and execution on the Pathfinder system."
   ]
  },
  {
   "cell_type": "code",
   "execution_count": null,
   "metadata": {},
   "outputs": [],
   "source": [
    "%%bash\n",
    "cd ${USER_NOTEBOOK_CODE}/01-hello-world\n",
    "FLAGS=\"-I/tools/lucata/pathfinder-sw/22.02/include/memoryweb/ -L/tools/lucata/pathfinder-sw/22.02/lib -lmemoryweb\"\n",
    "emu-cc -o hello-world-naive.mwx $FLAGS hello-world-naive.c\n",
    "ls *.mwx"
   ]
  },
  {
   "cell_type": "markdown",
   "metadata": {},
   "source": [
    "## Hello World\n",
    "\n",
    "With the Lucata architecture, we often want to avoid spurious migrations by replicating data across nodes so that each node has a copy of the relevant data it needs. This improved sample in `hello-world/hello-world.c`, demonstrates the usage of the `replicated` type:\n",
    "\n",
    "```c\n",
    "#include <stdlib.h>\n",
    "#include <stdio.h>\n",
    "#include <string.h>\n",
    "#include <cilk.h>\n",
    "\n",
    "// These are Emu-specific.\n",
    "#include <memoryweb.h>\n",
    "#include <timing.h>\n",
    "\n",
    "static const char str[] = \"Hello, world!\";\n",
    "\n",
    "replicated long * ptr;\n",
    "replicated char * str_out;\n",
    "\n",
    "int main (void)\n",
    "{\n",
    "     // long is the reliable word length, 64-bits.\n",
    "     const long n = strlen (str) + 1;\n",
    "\n",
    "     /* Allocating a copy on each nodelet reduces migrations in theory.\n",
    "        In *this* case, the pointers stay in registers and do not trigger migration.\n",
    "        But that's up to compiler register allocation... */\n",
    "     mw_replicated_init ((long*)&ptr, (long)mw_malloc1dlong (n));\n",
    "     mw_replicated_init ((long*)&str_out, (long)malloc (n * sizeof (char)));\n",
    "\n",
    "     starttiming(); // For the simulator.  Start gathering stats here.\n",
    "\n",
    "     for (long k = 0; k < n; ++k)\n",
    "          ptr[k] = (long)str[k]; // Remote writes\n",
    "\n",
    "     for (long k = 0; k < n; ++k)\n",
    "          str_out[k] = (char)ptr[k]; // Migration and remote write\n",
    "\n",
    "     printf(\"%s\\n\", str_out);  // Migration back\n",
    "}\n",
    "```\n",
    "Let's compile and simulate this one. "
   ]
  },
  {
   "cell_type": "code",
   "execution_count": null,
   "metadata": {},
   "outputs": [],
   "source": [
    "%%bash\n",
    ". /tools/emu/pathfinder-sw/set-lucata-env.sh\n",
    "FLAGS=\"-I/tools/lucata/pathfinder-sw/22.02/include/memoryweb/ -L/tools/lucata/pathfinder-sw/22.02/lib -lmemoryweb\"\n",
    "emu-cc -o hello-world.mwx $FLAGS hello-world.c\n",
    "ls *.mwx"
   ]
  },
  {
   "cell_type": "markdown",
   "metadata": {},
   "source": [
    "Note that we are using the \"capture_timing_queues\" and \"output_instruction_count\" flags to generate some added data from the simulator. These generate tqd and uis files respectively."
   ]
  },
  {
   "cell_type": "code",
   "execution_count": null,
   "metadata": {},
   "outputs": [],
   "source": [
    "%%bash\n",
    ". /tools/emu/pathfinder-sw/set-lucata-env.sh\n",
    "emusim.x --capture_timing_queues -m 20 --total_nodes 1 --output_instruction_count -- hello-world.mwx"
   ]
  },
  {
   "cell_type": "code",
   "execution_count": null,
   "metadata": {},
   "outputs": [],
   "source": [
    "!ls hello-world.*"
   ]
  },
  {
   "cell_type": "markdown",
   "metadata": {},
   "source": [
    "We now have several different output files. These are detailed in Ch. 7.6 of the Programming Guide and are as follows:\n",
    "* hello-world.mwx - Lucata executable\n",
    "* hello-world.cdc - Configuration data output file; includes system information and wall-clock time\n",
    "* hello-world.mps - Memory map output; shows memory operation types and thread enqueuing\n",
    "* hello-world.tqd - Timed activity tracing; includes live threads, thread activity counts, and requests\n",
    "* hello-world.uis - Instruction count statistics; shows the number of instructions per function in the application and number of migrations\n",
    "* hello-world.vsf - Verbose statistics information; advanced counter statistics for debugging bottlenecks\n",
    "\n",
    "These files can be used with plotting tools to provide detailed output on the simulation of the application."
   ]
  },
  {
   "cell_type": "code",
   "execution_count": null,
   "metadata": {},
   "outputs": [],
   "source": [
    "%%bash\n",
    ". /tools/emu/pathfinder-sw/set-lucata-env.sh\n",
    "make_tqd_plots.py hello-world.tqd"
   ]
  },
  {
   "cell_type": "code",
   "execution_count": null,
   "metadata": {},
   "outputs": [],
   "source": [
    "from IPython.display import Image, display\n",
    "display(Image(filename=\"hello-world.Live_Threads.png\"))\n",
    "display(Image(filename=\"hello-world.Thread_Activity.png\"))\n",
    "display(Image(filename=\"hello-world.MSP_Activity.png\"))"
   ]
  },
  {
   "cell_type": "code",
   "execution_count": null,
   "metadata": {},
   "outputs": [],
   "source": [
    "%%bash\n",
    ". /tools/emu/pathfinder-sw/set-lucata-env.sh\n",
    "make_map_plots.py hello-world.mps"
   ]
  },
  {
   "cell_type": "code",
   "execution_count": null,
   "metadata": {},
   "outputs": [],
   "source": [
    "display(Image(filename=\"hello-world.Thread_Enqueue_Map.png\"))\n",
    "display(Image(filename=\"hello-world.Memory_Read_Map.png\"))\n",
    "display(Image(filename=\"hello-world.Memory_Write_Map.png\"))\n",
    "display(Image(filename=\"hello-world.Atomic_Transaction_Map.png\"))\n",
    "display(Image(filename=\"hello-world.Remote_Transaction_Map.png\"))"
   ]
  },
  {
   "cell_type": "code",
   "execution_count": null,
   "metadata": {},
   "outputs": [],
   "source": [
    "%%bash\n",
    ". /tools/emu/tutorial-env.sh\n",
    "make_uis_plots.py hello-world.uis"
   ]
  },
  {
   "cell_type": "code",
   "execution_count": null,
   "metadata": {
    "tags": []
   },
   "outputs": [],
   "source": [
    "display(Image(filename=\"hello-world_total_instructions.png\"))"
   ]
  },
  {
   "cell_type": "markdown",
   "metadata": {},
   "source": [
    "## Hello World Spawn Example\n",
    "\n",
    "That example kept one thread alive and migrating between nodelets.  This one, hello-world-spawn.c, uses Cilk's thread spawning intrinsic:\n",
    "\n",
    "```c\n",
    "#include <stdlib.h>\n",
    "#include <stdio.h>\n",
    "#include <string.h>\n",
    "#include <cilk.h>\n",
    "\n",
    "#include <memoryweb.h>\n",
    "#include <timing.h>\n",
    "\n",
    "const char str[] = \"Hello, world!\";\n",
    "\n",
    "static inline void copy_ptr (char *pc, const long *pl) { *pc = (char)*pl; }\n",
    "\n",
    "replicated long * ptr;\n",
    "replicated char * str_out;\n",
    "\n",
    "int main (void)\n",
    "{\n",
    "     long n = strlen (str) + 1;\n",
    "\n",
    "     mw_replicated_init ((long*)&ptr, (long)mw_malloc1dlong (n));\n",
    "     mw_replicated_init ((long*)&str_out, (long)malloc (n * sizeof (char)));\n",
    "\n",
    "     starttiming();\n",
    "\n",
    "     for (long k = 0; k < n; ++k)\n",
    "          ptr[k] = (long)str[k]; // Remote writes\n",
    "\n",
    "     for (long k = 0; k < n; ++k)\n",
    "          cilk_spawn copy_ptr (&str_out[k], &ptr[k]);\n",
    "\n",
    "     printf(\"%s\\n\", str_out);  // Migration back\n",
    "}\n",
    "```"
   ]
  },
  {
   "cell_type": "code",
   "execution_count": null,
   "metadata": {},
   "outputs": [],
   "source": [
    "%%bash\n",
    ". /tools/emu/pathfinder-sw/set-lucata-env.sh\n",
    "emu-cc -o hello-world-spawn.mwx hello-world-spawn.c\n",
    "emusim.x --capture_timing_queues --output_instruction_count -- hello-world-spawn.mwx\n",
    "ls hello-world-spawn*\n",
    "make_tqd_plots.py hello-world-spawn.tqd\n",
    "make_map_plots.py hello-world-spawn.mps\n",
    "make_uis_plots.py hello-world-spawn.uis"
   ]
  },
  {
   "cell_type": "markdown",
   "metadata": {},
   "source": [
    "Then we can compare the output of the normal Hello World and the Spawn Hello World for the statistics that are different."
   ]
  },
  {
   "cell_type": "code",
   "execution_count": null,
   "metadata": {},
   "outputs": [],
   "source": [
    "display(Image(filename=\"hello-world.Live_Threads.png\"))\n",
    "display(Image(filename=\"hello-world-spawn.Live_Threads.png\"))\n",
    "display(Image(filename=\"hello-world.Thread_Activity.png\"))\n",
    "display(Image(filename=\"hello-world-spawn.Thread_Activity.png\"))\n",
    "display(Image(filename=\"hello-world.MSP_Activity.png\"))\n",
    "display(Image(filename=\"hello-world-spawn.MSP_Activity.png\"))\n",
    "display(Image(filename=\"hello-world_total_instructions.png\"))\n",
    "display(Image(filename=\"hello-world-spawn_total_instructions.png\"))"
   ]
  },
  {
   "cell_type": "markdown",
   "metadata": {},
   "source": [
    "## Advanced Implementation - Spawn At\n",
    "\n",
    "This example just shows one additional variation of using a `cilk_spawn_at` call to spawn threads at a remote node\n",
    "\n",
    "```c\n",
    "#include <stdlib.h>\n",
    "#include <stdio.h>\n",
    "#include <string.h>\n",
    "#include <cilk.h>\n",
    "\n",
    "#include <memoryweb.h>\n",
    "#include <timing.h>\n",
    "\n",
    "static const char str[] = \"Hello, world!\";\n",
    "\n",
    "static inline void copy_ptr (char *pc, const long *pl) { *pc = (char)*pl; }\n",
    "\n",
    "replicated long * ptr;\n",
    "replicated char * str_out;\n",
    "\n",
    "int main (void)\n",
    "{\n",
    "     long n = strlen (str) + 1;\n",
    "\n",
    "     mw_replicated_init ((long*)&ptr, (long)mw_malloc1dlong (n));\n",
    "     mw_replicated_init ((long*)&str_out, (long)malloc (n * sizeof (char)));\n",
    "\n",
    "     starttiming();\n",
    "\n",
    "     for (long k = 0; k < n; ++k)\n",
    "          ptr[k] = (long)str[k]; // Remote writes\n",
    "\n",
    "     for (long k = 0; k < n; ++k) {\n",
    "          cilk_spawn_at(&ptr[k]) copy_ptr (&str_out[k], &ptr[k]);\n",
    "     }\n",
    "\n",
    "     printf(\"%s\\n\", str_out);  // Migration back\n",
    "}\n",
    "```"
   ]
  },
  {
   "cell_type": "code",
   "execution_count": null,
   "metadata": {},
   "outputs": [],
   "source": [
    "%%bash\n",
    ". /tools/emu/pathfinder-sw/set-lucata-env.sh\n",
    "emu-cc -o hello-world-spawn-at.mwx hello-world-spawn-at.c\n",
    "emusim.x --capture_timing_queues --output_instruction_count -- hello-world-spawn-at.mwx\n",
    "ls hello-world-spawn-at*\n",
    "make_map_plots.py hello-world-spawn-at.mps\n",
    "make_tqd_plots.py hello-world-spawn-at.tqd\n",
    "make_uis_plots.py hello-world-spawn-at.uis"
   ]
  },
  {
   "cell_type": "code",
   "execution_count": null,
   "metadata": {},
   "outputs": [],
   "source": [
    "display(Image(filename=\"hello-world.Live_Threads.png\"))\n",
    "display(Image(filename=\"hello-world-spawn-at.Live_Threads.png\"))\n",
    "display(Image(filename=\"hello-world.Thread_Activity.png\"))\n",
    "display(Image(filename=\"hello-world-spawn-at.Thread_Activity.png\"))\n",
    "display(Image(filename=\"hello-world.MSP_Activity.png\"))\n",
    "display(Image(filename=\"hello-world-spawn-at.MSP_Activity.png\"))\n",
    "display(Image(filename=\"hello-world_total_instructions.png\"))\n",
    "display(Image(filename=\"hello-world-spawn-at_total_instructions.png\"))"
   ]
  },
  {
   "cell_type": "markdown",
   "metadata": {},
   "source": [
    "Once we've finished our testing, we can then clean up some of the logfiles that we used for this example. Here we'll run `make clean` to save our figures in a separate directory and finish this demo."
   ]
  },
  {
   "cell_type": "code",
   "execution_count": null,
   "metadata": {},
   "outputs": [],
   "source": [
    "!make clean"
   ]
  }
 ],
 "metadata": {
  "kernelspec": {
   "display_name": "Python 3",
   "language": "python",
   "name": "python3"
  },
  "language_info": {
   "codemirror_mode": {
    "name": "ipython",
    "version": 3
   },
   "file_extension": ".py",
   "mimetype": "text/x-python",
   "name": "python",
   "nbconvert_exporter": "python",
   "pygments_lexer": "ipython3",
   "version": "3.8.10"
  }
 },
 "nbformat": 4,
 "nbformat_minor": 4
}
